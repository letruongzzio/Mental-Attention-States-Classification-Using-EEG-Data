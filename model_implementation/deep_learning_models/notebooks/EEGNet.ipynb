{
 "cells": [
  {
   "cell_type": "markdown",
   "id": "2fd56369",
   "metadata": {
    "papermill": {
     "duration": 0.004985,
     "end_time": "2024-12-25T12:05:19.701417",
     "exception": false,
     "start_time": "2024-12-25T12:05:19.696432",
     "status": "completed"
    },
    "tags": []
   },
   "source": [
    "## Introduction\n",
    "This notebook builds an EEGNet model to classify states from EEG data. The process includes the steps: data input, normalization, model construction, training, and evaluation."
   ]
  },
  {
   "cell_type": "code",
   "execution_count": 1,
   "id": "e0ceeab0",
   "metadata": {
    "execution": {
     "iopub.execute_input": "2024-12-25T12:05:19.711411Z",
     "iopub.status.busy": "2024-12-25T12:05:19.711017Z",
     "iopub.status.idle": "2024-12-25T12:05:35.359381Z",
     "shell.execute_reply": "2024-12-25T12:05:35.358407Z"
    },
    "papermill": {
     "duration": 15.656252,
     "end_time": "2024-12-25T12:05:35.361936",
     "exception": false,
     "start_time": "2024-12-25T12:05:19.705684",
     "status": "completed"
    },
    "tags": []
   },
   "outputs": [],
   "source": [
    "import sys\n",
    "import pandas as pd\n",
    "import numpy as np\n",
    "import os\n",
    "import seaborn as sns\n",
    "import matplotlib.pyplot as plt\n",
    "import tensorflow as tf\n",
    "from sklearn.metrics import accuracy_score, classification_report, confusion_matrix, roc_curve, auc\n",
    "from sklearn.model_selection import train_test_split\n",
    "from sklearn.preprocessing import MinMaxScaler, LabelEncoder\n",
    "from tensorflow.keras.models import Model\n",
    "from tensorflow.keras.layers import Dense, Activation, Permute, Dropout\n",
    "from tensorflow.keras.layers import Conv2D, MaxPooling2D, AveragePooling2D\n",
    "from tensorflow.keras.layers import SeparableConv2D, DepthwiseConv2D\n",
    "from tensorflow.keras.layers import BatchNormalization\n",
    "from tensorflow.keras.layers import SpatialDropout2D\n",
    "from tensorflow.keras.regularizers import l1_l2\n",
    "from tensorflow.keras.layers import Input, Flatten\n",
    "from tensorflow.keras.constraints import max_norm\n",
    "from tensorflow.keras import backend as K\n",
    "from tensorflow.keras.utils import to_categorical\n",
    "from tensorflow.keras.optimizers import Adam"
   ]
  },
  {
   "cell_type": "markdown",
   "id": "70ea58f2",
   "metadata": {
    "papermill": {
     "duration": 0.00391,
     "end_time": "2024-12-25T12:05:35.370242",
     "exception": false,
     "start_time": "2024-12-25T12:05:35.366332",
     "status": "completed"
    },
    "tags": []
   },
   "source": [
    "## Load dataset"
   ]
  },
  {
   "cell_type": "code",
   "execution_count": 2,
   "id": "3244641e",
   "metadata": {
    "execution": {
     "iopub.execute_input": "2024-12-25T12:05:35.380282Z",
     "iopub.status.busy": "2024-12-25T12:05:35.379634Z",
     "iopub.status.idle": "2024-12-25T12:05:54.595786Z",
     "shell.execute_reply": "2024-12-25T12:05:54.594649Z"
    },
    "papermill": {
     "duration": 19.223519,
     "end_time": "2024-12-25T12:05:54.597895",
     "exception": false,
     "start_time": "2024-12-25T12:05:35.374376",
     "status": "completed"
    },
    "tags": []
   },
   "outputs": [
    {
     "name": "stdout",
     "output_type": "stream",
     "text": [
      "Train shape: (40161, 204), Test shape: (154617, 204)\n"
     ]
    }
   ],
   "source": [
    "df_train = pd.read_csv('/kaggle/input/eeg-test/df_train_chia2.csv')\n",
    "df_test = pd.read_csv('/kaggle/input/eeg-test/df_test_chia2.csv')\n",
    "print(f\"Train shape: {df_train.shape}, Test shape: {df_test.shape}\")"
   ]
  },
  {
   "cell_type": "code",
   "execution_count": 3,
   "id": "6f6cb0d2",
   "metadata": {
    "execution": {
     "iopub.execute_input": "2024-12-25T12:05:54.607945Z",
     "iopub.status.busy": "2024-12-25T12:05:54.607567Z",
     "iopub.status.idle": "2024-12-25T12:05:54.612070Z",
     "shell.execute_reply": "2024-12-25T12:05:54.611135Z"
    },
    "papermill": {
     "duration": 0.012033,
     "end_time": "2024-12-25T12:05:54.614164",
     "exception": false,
     "start_time": "2024-12-25T12:05:54.602131",
     "status": "completed"
    },
    "tags": []
   },
   "outputs": [],
   "source": [
    "# df_train = pd.read_csv('/kaggle/input/data-eeg/df_train.csv')\n",
    "# df_test = pd.read_csv('/kaggle/input/data-eeg/df_test.csv')\n",
    "# print(f\"Train shape: {df_train.shape}, Test shape: {df_test.shape}\")"
   ]
  },
  {
   "cell_type": "code",
   "execution_count": 4,
   "id": "35738f88",
   "metadata": {
    "execution": {
     "iopub.execute_input": "2024-12-25T12:05:54.625091Z",
     "iopub.status.busy": "2024-12-25T12:05:54.624141Z",
     "iopub.status.idle": "2024-12-25T12:05:55.234284Z",
     "shell.execute_reply": "2024-12-25T12:05:55.233105Z"
    },
    "papermill": {
     "duration": 0.617835,
     "end_time": "2024-12-25T12:05:55.236451",
     "exception": false,
     "start_time": "2024-12-25T12:05:54.618616",
     "status": "completed"
    },
    "tags": []
   },
   "outputs": [
    {
     "data": {
      "text/html": [
       "<div>\n",
       "<style scoped>\n",
       "    .dataframe tbody tr th:only-of-type {\n",
       "        vertical-align: middle;\n",
       "    }\n",
       "\n",
       "    .dataframe tbody tr th {\n",
       "        vertical-align: top;\n",
       "    }\n",
       "\n",
       "    .dataframe thead th {\n",
       "        text-align: right;\n",
       "    }\n",
       "</style>\n",
       "<table border=\"1\" class=\"dataframe\">\n",
       "  <thead>\n",
       "    <tr style=\"text-align: right;\">\n",
       "      <th></th>\n",
       "      <th>ED_F3_spectral_entropy</th>\n",
       "      <th>ED_F3_peak_frequency</th>\n",
       "      <th>ED_F3_mean</th>\n",
       "      <th>ED_F3_std</th>\n",
       "      <th>ED_F3_median</th>\n",
       "      <th>ED_F3_min</th>\n",
       "      <th>ED_F3_max</th>\n",
       "      <th>ED_F3_skewness</th>\n",
       "      <th>ED_F3_kurtosis</th>\n",
       "      <th>ED_F3_power_delta</th>\n",
       "      <th>...</th>\n",
       "      <th>t_wavelet_d1_energy</th>\n",
       "      <th>t_wavelet_d2_energy</th>\n",
       "      <th>t_wavelet_d3_energy</th>\n",
       "      <th>t_wavelet_d4_energy</th>\n",
       "      <th>t_wavelet_d5_energy</th>\n",
       "      <th>t_wavelet_d1_relative_energy</th>\n",
       "      <th>t_wavelet_d2_relative_energy</th>\n",
       "      <th>t_wavelet_d3_relative_energy</th>\n",
       "      <th>t_wavelet_d4_relative_energy</th>\n",
       "      <th>t_wavelet_d5_relative_energy</th>\n",
       "    </tr>\n",
       "  </thead>\n",
       "  <tbody>\n",
       "    <tr>\n",
       "      <th>count</th>\n",
       "      <td>40161.000000</td>\n",
       "      <td>40161.000000</td>\n",
       "      <td>40161.000000</td>\n",
       "      <td>40161.000000</td>\n",
       "      <td>40161.000000</td>\n",
       "      <td>4.016100e+04</td>\n",
       "      <td>40161.000000</td>\n",
       "      <td>40161.000000</td>\n",
       "      <td>40161.000000</td>\n",
       "      <td>4.016100e+04</td>\n",
       "      <td>...</td>\n",
       "      <td>4.016100e+04</td>\n",
       "      <td>4.016100e+04</td>\n",
       "      <td>4.016100e+04</td>\n",
       "      <td>4.016100e+04</td>\n",
       "      <td>4.016100e+04</td>\n",
       "      <td>4.016100e+04</td>\n",
       "      <td>4.016100e+04</td>\n",
       "      <td>4.016100e+04</td>\n",
       "      <td>4.016100e+04</td>\n",
       "      <td>4.016100e+04</td>\n",
       "    </tr>\n",
       "    <tr>\n",
       "      <th>mean</th>\n",
       "      <td>4.472824</td>\n",
       "      <td>3.038109</td>\n",
       "      <td>0.000060</td>\n",
       "      <td>0.000092</td>\n",
       "      <td>0.000034</td>\n",
       "      <td>1.448225e-06</td>\n",
       "      <td>0.000639</td>\n",
       "      <td>3.237125</td>\n",
       "      <td>17.894840</td>\n",
       "      <td>2.023739e-05</td>\n",
       "      <td>...</td>\n",
       "      <td>4.419788e+02</td>\n",
       "      <td>8.129809e+01</td>\n",
       "      <td>4.032045e+01</td>\n",
       "      <td>4.126317e+00</td>\n",
       "      <td>1.284618e-02</td>\n",
       "      <td>7.784928e-01</td>\n",
       "      <td>1.431969e-01</td>\n",
       "      <td>7.101966e-02</td>\n",
       "      <td>7.268014e-03</td>\n",
       "      <td>2.262701e-05</td>\n",
       "    </tr>\n",
       "    <tr>\n",
       "      <th>std</th>\n",
       "      <td>0.667028</td>\n",
       "      <td>3.348018</td>\n",
       "      <td>0.000158</td>\n",
       "      <td>0.000394</td>\n",
       "      <td>0.000080</td>\n",
       "      <td>8.590259e-06</td>\n",
       "      <td>0.003099</td>\n",
       "      <td>1.186713</td>\n",
       "      <td>12.056169</td>\n",
       "      <td>8.771578e-04</td>\n",
       "      <td>...</td>\n",
       "      <td>5.892935e-09</td>\n",
       "      <td>1.642346e-09</td>\n",
       "      <td>7.580331e-10</td>\n",
       "      <td>1.492325e-10</td>\n",
       "      <td>3.077774e-12</td>\n",
       "      <td>3.519135e-12</td>\n",
       "      <td>3.036826e-12</td>\n",
       "      <td>1.414527e-12</td>\n",
       "      <td>2.713120e-13</td>\n",
       "      <td>5.428854e-15</td>\n",
       "    </tr>\n",
       "    <tr>\n",
       "      <th>min</th>\n",
       "      <td>0.544586</td>\n",
       "      <td>0.000000</td>\n",
       "      <td>0.000018</td>\n",
       "      <td>0.000020</td>\n",
       "      <td>0.000010</td>\n",
       "      <td>1.136994e-09</td>\n",
       "      <td>0.000085</td>\n",
       "      <td>-0.639453</td>\n",
       "      <td>1.474750</td>\n",
       "      <td>1.130942e-08</td>\n",
       "      <td>...</td>\n",
       "      <td>4.419788e+02</td>\n",
       "      <td>8.129809e+01</td>\n",
       "      <td>4.032045e+01</td>\n",
       "      <td>4.126317e+00</td>\n",
       "      <td>1.284618e-02</td>\n",
       "      <td>7.784928e-01</td>\n",
       "      <td>1.431969e-01</td>\n",
       "      <td>7.101966e-02</td>\n",
       "      <td>7.268014e-03</td>\n",
       "      <td>2.262701e-05</td>\n",
       "    </tr>\n",
       "    <tr>\n",
       "      <th>25%</th>\n",
       "      <td>4.168443</td>\n",
       "      <td>0.500000</td>\n",
       "      <td>0.000039</td>\n",
       "      <td>0.000047</td>\n",
       "      <td>0.000025</td>\n",
       "      <td>4.674740e-07</td>\n",
       "      <td>0.000286</td>\n",
       "      <td>2.441444</td>\n",
       "      <td>10.098823</td>\n",
       "      <td>1.294526e-07</td>\n",
       "      <td>...</td>\n",
       "      <td>4.419788e+02</td>\n",
       "      <td>8.129809e+01</td>\n",
       "      <td>4.032045e+01</td>\n",
       "      <td>4.126317e+00</td>\n",
       "      <td>1.284618e-02</td>\n",
       "      <td>7.784928e-01</td>\n",
       "      <td>1.431969e-01</td>\n",
       "      <td>7.101966e-02</td>\n",
       "      <td>7.268014e-03</td>\n",
       "      <td>2.262701e-05</td>\n",
       "    </tr>\n",
       "    <tr>\n",
       "      <th>50%</th>\n",
       "      <td>4.575813</td>\n",
       "      <td>1.000000</td>\n",
       "      <td>0.000045</td>\n",
       "      <td>0.000058</td>\n",
       "      <td>0.000030</td>\n",
       "      <td>8.153834e-07</td>\n",
       "      <td>0.000380</td>\n",
       "      <td>2.988121</td>\n",
       "      <td>14.288602</td>\n",
       "      <td>2.737113e-07</td>\n",
       "      <td>...</td>\n",
       "      <td>4.419788e+02</td>\n",
       "      <td>8.129809e+01</td>\n",
       "      <td>4.032045e+01</td>\n",
       "      <td>4.126317e+00</td>\n",
       "      <td>1.284618e-02</td>\n",
       "      <td>7.784928e-01</td>\n",
       "      <td>1.431969e-01</td>\n",
       "      <td>7.101966e-02</td>\n",
       "      <td>7.268014e-03</td>\n",
       "      <td>2.262701e-05</td>\n",
       "    </tr>\n",
       "    <tr>\n",
       "      <th>75%</th>\n",
       "      <td>4.917679</td>\n",
       "      <td>5.000000</td>\n",
       "      <td>0.000058</td>\n",
       "      <td>0.000084</td>\n",
       "      <td>0.000036</td>\n",
       "      <td>1.377305e-06</td>\n",
       "      <td>0.000579</td>\n",
       "      <td>3.757567</td>\n",
       "      <td>21.606374</td>\n",
       "      <td>6.479580e-07</td>\n",
       "      <td>...</td>\n",
       "      <td>4.419788e+02</td>\n",
       "      <td>8.129809e+01</td>\n",
       "      <td>4.032045e+01</td>\n",
       "      <td>4.126317e+00</td>\n",
       "      <td>1.284618e-02</td>\n",
       "      <td>7.784928e-01</td>\n",
       "      <td>1.431969e-01</td>\n",
       "      <td>7.101966e-02</td>\n",
       "      <td>7.268014e-03</td>\n",
       "      <td>2.262701e-05</td>\n",
       "    </tr>\n",
       "    <tr>\n",
       "      <th>max</th>\n",
       "      <td>6.604688</td>\n",
       "      <td>40.500000</td>\n",
       "      <td>0.008247</td>\n",
       "      <td>0.025928</td>\n",
       "      <td>0.004399</td>\n",
       "      <td>8.527854e-04</td>\n",
       "      <td>0.212953</td>\n",
       "      <td>10.400365</td>\n",
       "      <td>113.846762</td>\n",
       "      <td>8.790882e-02</td>\n",
       "      <td>...</td>\n",
       "      <td>4.419788e+02</td>\n",
       "      <td>8.129809e+01</td>\n",
       "      <td>4.032045e+01</td>\n",
       "      <td>4.126317e+00</td>\n",
       "      <td>1.284618e-02</td>\n",
       "      <td>7.784928e-01</td>\n",
       "      <td>1.431969e-01</td>\n",
       "      <td>7.101966e-02</td>\n",
       "      <td>7.268014e-03</td>\n",
       "      <td>2.262701e-05</td>\n",
       "    </tr>\n",
       "  </tbody>\n",
       "</table>\n",
       "<p>8 rows × 203 columns</p>\n",
       "</div>"
      ],
      "text/plain": [
       "       ED_F3_spectral_entropy  ED_F3_peak_frequency    ED_F3_mean  \\\n",
       "count            40161.000000          40161.000000  40161.000000   \n",
       "mean                 4.472824              3.038109      0.000060   \n",
       "std                  0.667028              3.348018      0.000158   \n",
       "min                  0.544586              0.000000      0.000018   \n",
       "25%                  4.168443              0.500000      0.000039   \n",
       "50%                  4.575813              1.000000      0.000045   \n",
       "75%                  4.917679              5.000000      0.000058   \n",
       "max                  6.604688             40.500000      0.008247   \n",
       "\n",
       "          ED_F3_std  ED_F3_median     ED_F3_min     ED_F3_max  ED_F3_skewness  \\\n",
       "count  40161.000000  40161.000000  4.016100e+04  40161.000000    40161.000000   \n",
       "mean       0.000092      0.000034  1.448225e-06      0.000639        3.237125   \n",
       "std        0.000394      0.000080  8.590259e-06      0.003099        1.186713   \n",
       "min        0.000020      0.000010  1.136994e-09      0.000085       -0.639453   \n",
       "25%        0.000047      0.000025  4.674740e-07      0.000286        2.441444   \n",
       "50%        0.000058      0.000030  8.153834e-07      0.000380        2.988121   \n",
       "75%        0.000084      0.000036  1.377305e-06      0.000579        3.757567   \n",
       "max        0.025928      0.004399  8.527854e-04      0.212953       10.400365   \n",
       "\n",
       "       ED_F3_kurtosis  ED_F3_power_delta  ...  t_wavelet_d1_energy  \\\n",
       "count    40161.000000       4.016100e+04  ...         4.016100e+04   \n",
       "mean        17.894840       2.023739e-05  ...         4.419788e+02   \n",
       "std         12.056169       8.771578e-04  ...         5.892935e-09   \n",
       "min          1.474750       1.130942e-08  ...         4.419788e+02   \n",
       "25%         10.098823       1.294526e-07  ...         4.419788e+02   \n",
       "50%         14.288602       2.737113e-07  ...         4.419788e+02   \n",
       "75%         21.606374       6.479580e-07  ...         4.419788e+02   \n",
       "max        113.846762       8.790882e-02  ...         4.419788e+02   \n",
       "\n",
       "       t_wavelet_d2_energy  t_wavelet_d3_energy  t_wavelet_d4_energy  \\\n",
       "count         4.016100e+04         4.016100e+04         4.016100e+04   \n",
       "mean          8.129809e+01         4.032045e+01         4.126317e+00   \n",
       "std           1.642346e-09         7.580331e-10         1.492325e-10   \n",
       "min           8.129809e+01         4.032045e+01         4.126317e+00   \n",
       "25%           8.129809e+01         4.032045e+01         4.126317e+00   \n",
       "50%           8.129809e+01         4.032045e+01         4.126317e+00   \n",
       "75%           8.129809e+01         4.032045e+01         4.126317e+00   \n",
       "max           8.129809e+01         4.032045e+01         4.126317e+00   \n",
       "\n",
       "       t_wavelet_d5_energy  t_wavelet_d1_relative_energy  \\\n",
       "count         4.016100e+04                  4.016100e+04   \n",
       "mean          1.284618e-02                  7.784928e-01   \n",
       "std           3.077774e-12                  3.519135e-12   \n",
       "min           1.284618e-02                  7.784928e-01   \n",
       "25%           1.284618e-02                  7.784928e-01   \n",
       "50%           1.284618e-02                  7.784928e-01   \n",
       "75%           1.284618e-02                  7.784928e-01   \n",
       "max           1.284618e-02                  7.784928e-01   \n",
       "\n",
       "       t_wavelet_d2_relative_energy  t_wavelet_d3_relative_energy  \\\n",
       "count                  4.016100e+04                  4.016100e+04   \n",
       "mean                   1.431969e-01                  7.101966e-02   \n",
       "std                    3.036826e-12                  1.414527e-12   \n",
       "min                    1.431969e-01                  7.101966e-02   \n",
       "25%                    1.431969e-01                  7.101966e-02   \n",
       "50%                    1.431969e-01                  7.101966e-02   \n",
       "75%                    1.431969e-01                  7.101966e-02   \n",
       "max                    1.431969e-01                  7.101966e-02   \n",
       "\n",
       "       t_wavelet_d4_relative_energy  t_wavelet_d5_relative_energy  \n",
       "count                  4.016100e+04                  4.016100e+04  \n",
       "mean                   7.268014e-03                  2.262701e-05  \n",
       "std                    2.713120e-13                  5.428854e-15  \n",
       "min                    7.268014e-03                  2.262701e-05  \n",
       "25%                    7.268014e-03                  2.262701e-05  \n",
       "50%                    7.268014e-03                  2.262701e-05  \n",
       "75%                    7.268014e-03                  2.262701e-05  \n",
       "max                    7.268014e-03                  2.262701e-05  \n",
       "\n",
       "[8 rows x 203 columns]"
      ]
     },
     "execution_count": 4,
     "metadata": {},
     "output_type": "execute_result"
    }
   ],
   "source": [
    "df_train.describe()"
   ]
  },
  {
   "cell_type": "code",
   "execution_count": 5,
   "id": "d9f75738",
   "metadata": {
    "execution": {
     "iopub.execute_input": "2024-12-25T12:05:55.249282Z",
     "iopub.status.busy": "2024-12-25T12:05:55.248163Z",
     "iopub.status.idle": "2024-12-25T12:05:55.279805Z",
     "shell.execute_reply": "2024-12-25T12:05:55.278582Z"
    },
    "papermill": {
     "duration": 0.039703,
     "end_time": "2024-12-25T12:05:55.282013",
     "exception": false,
     "start_time": "2024-12-25T12:05:55.242310",
     "status": "completed"
    },
    "tags": []
   },
   "outputs": [
    {
     "data": {
      "text/plain": [
       "(state\n",
       " drowsy       25863\n",
       " unfocused     7176\n",
       " focused       7122\n",
       " Name: count, dtype: int64,\n",
       " state\n",
       " drowsy       87893\n",
       " unfocused    33488\n",
       " focused      33236\n",
       " Name: count, dtype: int64)"
      ]
     },
     "execution_count": 5,
     "metadata": {},
     "output_type": "execute_result"
    }
   ],
   "source": [
    "df_train['state'].value_counts(), df_test['state'].value_counts()"
   ]
  },
  {
   "cell_type": "markdown",
   "id": "5ff46c21",
   "metadata": {
    "papermill": {
     "duration": 0.004665,
     "end_time": "2024-12-25T12:05:55.291640",
     "exception": false,
     "start_time": "2024-12-25T12:05:55.286975",
     "status": "completed"
    },
    "tags": []
   },
   "source": [
    "## Data preprocessing"
   ]
  },
  {
   "cell_type": "code",
   "execution_count": 6,
   "id": "8cf1a2ce",
   "metadata": {
    "execution": {
     "iopub.execute_input": "2024-12-25T12:05:55.302688Z",
     "iopub.status.busy": "2024-12-25T12:05:55.302293Z",
     "iopub.status.idle": "2024-12-25T12:05:55.307656Z",
     "shell.execute_reply": "2024-12-25T12:05:55.306720Z"
    },
    "papermill": {
     "duration": 0.013273,
     "end_time": "2024-12-25T12:05:55.309660",
     "exception": false,
     "start_time": "2024-12-25T12:05:55.296387",
     "status": "completed"
    },
    "tags": []
   },
   "outputs": [],
   "source": [
    "def preprocess_data(df, scaler, encoder):\n",
    "    features = df.drop('state', axis = 1)\n",
    "    labels = df['state']\n",
    "    X_scaled = scaler.fit_transform(features)\n",
    "    y_encoded = encoder.fit_transform(labels)\n",
    "    return X_scaled, y_encoded"
   ]
  },
  {
   "cell_type": "code",
   "execution_count": 7,
   "id": "7e627441",
   "metadata": {
    "execution": {
     "iopub.execute_input": "2024-12-25T12:05:55.321326Z",
     "iopub.status.busy": "2024-12-25T12:05:55.320943Z",
     "iopub.status.idle": "2024-12-25T12:05:55.922930Z",
     "shell.execute_reply": "2024-12-25T12:05:55.921743Z"
    },
    "papermill": {
     "duration": 0.610827,
     "end_time": "2024-12-25T12:05:55.925505",
     "exception": false,
     "start_time": "2024-12-25T12:05:55.314678",
     "status": "completed"
    },
    "tags": []
   },
   "outputs": [],
   "source": [
    "scaler = MinMaxScaler()\n",
    "encoder = LabelEncoder()\n",
    "\n",
    "# Prepare training, validation, and test data\n",
    "X_train_scaled, y_train_encoded = preprocess_data(df_train, scaler, encoder)\n",
    "X_test, y_test = preprocess_data(df_test, scaler, encoder)\n",
    "\n",
    "X_train, X_val, y_train, y_val = train_test_split(X_train_scaled, y_train_encoded, \n",
    "                                                  test_size=0.2, random_state=42, stratify=y_train_encoded)"
   ]
  },
  {
   "cell_type": "markdown",
   "id": "60d21e40",
   "metadata": {
    "papermill": {
     "duration": 0.004635,
     "end_time": "2024-12-25T12:05:55.935107",
     "exception": false,
     "start_time": "2024-12-25T12:05:55.930472",
     "status": "completed"
    },
    "tags": []
   },
   "source": [
    "## Define and Train EEGNet Model"
   ]
  },
  {
   "cell_type": "code",
   "execution_count": 8,
   "id": "8e8204a8",
   "metadata": {
    "execution": {
     "iopub.execute_input": "2024-12-25T12:05:55.946315Z",
     "iopub.status.busy": "2024-12-25T12:05:55.945902Z",
     "iopub.status.idle": "2024-12-25T12:05:55.955851Z",
     "shell.execute_reply": "2024-12-25T12:05:55.954786Z"
    },
    "papermill": {
     "duration": 0.018089,
     "end_time": "2024-12-25T12:05:55.957994",
     "exception": false,
     "start_time": "2024-12-25T12:05:55.939905",
     "status": "completed"
    },
    "tags": []
   },
   "outputs": [],
   "source": [
    "def EEGNet(nb_classes, Chans, Samples, kernLength, F1, \n",
    "             D, F2, norm_rate, dropoutRate, dropoutType):\n",
    "    \"\"\" \n",
    "    Inputs:\n",
    "    \n",
    "      nb_classes      : int, number of classes to classify\n",
    "      Chans, Samples  : number of channels and time points in the EEG data\n",
    "      dropoutRate     : dropout fraction\n",
    "      kernLength      : length of temporal convolution in first layer.\n",
    "      F1, F2          : number of temporal filters (F1) and number of pointwise\n",
    "                        filters (F2) to learn. Default: F1 = 8, F2 = F1 * D. \n",
    "      D               : number of spatial filters to learn within each temporal\n",
    "                        convolution. Default: D = 2\n",
    "      dropoutType     : Randomly remove some neurons to avoid overfitting, passed as a string.\n",
    "\n",
    "    \"\"\"\n",
    "    if dropoutType == 'SpatialDropout2D':\n",
    "        dropoutType = SpatialDropout2D\n",
    "    elif dropoutType == 'Dropout':\n",
    "        dropoutType = Dropout\n",
    "    else:\n",
    "        raise ValueError('dropoutType must be one of SpatialDropout2D '\n",
    "                         'or Dropout, passed as a string.')\n",
    "    \n",
    "    input1   = Input(shape = (Chans, Samples, 1))\n",
    "\n",
    "    ##################################################################\n",
    "    # Block 1\n",
    "    block1       = Conv2D(F1, (1, kernLength), padding = 'same',\n",
    "                                   input_shape = (Chans, Samples, 1),\n",
    "                                   use_bias = False)(input1)\n",
    "    block1       = BatchNormalization()(block1)\n",
    "    block1       = DepthwiseConv2D((Chans, 1), use_bias = False, \n",
    "                                   depth_multiplier = D,\n",
    "                                   depthwise_constraint = max_norm(1.))(block1)\n",
    "    block1       = BatchNormalization()(block1)\n",
    "    block1       = Activation('elu')(block1)\n",
    "    block1       = AveragePooling2D((1, 4))(block1)\n",
    "    block1       = dropoutType(dropoutRate)(block1)\n",
    "\n",
    "    # Block 2\n",
    "    block2       = SeparableConv2D(F2, (1, 16),\n",
    "                                   use_bias = False, padding = 'same')(block1)\n",
    "    block2       = BatchNormalization()(block2)\n",
    "    block2       = Activation('elu')(block2)\n",
    "    block2       = AveragePooling2D((1, 4))(block2)\n",
    "    block2       = dropoutType(dropoutRate)(block2)\n",
    "    \n",
    "    # Flatten and output    \n",
    "    flatten      = Flatten(name = 'flatten')(block2)\n",
    "    dense        = Dense(nb_classes, name = 'dense', \n",
    "                         kernel_constraint = max_norm(norm_rate))(flatten)\n",
    "    softmax      = Activation('softmax', name = 'softmax')(dense)\n",
    "    \n",
    "    return Model(inputs=input1, outputs=softmax)"
   ]
  },
  {
   "cell_type": "code",
   "execution_count": 9,
   "id": "f08ac0c2",
   "metadata": {
    "execution": {
     "iopub.execute_input": "2024-12-25T12:05:55.969355Z",
     "iopub.status.busy": "2024-12-25T12:05:55.968978Z",
     "iopub.status.idle": "2024-12-25T12:05:55.979322Z",
     "shell.execute_reply": "2024-12-25T12:05:55.978345Z"
    },
    "papermill": {
     "duration": 0.018297,
     "end_time": "2024-12-25T12:05:55.981248",
     "exception": false,
     "start_time": "2024-12-25T12:05:55.962951",
     "status": "completed"
    },
    "tags": []
   },
   "outputs": [
    {
     "name": "stdout",
     "output_type": "stream",
     "text": [
      "X_train shape: (32128, 7, 29, 1)\n",
      "X_val shape: (8033, 7, 29, 1)\n",
      "X_test shape: (154617, 7, 29, 1)\n"
     ]
    }
   ],
   "source": [
    "# Model Parameters\n",
    "Chans = len([\"ED_F7\", \"ED_F3\", \"ED_P7\", \"ED_O1\", \"ED_O2\", \"ED_P8\", \"ED_AF4\"])  # useful channels\n",
    "Samples = df_train.shape[1] // Chans # Number of samples per channel\n",
    "\n",
    "# Reshape data\n",
    "X_train = X_train.reshape(-1, Chans, Samples, 1)\n",
    "X_val = X_val.reshape(-1, Chans, Samples, 1)\n",
    "X_test = X_test.reshape(-1, Chans, Samples, 1)\n",
    "\n",
    "# Convert the data labels to one-hot encoded\n",
    "y_train_onehot = to_categorical(y_train, num_classes=3)\n",
    "y_val_onehot = to_categorical(y_val, num_classes=3)\n",
    "y_test_onehot = to_categorical(y_test, num_classes=3)\n",
    "\n",
    "print(f\"X_train shape: {X_train.shape}\")  # (n_samples_train, Chans, Samples, 1)\n",
    "print(f\"X_val shape: {X_val.shape}\")      # (n_samples_val, Chans, Samples, 1)\n",
    "print(f\"X_test shape: {X_test.shape}\")      # (n_samples_test, Chans, Samples, 1)"
   ]
  },
  {
   "cell_type": "code",
   "execution_count": 10,
   "id": "7e8f4c7a",
   "metadata": {
    "execution": {
     "iopub.execute_input": "2024-12-25T12:05:55.992410Z",
     "iopub.status.busy": "2024-12-25T12:05:55.992018Z",
     "iopub.status.idle": "2024-12-25T12:13:47.532408Z",
     "shell.execute_reply": "2024-12-25T12:13:47.531283Z"
    },
    "papermill": {
     "duration": 471.549246,
     "end_time": "2024-12-25T12:13:47.535349",
     "exception": false,
     "start_time": "2024-12-25T12:05:55.986103",
     "status": "completed"
    },
    "tags": []
   },
   "outputs": [
    {
     "name": "stderr",
     "output_type": "stream",
     "text": [
      "/opt/conda/lib/python3.10/site-packages/keras/src/layers/convolutional/base_conv.py:107: UserWarning: Do not pass an `input_shape`/`input_dim` argument to a layer. When using Sequential models, prefer using an `Input(shape)` object as the first layer in the model instead.\n",
      "  super().__init__(activity_regularizer=activity_regularizer, **kwargs)\n"
     ]
    },
    {
     "name": "stdout",
     "output_type": "stream",
     "text": [
      "Epoch 1/50\n",
      "\u001b[1m1004/1004\u001b[0m \u001b[32m━━━━━━━━━━━━━━━━━━━━\u001b[0m\u001b[37m\u001b[0m \u001b[1m12s\u001b[0m 10ms/step - accuracy: 0.7519 - loss: 0.6316 - val_accuracy: 0.8829 - val_loss: 0.3144\n",
      "Epoch 2/50\n",
      "\u001b[1m1004/1004\u001b[0m \u001b[32m━━━━━━━━━━━━━━━━━━━━\u001b[0m\u001b[37m\u001b[0m \u001b[1m9s\u001b[0m 9ms/step - accuracy: 0.8754 - loss: 0.3354 - val_accuracy: 0.9375 - val_loss: 0.2275\n",
      "Epoch 3/50\n",
      "\u001b[1m1004/1004\u001b[0m \u001b[32m━━━━━━━━━━━━━━━━━━━━\u001b[0m\u001b[37m\u001b[0m \u001b[1m9s\u001b[0m 9ms/step - accuracy: 0.9073 - loss: 0.2731 - val_accuracy: 0.9648 - val_loss: 0.1743\n",
      "Epoch 4/50\n",
      "\u001b[1m1004/1004\u001b[0m \u001b[32m━━━━━━━━━━━━━━━━━━━━\u001b[0m\u001b[37m\u001b[0m \u001b[1m10s\u001b[0m 10ms/step - accuracy: 0.9249 - loss: 0.2384 - val_accuracy: 0.9790 - val_loss: 0.1362\n",
      "Epoch 5/50\n",
      "\u001b[1m1004/1004\u001b[0m \u001b[32m━━━━━━━━━━━━━━━━━━━━\u001b[0m\u001b[37m\u001b[0m \u001b[1m9s\u001b[0m 9ms/step - accuracy: 0.9390 - loss: 0.2049 - val_accuracy: 0.9523 - val_loss: 0.1377\n",
      "Epoch 6/50\n",
      "\u001b[1m1004/1004\u001b[0m \u001b[32m━━━━━━━━━━━━━━━━━━━━\u001b[0m\u001b[37m\u001b[0m \u001b[1m9s\u001b[0m 9ms/step - accuracy: 0.9428 - loss: 0.1822 - val_accuracy: 0.9892 - val_loss: 0.0982\n",
      "Epoch 7/50\n",
      "\u001b[1m1004/1004\u001b[0m \u001b[32m━━━━━━━━━━━━━━━━━━━━\u001b[0m\u001b[37m\u001b[0m \u001b[1m10s\u001b[0m 10ms/step - accuracy: 0.9476 - loss: 0.1670 - val_accuracy: 0.9898 - val_loss: 0.0855\n",
      "Epoch 8/50\n",
      "\u001b[1m1004/1004\u001b[0m \u001b[32m━━━━━━━━━━━━━━━━━━━━\u001b[0m\u001b[37m\u001b[0m \u001b[1m9s\u001b[0m 9ms/step - accuracy: 0.9509 - loss: 0.1533 - val_accuracy: 0.9765 - val_loss: 0.0911\n",
      "Epoch 9/50\n",
      "\u001b[1m1004/1004\u001b[0m \u001b[32m━━━━━━━━━━━━━━━━━━━━\u001b[0m\u001b[37m\u001b[0m \u001b[1m9s\u001b[0m 9ms/step - accuracy: 0.9528 - loss: 0.1461 - val_accuracy: 0.9873 - val_loss: 0.0772\n",
      "Epoch 10/50\n",
      "\u001b[1m1004/1004\u001b[0m \u001b[32m━━━━━━━━━━━━━━━━━━━━\u001b[0m\u001b[37m\u001b[0m \u001b[1m9s\u001b[0m 9ms/step - accuracy: 0.9552 - loss: 0.1416 - val_accuracy: 0.9878 - val_loss: 0.0730\n",
      "Epoch 11/50\n",
      "\u001b[1m1004/1004\u001b[0m \u001b[32m━━━━━━━━━━━━━━━━━━━━\u001b[0m\u001b[37m\u001b[0m \u001b[1m10s\u001b[0m 10ms/step - accuracy: 0.9541 - loss: 0.1338 - val_accuracy: 0.9815 - val_loss: 0.0752\n",
      "Epoch 12/50\n",
      "\u001b[1m1004/1004\u001b[0m \u001b[32m━━━━━━━━━━━━━━━━━━━━\u001b[0m\u001b[37m\u001b[0m \u001b[1m9s\u001b[0m 9ms/step - accuracy: 0.9578 - loss: 0.1280 - val_accuracy: 0.9887 - val_loss: 0.0633\n",
      "Epoch 13/50\n",
      "\u001b[1m1004/1004\u001b[0m \u001b[32m━━━━━━━━━━━━━━━━━━━━\u001b[0m\u001b[37m\u001b[0m \u001b[1m9s\u001b[0m 9ms/step - accuracy: 0.9581 - loss: 0.1246 - val_accuracy: 0.9902 - val_loss: 0.0616\n",
      "Epoch 14/50\n",
      "\u001b[1m1004/1004\u001b[0m \u001b[32m━━━━━━━━━━━━━━━━━━━━\u001b[0m\u001b[37m\u001b[0m \u001b[1m9s\u001b[0m 9ms/step - accuracy: 0.9556 - loss: 0.1266 - val_accuracy: 0.9862 - val_loss: 0.0612\n",
      "Epoch 15/50\n",
      "\u001b[1m1004/1004\u001b[0m \u001b[32m━━━━━━━━━━━━━━━━━━━━\u001b[0m\u001b[37m\u001b[0m \u001b[1m9s\u001b[0m 9ms/step - accuracy: 0.9582 - loss: 0.1191 - val_accuracy: 0.9818 - val_loss: 0.0640\n",
      "Epoch 16/50\n",
      "\u001b[1m1004/1004\u001b[0m \u001b[32m━━━━━━━━━━━━━━━━━━━━\u001b[0m\u001b[37m\u001b[0m \u001b[1m9s\u001b[0m 9ms/step - accuracy: 0.9579 - loss: 0.1187 - val_accuracy: 0.9826 - val_loss: 0.0589\n",
      "Epoch 17/50\n",
      "\u001b[1m1004/1004\u001b[0m \u001b[32m━━━━━━━━━━━━━━━━━━━━\u001b[0m\u001b[37m\u001b[0m \u001b[1m9s\u001b[0m 9ms/step - accuracy: 0.9627 - loss: 0.1129 - val_accuracy: 0.9876 - val_loss: 0.0556\n",
      "Epoch 18/50\n",
      "\u001b[1m1004/1004\u001b[0m \u001b[32m━━━━━━━━━━━━━━━━━━━━\u001b[0m\u001b[37m\u001b[0m \u001b[1m10s\u001b[0m 9ms/step - accuracy: 0.9621 - loss: 0.1096 - val_accuracy: 0.9917 - val_loss: 0.0508\n",
      "Epoch 19/50\n",
      "\u001b[1m1004/1004\u001b[0m \u001b[32m━━━━━━━━━━━━━━━━━━━━\u001b[0m\u001b[37m\u001b[0m \u001b[1m9s\u001b[0m 9ms/step - accuracy: 0.9619 - loss: 0.1067 - val_accuracy: 0.9928 - val_loss: 0.0505\n",
      "Epoch 20/50\n",
      "\u001b[1m1004/1004\u001b[0m \u001b[32m━━━━━━━━━━━━━━━━━━━━\u001b[0m\u001b[37m\u001b[0m \u001b[1m9s\u001b[0m 9ms/step - accuracy: 0.9623 - loss: 0.1041 - val_accuracy: 0.9914 - val_loss: 0.0465\n",
      "Epoch 21/50\n",
      "\u001b[1m1004/1004\u001b[0m \u001b[32m━━━━━━━━━━━━━━━━━━━━\u001b[0m\u001b[37m\u001b[0m \u001b[1m10s\u001b[0m 9ms/step - accuracy: 0.9636 - loss: 0.1045 - val_accuracy: 0.9898 - val_loss: 0.0491\n",
      "Epoch 22/50\n",
      "\u001b[1m1004/1004\u001b[0m \u001b[32m━━━━━━━━━━━━━━━━━━━━\u001b[0m\u001b[37m\u001b[0m \u001b[1m9s\u001b[0m 9ms/step - accuracy: 0.9667 - loss: 0.1004 - val_accuracy: 0.9898 - val_loss: 0.0498\n",
      "Epoch 23/50\n",
      "\u001b[1m1004/1004\u001b[0m \u001b[32m━━━━━━━━━━━━━━━━━━━━\u001b[0m\u001b[37m\u001b[0m \u001b[1m9s\u001b[0m 9ms/step - accuracy: 0.9636 - loss: 0.0996 - val_accuracy: 0.9876 - val_loss: 0.0471\n",
      "Epoch 24/50\n",
      "\u001b[1m1004/1004\u001b[0m \u001b[32m━━━━━━━━━━━━━━━━━━━━\u001b[0m\u001b[37m\u001b[0m \u001b[1m9s\u001b[0m 9ms/step - accuracy: 0.9646 - loss: 0.0978 - val_accuracy: 0.9903 - val_loss: 0.0439\n",
      "Epoch 25/50\n",
      "\u001b[1m1004/1004\u001b[0m \u001b[32m━━━━━━━━━━━━━━━━━━━━\u001b[0m\u001b[37m\u001b[0m \u001b[1m9s\u001b[0m 9ms/step - accuracy: 0.9654 - loss: 0.0950 - val_accuracy: 0.9908 - val_loss: 0.0440\n",
      "Epoch 26/50\n",
      "\u001b[1m1004/1004\u001b[0m \u001b[32m━━━━━━━━━━━━━━━━━━━━\u001b[0m\u001b[37m\u001b[0m \u001b[1m9s\u001b[0m 9ms/step - accuracy: 0.9641 - loss: 0.0986 - val_accuracy: 0.9898 - val_loss: 0.0458\n",
      "Epoch 27/50\n",
      "\u001b[1m1004/1004\u001b[0m \u001b[32m━━━━━━━━━━━━━━━━━━━━\u001b[0m\u001b[37m\u001b[0m \u001b[1m9s\u001b[0m 9ms/step - accuracy: 0.9666 - loss: 0.0936 - val_accuracy: 0.9887 - val_loss: 0.0473\n",
      "Epoch 28/50\n",
      "\u001b[1m1004/1004\u001b[0m \u001b[32m━━━━━━━━━━━━━━━━━━━━\u001b[0m\u001b[37m\u001b[0m \u001b[1m10s\u001b[0m 9ms/step - accuracy: 0.9651 - loss: 0.0955 - val_accuracy: 0.9900 - val_loss: 0.0466\n",
      "Epoch 29/50\n",
      "\u001b[1m1004/1004\u001b[0m \u001b[32m━━━━━━━━━━━━━━━━━━━━\u001b[0m\u001b[37m\u001b[0m \u001b[1m9s\u001b[0m 9ms/step - accuracy: 0.9680 - loss: 0.0925 - val_accuracy: 0.9909 - val_loss: 0.0408\n",
      "Epoch 30/50\n",
      "\u001b[1m1004/1004\u001b[0m \u001b[32m━━━━━━━━━━━━━━━━━━━━\u001b[0m\u001b[37m\u001b[0m \u001b[1m9s\u001b[0m 9ms/step - accuracy: 0.9684 - loss: 0.0893 - val_accuracy: 0.9854 - val_loss: 0.0475\n",
      "Epoch 31/50\n",
      "\u001b[1m1004/1004\u001b[0m \u001b[32m━━━━━━━━━━━━━━━━━━━━\u001b[0m\u001b[37m\u001b[0m \u001b[1m9s\u001b[0m 9ms/step - accuracy: 0.9711 - loss: 0.0888 - val_accuracy: 0.9909 - val_loss: 0.0394\n",
      "Epoch 32/50\n",
      "\u001b[1m1004/1004\u001b[0m \u001b[32m━━━━━━━━━━━━━━━━━━━━\u001b[0m\u001b[37m\u001b[0m \u001b[1m9s\u001b[0m 9ms/step - accuracy: 0.9666 - loss: 0.0922 - val_accuracy: 0.9922 - val_loss: 0.0390\n",
      "Epoch 33/50\n",
      "\u001b[1m1004/1004\u001b[0m \u001b[32m━━━━━━━━━━━━━━━━━━━━\u001b[0m\u001b[37m\u001b[0m \u001b[1m9s\u001b[0m 9ms/step - accuracy: 0.9700 - loss: 0.0897 - val_accuracy: 0.9935 - val_loss: 0.0356\n",
      "Epoch 34/50\n",
      "\u001b[1m1004/1004\u001b[0m \u001b[32m━━━━━━━━━━━━━━━━━━━━\u001b[0m\u001b[37m\u001b[0m \u001b[1m9s\u001b[0m 9ms/step - accuracy: 0.9686 - loss: 0.0873 - val_accuracy: 0.9890 - val_loss: 0.0417\n",
      "Epoch 35/50\n",
      "\u001b[1m1004/1004\u001b[0m \u001b[32m━━━━━━━━━━━━━━━━━━━━\u001b[0m\u001b[37m\u001b[0m \u001b[1m10s\u001b[0m 9ms/step - accuracy: 0.9670 - loss: 0.0928 - val_accuracy: 0.9939 - val_loss: 0.0362\n",
      "Epoch 36/50\n",
      "\u001b[1m1004/1004\u001b[0m \u001b[32m━━━━━━━━━━━━━━━━━━━━\u001b[0m\u001b[37m\u001b[0m \u001b[1m9s\u001b[0m 9ms/step - accuracy: 0.9695 - loss: 0.0888 - val_accuracy: 0.9852 - val_loss: 0.0433\n",
      "Epoch 37/50\n",
      "\u001b[1m1004/1004\u001b[0m \u001b[32m━━━━━━━━━━━━━━━━━━━━\u001b[0m\u001b[37m\u001b[0m \u001b[1m9s\u001b[0m 9ms/step - accuracy: 0.9720 - loss: 0.0831 - val_accuracy: 0.9925 - val_loss: 0.0362\n",
      "Epoch 38/50\n",
      "\u001b[1m1004/1004\u001b[0m \u001b[32m━━━━━━━━━━━━━━━━━━━━\u001b[0m\u001b[37m\u001b[0m \u001b[1m9s\u001b[0m 9ms/step - accuracy: 0.9701 - loss: 0.0849 - val_accuracy: 0.9944 - val_loss: 0.0351\n",
      "Epoch 39/50\n",
      "\u001b[1m1004/1004\u001b[0m \u001b[32m━━━━━━━━━━━━━━━━━━━━\u001b[0m\u001b[37m\u001b[0m \u001b[1m10s\u001b[0m 10ms/step - accuracy: 0.9717 - loss: 0.0817 - val_accuracy: 0.9935 - val_loss: 0.0362\n",
      "Epoch 40/50\n",
      "\u001b[1m1004/1004\u001b[0m \u001b[32m━━━━━━━━━━━━━━━━━━━━\u001b[0m\u001b[37m\u001b[0m \u001b[1m9s\u001b[0m 9ms/step - accuracy: 0.9709 - loss: 0.0831 - val_accuracy: 0.9918 - val_loss: 0.0329\n",
      "Epoch 41/50\n",
      "\u001b[1m1004/1004\u001b[0m \u001b[32m━━━━━━━━━━━━━━━━━━━━\u001b[0m\u001b[37m\u001b[0m \u001b[1m9s\u001b[0m 9ms/step - accuracy: 0.9688 - loss: 0.0860 - val_accuracy: 0.9938 - val_loss: 0.0338\n",
      "Epoch 42/50\n",
      "\u001b[1m1004/1004\u001b[0m \u001b[32m━━━━━━━━━━━━━━━━━━━━\u001b[0m\u001b[37m\u001b[0m \u001b[1m10s\u001b[0m 10ms/step - accuracy: 0.9708 - loss: 0.0847 - val_accuracy: 0.9903 - val_loss: 0.0366\n",
      "Epoch 43/50\n",
      "\u001b[1m1004/1004\u001b[0m \u001b[32m━━━━━━━━━━━━━━━━━━━━\u001b[0m\u001b[37m\u001b[0m \u001b[1m10s\u001b[0m 9ms/step - accuracy: 0.9685 - loss: 0.0836 - val_accuracy: 0.9949 - val_loss: 0.0331\n",
      "Epoch 44/50\n",
      "\u001b[1m1004/1004\u001b[0m \u001b[32m━━━━━━━━━━━━━━━━━━━━\u001b[0m\u001b[37m\u001b[0m \u001b[1m9s\u001b[0m 9ms/step - accuracy: 0.9743 - loss: 0.0772 - val_accuracy: 0.9890 - val_loss: 0.0387\n",
      "Epoch 45/50\n",
      "\u001b[1m1004/1004\u001b[0m \u001b[32m━━━━━━━━━━━━━━━━━━━━\u001b[0m\u001b[37m\u001b[0m \u001b[1m10s\u001b[0m 10ms/step - accuracy: 0.9720 - loss: 0.0809 - val_accuracy: 0.9791 - val_loss: 0.0487\n",
      "Epoch 46/50\n",
      "\u001b[1m1004/1004\u001b[0m \u001b[32m━━━━━━━━━━━━━━━━━━━━\u001b[0m\u001b[37m\u001b[0m \u001b[1m9s\u001b[0m 9ms/step - accuracy: 0.9722 - loss: 0.0781 - val_accuracy: 0.9945 - val_loss: 0.0341\n",
      "Epoch 47/50\n",
      "\u001b[1m1004/1004\u001b[0m \u001b[32m━━━━━━━━━━━━━━━━━━━━\u001b[0m\u001b[37m\u001b[0m \u001b[1m9s\u001b[0m 9ms/step - accuracy: 0.9711 - loss: 0.0808 - val_accuracy: 0.9924 - val_loss: 0.0323\n",
      "Epoch 48/50\n",
      "\u001b[1m1004/1004\u001b[0m \u001b[32m━━━━━━━━━━━━━━━━━━━━\u001b[0m\u001b[37m\u001b[0m \u001b[1m9s\u001b[0m 9ms/step - accuracy: 0.9724 - loss: 0.0790 - val_accuracy: 0.9890 - val_loss: 0.0374\n",
      "Epoch 49/50\n",
      "\u001b[1m1004/1004\u001b[0m \u001b[32m━━━━━━━━━━━━━━━━━━━━\u001b[0m\u001b[37m\u001b[0m \u001b[1m10s\u001b[0m 10ms/step - accuracy: 0.9746 - loss: 0.0751 - val_accuracy: 0.9879 - val_loss: 0.0351\n",
      "Epoch 50/50\n",
      "\u001b[1m1004/1004\u001b[0m \u001b[32m━━━━━━━━━━━━━━━━━━━━\u001b[0m\u001b[37m\u001b[0m \u001b[1m9s\u001b[0m 9ms/step - accuracy: 0.9725 - loss: 0.0800 - val_accuracy: 0.9930 - val_loss: 0.0303\n"
     ]
    }
   ],
   "source": [
    "# Initialize EEGNet model\n",
    "eeg_net = EEGNet(\n",
    "    nb_classes=3,       # Number of states: Focused, Unfocused, Drowsy\n",
    "    Chans=Chans,           # Number of EEG channels\n",
    "    Samples=Samples,        # Samples per second\n",
    "    kernLength=64,      # Kernel temporal: suitable for 128Hz\n",
    "    F1=8,              # Number of temporal filters\n",
    "    D=2,                # Spatial Filter\n",
    "    F2=16,              # Total filter number\n",
    "    norm_rate= 0.25,     # Constraint level for the kernel of the Dense layer.\n",
    "    dropoutRate=0.5,    # Dropout to avoid overfitting\n",
    "    dropoutType='Dropout'\n",
    ")\n",
    "\n",
    "# Compile EEGNet model\n",
    "eeg_net.compile(\n",
    "    loss='categorical_crossentropy',  # Multi-layer classification\n",
    "    optimizer=Adam(learning_rate=0.001),  # Adam optimizer with low learning rate\n",
    "    metrics=['accuracy']  # Evaluate by accuracy\n",
    ")\n",
    "\n",
    "# Train model\n",
    "history = eeg_net.fit(\n",
    "    X_train, \n",
    "    y_train_onehot, \n",
    "    epochs=50, \n",
    "    batch_size=32, \n",
    "    validation_data=(X_val, y_val_onehot) # Use validation_data to validate in each epoch\n",
    ")"
   ]
  },
  {
   "cell_type": "markdown",
   "id": "f9e8bdc8",
   "metadata": {
    "papermill": {
     "duration": 0.437215,
     "end_time": "2024-12-25T12:13:48.415950",
     "exception": false,
     "start_time": "2024-12-25T12:13:47.978735",
     "status": "completed"
    },
    "tags": []
   },
   "source": [
    "## Evaluation"
   ]
  },
  {
   "cell_type": "code",
   "execution_count": 11,
   "id": "148f7024",
   "metadata": {
    "execution": {
     "iopub.execute_input": "2024-12-25T12:13:49.338409Z",
     "iopub.status.busy": "2024-12-25T12:13:49.337251Z",
     "iopub.status.idle": "2024-12-25T12:14:10.089653Z",
     "shell.execute_reply": "2024-12-25T12:14:10.088535Z"
    },
    "papermill": {
     "duration": 21.191724,
     "end_time": "2024-12-25T12:14:10.091885",
     "exception": false,
     "start_time": "2024-12-25T12:13:48.900161",
     "status": "completed"
    },
    "tags": []
   },
   "outputs": [
    {
     "name": "stdout",
     "output_type": "stream",
     "text": [
      "\u001b[1m4832/4832\u001b[0m \u001b[32m━━━━━━━━━━━━━━━━━━━━\u001b[0m\u001b[37m\u001b[0m \u001b[1m18s\u001b[0m 4ms/step\n",
      "Accuracy: 0.9592606246402401\n",
      "Classification Report:\n",
      "              precision    recall  f1-score   support\n",
      "\n",
      "           0       1.00      0.96      0.98     91611\n",
      "           1       0.92      1.00      0.96     30657\n",
      "           2       0.89      0.92      0.90     32349\n",
      "\n",
      "    accuracy                           0.96    154617\n",
      "   macro avg       0.94      0.96      0.95    154617\n",
      "weighted avg       0.96      0.96      0.96    154617\n",
      "\n"
     ]
    }
   ],
   "source": [
    "# Evaluate the model on the test set\n",
    "y_pred = np.argmax(eeg_net.predict(X_test), axis=1)\n",
    "\n",
    "accuracy = accuracy_score(y_test, y_pred)\n",
    "print(f\"Accuracy: {accuracy}\")\n",
    "\n",
    "print(f\"Classification Report:\")\n",
    "print(classification_report(y_pred, y_test))"
   ]
  },
  {
   "cell_type": "markdown",
   "id": "1de76fce",
   "metadata": {
    "execution": {
     "iopub.execute_input": "2024-12-02T16:16:24.757504Z",
     "iopub.status.busy": "2024-12-02T16:16:24.757080Z",
     "iopub.status.idle": "2024-12-02T16:16:24.780747Z",
     "shell.execute_reply": "2024-12-02T16:16:24.779754Z",
     "shell.execute_reply.started": "2024-12-02T16:16:24.757455Z"
    },
    "papermill": {
     "duration": 0.508505,
     "end_time": "2024-12-25T12:14:11.056258",
     "exception": false,
     "start_time": "2024-12-25T12:14:10.547753",
     "status": "completed"
    },
    "tags": []
   },
   "source": [
    "## Visualization\n",
    "#### Confusion matrix"
   ]
  },
  {
   "cell_type": "code",
   "execution_count": 12,
   "id": "d0db2516",
   "metadata": {
    "execution": {
     "iopub.execute_input": "2024-12-25T12:14:11.963693Z",
     "iopub.status.busy": "2024-12-25T12:14:11.963312Z",
     "iopub.status.idle": "2024-12-25T12:14:12.509169Z",
     "shell.execute_reply": "2024-12-25T12:14:12.508143Z"
    },
    "papermill": {
     "duration": 1.001884,
     "end_time": "2024-12-25T12:14:12.511512",
     "exception": false,
     "start_time": "2024-12-25T12:14:11.509628",
     "status": "completed"
    },
    "tags": []
   },
   "outputs": [
    {
     "data": {
      "image/png": "[encoded data removed]",
      "text/plain": [
       "<Figure size 640x480 with 2 Axes>"
      ]
     },
     "metadata": {},
     "output_type": "display_data"
    }
   ],
   "source": [
    "cm = confusion_matrix(y_test, y_pred)\n",
    "sns.heatmap(cm, annot=True, fmt='d', cmap='Blues')\n",
    "plt.xlabel('Predicted')\n",
    "plt.ylabel('True')\n",
    "plt.title('Confusion Matrix')\n",
    "plt.show()"
   ]
  },
  {
   "cell_type": "markdown",
   "id": "7d9f21d7",
   "metadata": {
    "papermill": {
     "duration": 0.447628,
     "end_time": "2024-12-25T12:14:13.463072",
     "exception": false,
     "start_time": "2024-12-25T12:14:13.015444",
     "status": "completed"
    },
    "tags": []
   },
   "source": [
    "#### ROC curve"
   ]
  },
  {
   "cell_type": "code",
   "execution_count": 13,
   "id": "e1aff24e",
   "metadata": {
    "execution": {
     "iopub.execute_input": "2024-12-25T12:14:14.447010Z",
     "iopub.status.busy": "2024-12-25T12:14:14.446621Z",
     "iopub.status.idle": "2024-12-25T12:14:14.754679Z",
     "shell.execute_reply": "2024-12-25T12:14:14.753654Z"
    },
    "papermill": {
     "duration": 0.789808,
     "end_time": "2024-12-25T12:14:14.756891",
     "exception": false,
     "start_time": "2024-12-25T12:14:13.967083",
     "status": "completed"
    },
    "tags": []
   },
   "outputs": [
    {
     "data": {
      "image/png": "[encoded data removed]",
      "text/plain": [
       "<Figure size 640x480 with 1 Axes>"
      ]
     },
     "metadata": {},
     "output_type": "display_data"
    }
   ],
   "source": [
    "y_pred_onehot = to_categorical(y_pred, num_classes=3)\n",
    "\n",
    "n_classes = 3\n",
    "fpr, tpr, roc_auc = {}, {}, {}\n",
    "\n",
    "# Calculate ROC for each class\n",
    "for i in range(n_classes):\n",
    "    fpr[i], tpr[i], _ = roc_curve(y_test_onehot[:, i], y_pred_onehot[:, i])\n",
    "    roc_auc[i] = auc(fpr[i], tpr[i])\n",
    "\n",
    "# Plot ROC curve for each class\n",
    "plt.figure()\n",
    "colors = ['blue', 'orange', 'green']\n",
    "for i in range(n_classes):\n",
    "    plt.plot(fpr[i], tpr[i], color=colors[i], lw=2,\n",
    "             label=f'ROC curve for class {i} (AUC = {roc_auc[i]:.2f})')\n",
    "\n",
    "plt.plot([0, 1], [0, 1], color='gray', linestyle='--', label='Random Guess')\n",
    "plt.xlabel('False Positive Rate')\n",
    "plt.ylabel('True Positive Rate')\n",
    "plt.title('ROC Curve')\n",
    "plt.legend(loc=\"lower right\")\n",
    "plt.show()"
   ]
  }
 ],
 "metadata": {
  "kaggle": {
   "accelerator": "none",
   "dataSources": [
    {
     "datasetId": 6202660,
     "sourceId": 10064695,
     "sourceType": "datasetVersion"
    },
    {
     "datasetId": 6244157,
     "sourceId": 10119760,
     "sourceType": "datasetVersion"
    }
   ],
   "dockerImageVersionId": 30786,
   "isGpuEnabled": false,
   "isInternetEnabled": false,
   "language": "python",
   "sourceType": "notebook"
  },
  "kernelspec": {
   "display_name": "Python 3",
   "language": "python",
   "name": "python3"
  },
  "language_info": {
   "codemirror_mode": {
    "name": "ipython",
    "version": 3
   },
   "file_extension": ".py",
   "mimetype": "text/x-python",
   "name": "python",
   "nbconvert_exporter": "python",
   "pygments_lexer": "ipython3",
   "version": "3.10.14"
  },
  "papermill": {
   "default_parameters": {},
   "duration": 540.214414,
   "end_time": "2024-12-25T12:14:16.843944",
   "environment_variables": {},
   "exception": null,
   "input_path": "__notebook__.ipynb",
   "output_path": "__notebook__.ipynb",
   "parameters": {},
   "start_time": "2024-12-25T12:05:16.629530",
   "version": "2.6.0"
  }
 },
 "nbformat": 4,
 "nbformat_minor": 5
}
