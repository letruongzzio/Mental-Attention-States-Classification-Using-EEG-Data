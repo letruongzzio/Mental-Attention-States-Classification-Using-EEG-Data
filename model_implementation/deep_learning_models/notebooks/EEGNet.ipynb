{
 "cells": [
  {
   "cell_type": "markdown",
<<<<<<< HEAD
   "id": "08246219",
   "metadata": {
    "papermill": {
     "duration": 0.004472,
     "end_time": "2024-12-02T17:19:59.295194",
     "exception": false,
     "start_time": "2024-12-02T17:19:59.290722",
=======
   "id": "9f07b48b",
   "metadata": {
    "papermill": {
     "duration": 0.004659,
     "end_time": "2024-12-03T10:44:24.985412",
     "exception": false,
     "start_time": "2024-12-03T10:44:24.980753",
>>>>>>> 5a963263c59307331e3870ac37275b68a94a2957
     "status": "completed"
    },
    "tags": []
   },
   "source": [
    "## Introduction\n",
    "This notebook builds an EEGNet model to classify states from EEG data. The process includes the steps: data input, normalization, model construction, training, and evaluation."
   ]
  },
  {
   "cell_type": "code",
   "execution_count": 1,
<<<<<<< HEAD
   "id": "f4936b05",
   "metadata": {
    "execution": {
     "iopub.execute_input": "2024-12-02T17:19:59.305932Z",
     "iopub.status.busy": "2024-12-02T17:19:59.304930Z",
     "iopub.status.idle": "2024-12-02T17:20:16.735019Z",
     "shell.execute_reply": "2024-12-02T17:20:16.733691Z"
    },
    "papermill": {
     "duration": 17.438323,
     "end_time": "2024-12-02T17:20:16.737872",
     "exception": false,
     "start_time": "2024-12-02T17:19:59.299549",
=======
   "id": "f55023cb",
   "metadata": {
    "execution": {
     "iopub.execute_input": "2024-12-03T10:44:24.994663Z",
     "iopub.status.busy": "2024-12-03T10:44:24.994203Z",
     "iopub.status.idle": "2024-12-03T10:44:40.176013Z",
     "shell.execute_reply": "2024-12-03T10:44:40.175107Z"
    },
    "papermill": {
     "duration": 15.189201,
     "end_time": "2024-12-03T10:44:40.178533",
     "exception": false,
     "start_time": "2024-12-03T10:44:24.989332",
>>>>>>> 5a963263c59307331e3870ac37275b68a94a2957
     "status": "completed"
    },
    "tags": []
   },
   "outputs": [],
   "source": [
    "import sys\n",
    "import pandas as pd\n",
    "import numpy as np\n",
    "import os\n",
    "import seaborn as sns\n",
    "import matplotlib.pyplot as plt\n",
    "import tensorflow as tf\n",
    "from sklearn.metrics import accuracy_score, classification_report, confusion_matrix, roc_curve, auc\n",
    "from sklearn.model_selection import train_test_split\n",
    "from sklearn.preprocessing import MinMaxScaler, LabelEncoder\n",
    "from tensorflow.keras.models import Model\n",
    "from tensorflow.keras.layers import Dense, Activation, Permute, Dropout\n",
    "from tensorflow.keras.layers import Conv2D, MaxPooling2D, AveragePooling2D\n",
    "from tensorflow.keras.layers import SeparableConv2D, DepthwiseConv2D\n",
    "from tensorflow.keras.layers import BatchNormalization\n",
    "from tensorflow.keras.layers import SpatialDropout2D\n",
    "from tensorflow.keras.regularizers import l1_l2\n",
    "from tensorflow.keras.layers import Input, Flatten\n",
    "from tensorflow.keras.constraints import max_norm\n",
    "from tensorflow.keras import backend as K\n",
    "from tensorflow.keras.utils import to_categorical\n",
    "from tensorflow.keras.optimizers import Adam"
   ]
  },
  {
   "cell_type": "markdown",
<<<<<<< HEAD
   "id": "e6f952bf",
   "metadata": {
    "papermill": {
     "duration": 0.003893,
     "end_time": "2024-12-02T17:20:16.746217",
     "exception": false,
     "start_time": "2024-12-02T17:20:16.742324",
=======
   "id": "bffd307f",
   "metadata": {
    "papermill": {
     "duration": 0.003626,
     "end_time": "2024-12-03T10:44:40.186332",
     "exception": false,
     "start_time": "2024-12-03T10:44:40.182706",
>>>>>>> 5a963263c59307331e3870ac37275b68a94a2957
     "status": "completed"
    },
    "tags": []
   },
   "source": [
    "## Load dataset"
   ]
  },
  {
   "cell_type": "code",
   "execution_count": 2,
<<<<<<< HEAD
   "id": "9147feea",
   "metadata": {
    "execution": {
     "iopub.execute_input": "2024-12-02T17:20:16.756487Z",
     "iopub.status.busy": "2024-12-02T17:20:16.755802Z",
     "iopub.status.idle": "2024-12-02T17:20:37.767446Z",
     "shell.execute_reply": "2024-12-02T17:20:37.766035Z"
    },
    "papermill": {
     "duration": 21.019548,
     "end_time": "2024-12-02T17:20:37.769801",
     "exception": false,
     "start_time": "2024-12-02T17:20:16.750253",
=======
   "id": "9cf426c5",
   "metadata": {
    "execution": {
     "iopub.execute_input": "2024-12-03T10:44:40.196259Z",
     "iopub.status.busy": "2024-12-03T10:44:40.195166Z",
     "iopub.status.idle": "2024-12-03T10:45:02.197070Z",
     "shell.execute_reply": "2024-12-03T10:45:02.196004Z"
    },
    "papermill": {
     "duration": 22.009185,
     "end_time": "2024-12-03T10:45:02.199331",
     "exception": false,
     "start_time": "2024-12-03T10:44:40.190146",
>>>>>>> 5a963263c59307331e3870ac37275b68a94a2957
     "status": "completed"
    },
    "tags": []
   },
   "outputs": [
    {
     "name": "stdout",
     "output_type": "stream",
     "text": [
      "Train shape: (155822, 204), Test shape: (38956, 204)\n"
     ]
    }
   ],
   "source": [
    "df_train = pd.read_csv('/kaggle/input/data-eeg/df_train.csv')\n",
    "df_test = pd.read_csv('/kaggle/input/data-eeg/df_test.csv')\n",
    "print(f\"Train shape: {df_train.shape}, Test shape: {df_test.shape}\")"
   ]
  },
  {
<<<<<<< HEAD
   "cell_type": "markdown",
   "id": "6638c4e6",
   "metadata": {
    "papermill": {
     "duration": 0.004251,
     "end_time": "2024-12-02T17:20:39.720727",
     "exception": false,
     "start_time": "2024-12-02T17:20:39.716476",
=======
   "cell_type": "code",
   "execution_count": 3,
   "id": "ba8c61a0",
   "metadata": {
    "execution": {
     "iopub.execute_input": "2024-12-03T10:45:02.208903Z",
     "iopub.status.busy": "2024-12-03T10:45:02.208528Z",
     "iopub.status.idle": "2024-12-03T10:45:03.876881Z",
     "shell.execute_reply": "2024-12-03T10:45:03.875779Z"
    },
    "papermill": {
     "duration": 1.676059,
     "end_time": "2024-12-03T10:45:03.879419",
     "exception": false,
     "start_time": "2024-12-03T10:45:02.203360",
     "status": "completed"
    },
    "tags": []
   },
   "outputs": [
    {
     "data": {
      "text/html": [
       "<div>\n",
       "<style scoped>\n",
       "    .dataframe tbody tr th:only-of-type {\n",
       "        vertical-align: middle;\n",
       "    }\n",
       "\n",
       "    .dataframe tbody tr th {\n",
       "        vertical-align: top;\n",
       "    }\n",
       "\n",
       "    .dataframe thead th {\n",
       "        text-align: right;\n",
       "    }\n",
       "</style>\n",
       "<table border=\"1\" class=\"dataframe\">\n",
       "  <thead>\n",
       "    <tr style=\"text-align: right;\">\n",
       "      <th></th>\n",
       "      <th>ED_F3_spectral_entropy</th>\n",
       "      <th>ED_F3_peak_frequency</th>\n",
       "      <th>ED_F3_mean</th>\n",
       "      <th>ED_F3_std</th>\n",
       "      <th>ED_F3_median</th>\n",
       "      <th>ED_F3_min</th>\n",
       "      <th>ED_F3_max</th>\n",
       "      <th>ED_F3_skewness</th>\n",
       "      <th>ED_F3_kurtosis</th>\n",
       "      <th>ED_F3_power_delta</th>\n",
       "      <th>...</th>\n",
       "      <th>t_wavelet_d1_energy</th>\n",
       "      <th>t_wavelet_d2_energy</th>\n",
       "      <th>t_wavelet_d3_energy</th>\n",
       "      <th>t_wavelet_d4_energy</th>\n",
       "      <th>t_wavelet_d5_energy</th>\n",
       "      <th>t_wavelet_d1_relative_energy</th>\n",
       "      <th>t_wavelet_d2_relative_energy</th>\n",
       "      <th>t_wavelet_d3_relative_energy</th>\n",
       "      <th>t_wavelet_d4_relative_energy</th>\n",
       "      <th>t_wavelet_d5_relative_energy</th>\n",
       "    </tr>\n",
       "  </thead>\n",
       "  <tbody>\n",
       "    <tr>\n",
       "      <th>count</th>\n",
       "      <td>155822.000000</td>\n",
       "      <td>155822.000000</td>\n",
       "      <td>155822.000000</td>\n",
       "      <td>155822.000000</td>\n",
       "      <td>155822.000000</td>\n",
       "      <td>1.558220e+05</td>\n",
       "      <td>155822.000000</td>\n",
       "      <td>155822.000000</td>\n",
       "      <td>155822.000000</td>\n",
       "      <td>1.558220e+05</td>\n",
       "      <td>...</td>\n",
       "      <td>1.558220e+05</td>\n",
       "      <td>1.558220e+05</td>\n",
       "      <td>1.558220e+05</td>\n",
       "      <td>1.558220e+05</td>\n",
       "      <td>1.558220e+05</td>\n",
       "      <td>1.558220e+05</td>\n",
       "      <td>1.558220e+05</td>\n",
       "      <td>1.558220e+05</td>\n",
       "      <td>1.558220e+05</td>\n",
       "      <td>1.558220e+05</td>\n",
       "    </tr>\n",
       "    <tr>\n",
       "      <th>mean</th>\n",
       "      <td>4.424604</td>\n",
       "      <td>2.574344</td>\n",
       "      <td>0.000057</td>\n",
       "      <td>0.000089</td>\n",
       "      <td>0.000033</td>\n",
       "      <td>1.411458e-06</td>\n",
       "      <td>0.000653</td>\n",
       "      <td>3.383403</td>\n",
       "      <td>20.483380</td>\n",
       "      <td>9.564615e-06</td>\n",
       "      <td>...</td>\n",
       "      <td>4.419788e+02</td>\n",
       "      <td>8.129809e+01</td>\n",
       "      <td>4.032045e+01</td>\n",
       "      <td>4.126317e+00</td>\n",
       "      <td>1.284618e-02</td>\n",
       "      <td>7.784928e-01</td>\n",
       "      <td>1.431969e-01</td>\n",
       "      <td>7.101966e-02</td>\n",
       "      <td>7.268014e-03</td>\n",
       "      <td>2.262701e-05</td>\n",
       "    </tr>\n",
       "    <tr>\n",
       "      <th>std</th>\n",
       "      <td>0.936157</td>\n",
       "      <td>3.433634</td>\n",
       "      <td>0.000130</td>\n",
       "      <td>0.000269</td>\n",
       "      <td>0.000069</td>\n",
       "      <td>9.137619e-06</td>\n",
       "      <td>0.002073</td>\n",
       "      <td>1.671346</td>\n",
       "      <td>18.255142</td>\n",
       "      <td>5.237196e-04</td>\n",
       "      <td>...</td>\n",
       "      <td>5.196681e-09</td>\n",
       "      <td>1.416169e-09</td>\n",
       "      <td>6.590758e-10</td>\n",
       "      <td>1.268334e-10</td>\n",
       "      <td>2.476158e-12</td>\n",
       "      <td>3.059385e-12</td>\n",
       "      <td>2.637887e-12</td>\n",
       "      <td>1.225365e-12</td>\n",
       "      <td>2.304718e-13</td>\n",
       "      <td>4.371704e-15</td>\n",
       "    </tr>\n",
       "    <tr>\n",
       "      <th>min</th>\n",
       "      <td>0.362584</td>\n",
       "      <td>0.000000</td>\n",
       "      <td>0.000008</td>\n",
       "      <td>0.000008</td>\n",
       "      <td>0.000004</td>\n",
       "      <td>4.743901e-10</td>\n",
       "      <td>0.000034</td>\n",
       "      <td>-0.639453</td>\n",
       "      <td>1.474750</td>\n",
       "      <td>1.777156e-09</td>\n",
       "      <td>...</td>\n",
       "      <td>4.419788e+02</td>\n",
       "      <td>8.129809e+01</td>\n",
       "      <td>4.032045e+01</td>\n",
       "      <td>4.126317e+00</td>\n",
       "      <td>1.284618e-02</td>\n",
       "      <td>7.784928e-01</td>\n",
       "      <td>1.431969e-01</td>\n",
       "      <td>7.101966e-02</td>\n",
       "      <td>7.268014e-03</td>\n",
       "      <td>2.262701e-05</td>\n",
       "    </tr>\n",
       "    <tr>\n",
       "      <th>25%</th>\n",
       "      <td>4.092426</td>\n",
       "      <td>0.500000</td>\n",
       "      <td>0.000038</td>\n",
       "      <td>0.000044</td>\n",
       "      <td>0.000025</td>\n",
       "      <td>4.285321e-07</td>\n",
       "      <td>0.000267</td>\n",
       "      <td>2.263050</td>\n",
       "      <td>9.281461</td>\n",
       "      <td>1.471021e-07</td>\n",
       "      <td>...</td>\n",
       "      <td>4.419788e+02</td>\n",
       "      <td>8.129809e+01</td>\n",
       "      <td>4.032045e+01</td>\n",
       "      <td>4.126317e+00</td>\n",
       "      <td>1.284618e-02</td>\n",
       "      <td>7.784928e-01</td>\n",
       "      <td>1.431969e-01</td>\n",
       "      <td>7.101966e-02</td>\n",
       "      <td>7.268014e-03</td>\n",
       "      <td>2.262701e-05</td>\n",
       "    </tr>\n",
       "    <tr>\n",
       "      <th>50%</th>\n",
       "      <td>4.659440</td>\n",
       "      <td>1.000000</td>\n",
       "      <td>0.000047</td>\n",
       "      <td>0.000058</td>\n",
       "      <td>0.000031</td>\n",
       "      <td>8.009414e-07</td>\n",
       "      <td>0.000374</td>\n",
       "      <td>2.919718</td>\n",
       "      <td>14.127112</td>\n",
       "      <td>2.913750e-07</td>\n",
       "      <td>...</td>\n",
       "      <td>4.419788e+02</td>\n",
       "      <td>8.129809e+01</td>\n",
       "      <td>4.032045e+01</td>\n",
       "      <td>4.126317e+00</td>\n",
       "      <td>1.284618e-02</td>\n",
       "      <td>7.784928e-01</td>\n",
       "      <td>1.431969e-01</td>\n",
       "      <td>7.101966e-02</td>\n",
       "      <td>7.268014e-03</td>\n",
       "      <td>2.262701e-05</td>\n",
       "    </tr>\n",
       "    <tr>\n",
       "      <th>75%</th>\n",
       "      <td>5.051713</td>\n",
       "      <td>2.500000</td>\n",
       "      <td>0.000060</td>\n",
       "      <td>0.000084</td>\n",
       "      <td>0.000037</td>\n",
       "      <td>1.430284e-06</td>\n",
       "      <td>0.000592</td>\n",
       "      <td>3.989856</td>\n",
       "      <td>24.017910</td>\n",
       "      <td>6.216738e-07</td>\n",
       "      <td>...</td>\n",
       "      <td>4.419788e+02</td>\n",
       "      <td>8.129809e+01</td>\n",
       "      <td>4.032045e+01</td>\n",
       "      <td>4.126317e+00</td>\n",
       "      <td>1.284618e-02</td>\n",
       "      <td>7.784928e-01</td>\n",
       "      <td>1.431969e-01</td>\n",
       "      <td>7.101966e-02</td>\n",
       "      <td>7.268014e-03</td>\n",
       "      <td>2.262701e-05</td>\n",
       "    </tr>\n",
       "    <tr>\n",
       "      <th>max</th>\n",
       "      <td>6.825366</td>\n",
       "      <td>50.000000</td>\n",
       "      <td>0.015937</td>\n",
       "      <td>0.025928</td>\n",
       "      <td>0.007683</td>\n",
       "      <td>2.057558e-03</td>\n",
       "      <td>0.212953</td>\n",
       "      <td>10.778424</td>\n",
       "      <td>119.939897</td>\n",
       "      <td>8.790882e-02</td>\n",
       "      <td>...</td>\n",
       "      <td>4.419788e+02</td>\n",
       "      <td>8.129809e+01</td>\n",
       "      <td>4.032045e+01</td>\n",
       "      <td>4.126317e+00</td>\n",
       "      <td>1.284618e-02</td>\n",
       "      <td>7.784928e-01</td>\n",
       "      <td>1.431969e-01</td>\n",
       "      <td>7.101966e-02</td>\n",
       "      <td>7.268014e-03</td>\n",
       "      <td>2.262701e-05</td>\n",
       "    </tr>\n",
       "  </tbody>\n",
       "</table>\n",
       "<p>8 rows × 203 columns</p>\n",
       "</div>"
      ],
      "text/plain": [
       "       ED_F3_spectral_entropy  ED_F3_peak_frequency     ED_F3_mean  \\\n",
       "count           155822.000000         155822.000000  155822.000000   \n",
       "mean                 4.424604              2.574344       0.000057   \n",
       "std                  0.936157              3.433634       0.000130   \n",
       "min                  0.362584              0.000000       0.000008   \n",
       "25%                  4.092426              0.500000       0.000038   \n",
       "50%                  4.659440              1.000000       0.000047   \n",
       "75%                  5.051713              2.500000       0.000060   \n",
       "max                  6.825366             50.000000       0.015937   \n",
       "\n",
       "           ED_F3_std   ED_F3_median     ED_F3_min      ED_F3_max  \\\n",
       "count  155822.000000  155822.000000  1.558220e+05  155822.000000   \n",
       "mean        0.000089       0.000033  1.411458e-06       0.000653   \n",
       "std         0.000269       0.000069  9.137619e-06       0.002073   \n",
       "min         0.000008       0.000004  4.743901e-10       0.000034   \n",
       "25%         0.000044       0.000025  4.285321e-07       0.000267   \n",
       "50%         0.000058       0.000031  8.009414e-07       0.000374   \n",
       "75%         0.000084       0.000037  1.430284e-06       0.000592   \n",
       "max         0.025928       0.007683  2.057558e-03       0.212953   \n",
       "\n",
       "       ED_F3_skewness  ED_F3_kurtosis  ED_F3_power_delta  ...  \\\n",
       "count   155822.000000   155822.000000       1.558220e+05  ...   \n",
       "mean         3.383403       20.483380       9.564615e-06  ...   \n",
       "std          1.671346       18.255142       5.237196e-04  ...   \n",
       "min         -0.639453        1.474750       1.777156e-09  ...   \n",
       "25%          2.263050        9.281461       1.471021e-07  ...   \n",
       "50%          2.919718       14.127112       2.913750e-07  ...   \n",
       "75%          3.989856       24.017910       6.216738e-07  ...   \n",
       "max         10.778424      119.939897       8.790882e-02  ...   \n",
       "\n",
       "       t_wavelet_d1_energy  t_wavelet_d2_energy  t_wavelet_d3_energy  \\\n",
       "count         1.558220e+05         1.558220e+05         1.558220e+05   \n",
       "mean          4.419788e+02         8.129809e+01         4.032045e+01   \n",
       "std           5.196681e-09         1.416169e-09         6.590758e-10   \n",
       "min           4.419788e+02         8.129809e+01         4.032045e+01   \n",
       "25%           4.419788e+02         8.129809e+01         4.032045e+01   \n",
       "50%           4.419788e+02         8.129809e+01         4.032045e+01   \n",
       "75%           4.419788e+02         8.129809e+01         4.032045e+01   \n",
       "max           4.419788e+02         8.129809e+01         4.032045e+01   \n",
       "\n",
       "       t_wavelet_d4_energy  t_wavelet_d5_energy  t_wavelet_d1_relative_energy  \\\n",
       "count         1.558220e+05         1.558220e+05                  1.558220e+05   \n",
       "mean          4.126317e+00         1.284618e-02                  7.784928e-01   \n",
       "std           1.268334e-10         2.476158e-12                  3.059385e-12   \n",
       "min           4.126317e+00         1.284618e-02                  7.784928e-01   \n",
       "25%           4.126317e+00         1.284618e-02                  7.784928e-01   \n",
       "50%           4.126317e+00         1.284618e-02                  7.784928e-01   \n",
       "75%           4.126317e+00         1.284618e-02                  7.784928e-01   \n",
       "max           4.126317e+00         1.284618e-02                  7.784928e-01   \n",
       "\n",
       "       t_wavelet_d2_relative_energy  t_wavelet_d3_relative_energy  \\\n",
       "count                  1.558220e+05                  1.558220e+05   \n",
       "mean                   1.431969e-01                  7.101966e-02   \n",
       "std                    2.637887e-12                  1.225365e-12   \n",
       "min                    1.431969e-01                  7.101966e-02   \n",
       "25%                    1.431969e-01                  7.101966e-02   \n",
       "50%                    1.431969e-01                  7.101966e-02   \n",
       "75%                    1.431969e-01                  7.101966e-02   \n",
       "max                    1.431969e-01                  7.101966e-02   \n",
       "\n",
       "       t_wavelet_d4_relative_energy  t_wavelet_d5_relative_energy  \n",
       "count                  1.558220e+05                  1.558220e+05  \n",
       "mean                   7.268014e-03                  2.262701e-05  \n",
       "std                    2.304718e-13                  4.371704e-15  \n",
       "min                    7.268014e-03                  2.262701e-05  \n",
       "25%                    7.268014e-03                  2.262701e-05  \n",
       "50%                    7.268014e-03                  2.262701e-05  \n",
       "75%                    7.268014e-03                  2.262701e-05  \n",
       "max                    7.268014e-03                  2.262701e-05  \n",
       "\n",
       "[8 rows x 203 columns]"
      ]
     },
     "execution_count": 3,
     "metadata": {},
     "output_type": "execute_result"
    }
   ],
   "source": [
    "df_train.describe()"
   ]
  },
  {
   "cell_type": "code",
   "execution_count": 4,
   "id": "644ab879",
   "metadata": {
    "execution": {
     "iopub.execute_input": "2024-12-03T10:45:03.890074Z",
     "iopub.status.busy": "2024-12-03T10:45:03.889659Z",
     "iopub.status.idle": "2024-12-03T10:45:03.919237Z",
     "shell.execute_reply": "2024-12-03T10:45:03.918237Z"
    },
    "papermill": {
     "duration": 0.037442,
     "end_time": "2024-12-03T10:45:03.921315",
     "exception": false,
     "start_time": "2024-12-03T10:45:03.883873",
     "status": "completed"
    },
    "tags": []
   },
   "outputs": [
    {
     "data": {
      "text/plain": [
       "(state\n",
       " drowsy       91005\n",
       " unfocused    32531\n",
       " focused      32286\n",
       " Name: count, dtype: int64,\n",
       " state\n",
       " drowsy       22751\n",
       " unfocused     8133\n",
       " focused       8072\n",
       " Name: count, dtype: int64)"
      ]
     },
     "execution_count": 4,
     "metadata": {},
     "output_type": "execute_result"
    }
   ],
   "source": [
    "df_train['state'].value_counts(), df_test['state'].value_counts()"
   ]
  },
  {
   "cell_type": "markdown",
   "id": "ac8eea06",
   "metadata": {
    "papermill": {
     "duration": 0.004187,
     "end_time": "2024-12-03T10:45:03.930130",
     "exception": false,
     "start_time": "2024-12-03T10:45:03.925943",
>>>>>>> 5a963263c59307331e3870ac37275b68a94a2957
     "status": "completed"
    },
    "tags": []
   },
   "source": [
<<<<<<< HEAD
    "## Data preprocessing"
=======
    "## Preprocessing data"
>>>>>>> 5a963263c59307331e3870ac37275b68a94a2957
   ]
  },
  {
   "cell_type": "code",
   "execution_count": 5,
<<<<<<< HEAD
   "id": "5d8d8d7d",
   "metadata": {
    "execution": {
     "iopub.execute_input": "2024-12-02T17:20:39.731339Z",
     "iopub.status.busy": "2024-12-02T17:20:39.730638Z",
     "iopub.status.idle": "2024-12-02T17:20:39.736342Z",
     "shell.execute_reply": "2024-12-02T17:20:39.735317Z"
    },
    "papermill": {
     "duration": 0.013511,
     "end_time": "2024-12-02T17:20:39.738535",
     "exception": false,
     "start_time": "2024-12-02T17:20:39.725024",
=======
   "id": "76ae8f87",
   "metadata": {
    "execution": {
     "iopub.execute_input": "2024-12-03T10:45:03.941139Z",
     "iopub.status.busy": "2024-12-03T10:45:03.940176Z",
     "iopub.status.idle": "2024-12-03T10:45:03.945623Z",
     "shell.execute_reply": "2024-12-03T10:45:03.944610Z"
    },
    "papermill": {
     "duration": 0.013207,
     "end_time": "2024-12-03T10:45:03.947713",
     "exception": false,
     "start_time": "2024-12-03T10:45:03.934506",
>>>>>>> 5a963263c59307331e3870ac37275b68a94a2957
     "status": "completed"
    },
    "tags": []
   },
   "outputs": [],
   "source": [
    "def preprocess_data(df, scaler, encoder):\n",
    "    features = df.drop('state', axis = 1)\n",
    "    labels = df['state']\n",
    "    X_scaled = scaler.fit_transform(features)\n",
    "    y_encoded = encoder.fit_transform(labels)\n",
    "    return X_scaled, y_encoded"
   ]
  },
  {
   "cell_type": "code",
   "execution_count": 6,
<<<<<<< HEAD
   "id": "4d5e1081",
   "metadata": {
    "execution": {
     "iopub.execute_input": "2024-12-02T17:20:39.750375Z",
     "iopub.status.busy": "2024-12-02T17:20:39.749940Z",
     "iopub.status.idle": "2024-12-02T17:20:40.718305Z",
     "shell.execute_reply": "2024-12-02T17:20:40.717003Z"
    },
    "papermill": {
     "duration": 0.976977,
     "end_time": "2024-12-02T17:20:40.721079",
     "exception": false,
     "start_time": "2024-12-02T17:20:39.744102",
=======
   "id": "93289f2a",
   "metadata": {
    "execution": {
     "iopub.execute_input": "2024-12-03T10:45:03.959514Z",
     "iopub.status.busy": "2024-12-03T10:45:03.959127Z",
     "iopub.status.idle": "2024-12-03T10:45:04.863043Z",
     "shell.execute_reply": "2024-12-03T10:45:04.862214Z"
    },
    "papermill": {
     "duration": 0.91193,
     "end_time": "2024-12-03T10:45:04.865363",
     "exception": false,
     "start_time": "2024-12-03T10:45:03.953433",
>>>>>>> 5a963263c59307331e3870ac37275b68a94a2957
     "status": "completed"
    },
    "tags": []
   },
   "outputs": [],
   "source": [
    "scaler = MinMaxScaler()\n",
    "encoder = LabelEncoder()\n",
    "\n",
    "# Prepare training, validation, and test data\n",
    "X_train_scaled, y_train_encoded = preprocess_data(df_train, scaler, encoder)\n",
    "X_test, y_test = preprocess_data(df_test, scaler, encoder)\n",
    "\n",
    "X_train, X_val, y_train, y_val = train_test_split(X_train_scaled, y_train_encoded, \n",
    "                                                  test_size=0.2, random_state=42, stratify=y_train_encoded)"
   ]
  },
  {
   "cell_type": "markdown",
<<<<<<< HEAD
   "id": "e09b73a1",
   "metadata": {
    "papermill": {
     "duration": 0.00475,
     "end_time": "2024-12-02T17:20:40.730629",
     "exception": false,
     "start_time": "2024-12-02T17:20:40.725879",
=======
   "id": "fd577c73",
   "metadata": {
    "papermill": {
     "duration": 0.004192,
     "end_time": "2024-12-03T10:45:04.874152",
     "exception": false,
     "start_time": "2024-12-03T10:45:04.869960",
>>>>>>> 5a963263c59307331e3870ac37275b68a94a2957
     "status": "completed"
    },
    "tags": []
   },
   "source": [
    "## Define and Train EEGNet Model"
   ]
  },
  {
   "cell_type": "code",
   "execution_count": null,
<<<<<<< HEAD
   "id": "7f017ac6",
   "metadata": {
    "execution": {
     "iopub.execute_input": "2024-12-02T17:20:40.743238Z",
     "iopub.status.busy": "2024-12-02T17:20:40.742192Z",
     "iopub.status.idle": "2024-12-02T17:20:40.757055Z",
     "shell.execute_reply": "2024-12-02T17:20:40.755695Z"
    },
    "papermill": {
     "duration": 0.024008,
     "end_time": "2024-12-02T17:20:40.759757",
     "exception": false,
     "start_time": "2024-12-02T17:20:40.735749",
=======
   "id": "42ae8496",
   "metadata": {
    "execution": {
     "iopub.execute_input": "2024-12-03T10:45:04.885344Z",
     "iopub.status.busy": "2024-12-03T10:45:04.884850Z",
     "iopub.status.idle": "2024-12-03T10:45:04.894585Z",
     "shell.execute_reply": "2024-12-03T10:45:04.893594Z"
    },
    "papermill": {
     "duration": 0.017514,
     "end_time": "2024-12-03T10:45:04.896533",
     "exception": false,
     "start_time": "2024-12-03T10:45:04.879019",
>>>>>>> 5a963263c59307331e3870ac37275b68a94a2957
     "status": "completed"
    },
    "tags": []
   },
   "outputs": [],
   "source": [
<<<<<<< HEAD
    "# Define the EEGNet model\n",
    "def EEGNet(nb_classes, Chans=7, Samples=29, \n",
    "             dropoutRate=0.5, kernLength=64, F1=8, \n",
    "             D=2, F2=16, norm_rate=0.25, dropoutType='Dropout'):\n",
    "    \"\"\" Keras Implementation of EEGNet\n",
    "    http://iopscience.iop.org/article/10.1088/1741-2552/aace8c/meta\n",
    "\n",
    "    Note that this implements the newest version of EEGNet and NOT the earlier\n",
    "    version (version v1 and v2 on arxiv). We strongly recommend using this\n",
    "    architecture as it performs much better and has nicer properties than\n",
    "    our earlier version. For example:\n",
    "        \n",
    "        1. Depthwise Convolutions to learn spatial filters within a \n",
    "        temporal convolution. The use of the depth_multiplier option maps \n",
    "        exactly to the number of spatial filters learned within a temporal\n",
    "        filter. This matches the setup of algorithms like FBCSP which learn \n",
    "        spatial filters within each filter in a filter-bank. This also limits \n",
    "        the number of free parameters to fit when compared to a fully-connected\n",
    "        convolution. \n",
    "        \n",
    "        2. Separable Convolutions to learn how to optimally combine spatial\n",
    "        filters across temporal bands. Separable Convolutions are Depthwise\n",
    "        Convolutions followed by (1x1) Pointwise Convolutions. \n",
    "        \n",
    "    \n",
    "    While the original paper used Dropout, we found that SpatialDropout2D \n",
    "    sometimes produced slightly better results for classification of ERP \n",
    "    signals. However, SpatialDropout2D significantly reduced performance \n",
    "    on the Oscillatory dataset (SMR, BCI-IV Dataset 2A). We recommend using\n",
    "    the default Dropout in most cases.\n",
    "        \n",
    "    Assumes the input signal is sampled at 128Hz. If you want to use this model\n",
    "    for any other sampling rate you will need to modify the lengths of temporal\n",
    "    kernels and average pooling size in blocks 1 and 2 as needed (double the \n",
    "    kernel lengths for double the sampling rate, etc). Note that we haven't \n",
    "    tested the model performance with this rule so this may not work well. \n",
    "    \n",
    "    The model with default parameters gives the EEGNet-8,2 model as discussed\n",
    "    in the paper. This model should do pretty well in general, although it is\n",
    "\tadvised to do some model searching to get optimal performance on your\n",
    "\tparticular dataset.\n",
    "\n",
    "    We set F2 = F1 * D (number of input filters = number of output filters) for\n",
    "    the SeparableConv2D layer. We haven't extensively tested other values of this\n",
    "    parameter (say, F2 < F1 * D for compressed learning, and F2 > F1 * D for\n",
    "    overcomplete). We believe the main parameters to focus on are F1 and D. \n",
    "\n",
    "    Inputs:\n",
    "        \n",
    "      nb_classes      : int, number of classes to classify\n",
    "      Chans, Samples  : number of channels and time points in the EEG data\n",
    "      dropoutRate     : dropout fraction\n",
    "      kernLength      : length of temporal convolution in first layer. We found\n",
    "                        that setting this to be half the sampling rate worked\n",
    "                        well in practice. For the SMR dataset in particular\n",
    "                        since the data was high-passed at 4Hz we used a kernel\n",
    "                        length of 32.     \n",
=======
    "def EEGNet(nb_classes, Chans, Samples, kernLength, F1, \n",
    "             D, F2, norm_rate, dropoutRate, dropoutType):\n",
    "    \"\"\" \n",
    "    Inputs:\n",
    "    \n",
    "      nb_classes      : int, number of classes to classify\n",
    "      Chans, Samples  : number of channels and time points in the EEG data\n",
    "      dropoutRate     : dropout fraction\n",
    "      kernLength      : length of temporal convolution in first layer.\n",
>>>>>>> 5a963263c59307331e3870ac37275b68a94a2957
    "      F1, F2          : number of temporal filters (F1) and number of pointwise\n",
    "                        filters (F2) to learn. Default: F1 = 8, F2 = F1 * D. \n",
    "      D               : number of spatial filters to learn within each temporal\n",
    "                        convolution. Default: D = 2\n",
<<<<<<< HEAD
    "      dropoutType     : Either SpatialDropout2D or Dropout, passed as a string.\n",
    "\n",
    "    \"\"\"\n",
    "    \n",
=======
    "      dropoutType     : Randomly remove some neurons to avoid overfitting, passed as a string.\n",
    "\n",
    "    \"\"\"\n",
>>>>>>> 5a963263c59307331e3870ac37275b68a94a2957
    "    if dropoutType == 'SpatialDropout2D':\n",
    "        dropoutType = SpatialDropout2D\n",
    "    elif dropoutType == 'Dropout':\n",
    "        dropoutType = Dropout\n",
    "    else:\n",
    "        raise ValueError('dropoutType must be one of SpatialDropout2D '\n",
    "                         'or Dropout, passed as a string.')\n",
    "    \n",
    "    input1   = Input(shape = (Chans, Samples, 1))\n",
    "\n",
    "    ##################################################################\n",
    "    # Block 1\n",
    "    block1       = Conv2D(F1, (1, kernLength), padding = 'same',\n",
    "                                   input_shape = (Chans, Samples, 1),\n",
    "                                   use_bias = False)(input1)\n",
    "    block1       = BatchNormalization()(block1)\n",
    "    block1       = DepthwiseConv2D((Chans, 1), use_bias = False, \n",
    "                                   depth_multiplier = D,\n",
    "                                   depthwise_constraint = max_norm(1.))(block1)\n",
    "    block1       = BatchNormalization()(block1)\n",
    "    block1       = Activation('elu')(block1)\n",
    "    block1       = AveragePooling2D((1, 4))(block1)\n",
    "    block1       = dropoutType(dropoutRate)(block1)\n",
    "\n",
    "    # Block 2\n",
    "    block2       = SeparableConv2D(F2, (1, 16),\n",
    "                                   use_bias = False, padding = 'same')(block1)\n",
    "    block2       = BatchNormalization()(block2)\n",
    "    block2       = Activation('elu')(block2)\n",
    "    block2       = AveragePooling2D((1, 4))(block2)\n",
    "    block2       = dropoutType(dropoutRate)(block2)\n",
    "    \n",
<<<<<<< HEAD
    "    # Flatten and output    \n",
=======
    "    # Flatten, dense, softmax and output\n",
>>>>>>> 5a963263c59307331e3870ac37275b68a94a2957
    "    flatten      = Flatten(name = 'flatten')(block2)\n",
    "    dense        = Dense(nb_classes, name = 'dense', \n",
    "                         kernel_constraint = max_norm(norm_rate))(flatten)\n",
    "    softmax      = Activation('softmax', name = 'softmax')(dense)\n",
    "    \n",
    "    return Model(inputs=input1, outputs=softmax)"
   ]
  },
  {
   "cell_type": "code",
   "execution_count": 8,
<<<<<<< HEAD
   "id": "167fa3e7",
   "metadata": {
    "execution": {
     "iopub.execute_input": "2024-12-02T17:20:40.770903Z",
     "iopub.status.busy": "2024-12-02T17:20:40.770496Z",
     "iopub.status.idle": "2024-12-02T17:20:40.782800Z",
     "shell.execute_reply": "2024-12-02T17:20:40.781211Z"
    },
    "papermill": {
     "duration": 0.020766,
     "end_time": "2024-12-02T17:20:40.785294",
     "exception": false,
     "start_time": "2024-12-02T17:20:40.764528",
=======
   "id": "aa2c4beb",
   "metadata": {
    "execution": {
     "iopub.execute_input": "2024-12-03T10:45:04.907324Z",
     "iopub.status.busy": "2024-12-03T10:45:04.906221Z",
     "iopub.status.idle": "2024-12-03T10:45:04.916583Z",
     "shell.execute_reply": "2024-12-03T10:45:04.915560Z"
    },
    "papermill": {
     "duration": 0.017572,
     "end_time": "2024-12-03T10:45:04.918549",
     "exception": false,
     "start_time": "2024-12-03T10:45:04.900977",
>>>>>>> 5a963263c59307331e3870ac37275b68a94a2957
     "status": "completed"
    },
    "tags": []
   },
   "outputs": [
    {
     "name": "stdout",
     "output_type": "stream",
     "text": [
      "X_train shape: (124657, 7, 29, 1)\n",
      "X_val shape: (31165, 7, 29, 1)\n",
      "X_test shape: (38956, 7, 29, 1)\n"
     ]
    }
   ],
   "source": [
    "# Model Parameters\n",
    "Chans = len([\"ED_F7\", \"ED_F3\", \"ED_P7\", \"ED_O1\", \"ED_O2\", \"ED_P8\", \"ED_AF4\"])  # useful channels\n",
    "Samples = df_train.shape[1] // Chans # Number of samples per channel\n",
    "\n",
    "# Reshape data\n",
    "X_train = X_train.reshape(-1, Chans, Samples, 1)\n",
    "X_val = X_val.reshape(-1, Chans, Samples, 1)\n",
    "X_test = X_test.reshape(-1, Chans, Samples, 1)\n",
    "\n",
    "# Convert the data labels to one-hot encoded\n",
    "y_train_onehot = to_categorical(y_train, num_classes=3)\n",
    "y_val_onehot = to_categorical(y_val, num_classes=3)\n",
    "y_test_onehot = to_categorical(y_test, num_classes=3)\n",
    "\n",
    "print(f\"X_train shape: {X_train.shape}\")  # (n_samples_train, Chans, Samples, 1)\n",
    "print(f\"X_val shape: {X_val.shape}\")      # (n_samples_val, Chans, Samples, 1)\n",
    "print(f\"X_test shape: {X_test.shape}\")      # (n_samples_test, Chans, Samples, 1)"
   ]
  },
  {
   "cell_type": "code",
<<<<<<< HEAD
   "execution_count": null,
   "id": "1bcd7ad2",
   "metadata": {
    "execution": {
     "iopub.execute_input": "2024-12-02T17:20:40.796778Z",
     "iopub.status.busy": "2024-12-02T17:20:40.796338Z",
     "iopub.status.idle": "2024-12-02T18:00:35.652853Z",
     "shell.execute_reply": "2024-12-02T18:00:35.651934Z"
    },
    "papermill": {
     "duration": 2394.864869,
     "end_time": "2024-12-02T18:00:35.655084",
     "exception": false,
     "start_time": "2024-12-02T17:20:40.790215",
=======
   "execution_count": 9,
   "id": "7bc4a502",
   "metadata": {
    "execution": {
     "iopub.execute_input": "2024-12-03T10:45:04.928866Z",
     "iopub.status.busy": "2024-12-03T10:45:04.928512Z",
     "iopub.status.idle": "2024-12-03T11:16:39.721206Z",
     "shell.execute_reply": "2024-12-03T11:16:39.719999Z"
    },
    "papermill": {
     "duration": 1894.800703,
     "end_time": "2024-12-03T11:16:39.723854",
     "exception": false,
     "start_time": "2024-12-03T10:45:04.923151",
>>>>>>> 5a963263c59307331e3870ac37275b68a94a2957
     "status": "completed"
    },
    "tags": []
   },
   "outputs": [
    {
     "name": "stderr",
     "output_type": "stream",
     "text": [
      "/opt/conda/lib/python3.10/site-packages/keras/src/layers/convolutional/base_conv.py:107: UserWarning: Do not pass an `input_shape`/`input_dim` argument to a layer. When using Sequential models, prefer using an `Input(shape)` object as the first layer in the model instead.\n",
      "  super().__init__(activity_regularizer=activity_regularizer, **kwargs)\n"
     ]
    },
    {
     "name": "stdout",
     "output_type": "stream",
     "text": [
      "Epoch 1/50\n",
<<<<<<< HEAD
      "\u001b[1m3896/3896\u001b[0m \u001b[32m━━━━━━━━━━━━━━━━━━━━\u001b[0m\u001b[37m\u001b[0m \u001b[1m52s\u001b[0m 13ms/step - accuracy: 0.8848 - loss: 0.3367 - val_accuracy: 0.9759 - val_loss: 0.0936\n",
      "Epoch 2/50\n",
      "\u001b[1m3896/3896\u001b[0m \u001b[32m━━━━━━━━━━━━━━━━━━━━\u001b[0m\u001b[37m\u001b[0m \u001b[1m49s\u001b[0m 13ms/step - accuracy: 0.9645 - loss: 0.1097 - val_accuracy: 0.9862 - val_loss: 0.0517\n",
      "Epoch 3/50\n",
      "\u001b[1m3896/3896\u001b[0m \u001b[32m━━━━━━━━━━━━━━━━━━━━\u001b[0m\u001b[37m\u001b[0m \u001b[1m48s\u001b[0m 12ms/step - accuracy: 0.9714 - loss: 0.0769 - val_accuracy: 0.9928 - val_loss: 0.0379\n",
      "Epoch 4/50\n",
      "\u001b[1m3896/3896\u001b[0m \u001b[32m━━━━━━━━━━━━━━━━━━━━\u001b[0m\u001b[37m\u001b[0m \u001b[1m48s\u001b[0m 12ms/step - accuracy: 0.9770 - loss: 0.0628 - val_accuracy: 0.9918 - val_loss: 0.0339\n",
      "Epoch 5/50\n",
      "\u001b[1m3896/3896\u001b[0m \u001b[32m━━━━━━━━━━━━━━━━━━━━\u001b[0m\u001b[37m\u001b[0m \u001b[1m47s\u001b[0m 12ms/step - accuracy: 0.9787 - loss: 0.0565 - val_accuracy: 0.9907 - val_loss: 0.0308\n",
      "Epoch 6/50\n",
      "\u001b[1m3896/3896\u001b[0m \u001b[32m━━━━━━━━━━━━━━━━━━━━\u001b[0m\u001b[37m\u001b[0m \u001b[1m47s\u001b[0m 12ms/step - accuracy: 0.9811 - loss: 0.0501 - val_accuracy: 0.9917 - val_loss: 0.0267\n",
      "Epoch 7/50\n",
      "\u001b[1m3896/3896\u001b[0m \u001b[32m━━━━━━━━━━━━━━━━━━━━\u001b[0m\u001b[37m\u001b[0m \u001b[1m47s\u001b[0m 12ms/step - accuracy: 0.9821 - loss: 0.0469 - val_accuracy: 0.9923 - val_loss: 0.0246\n",
      "Epoch 8/50\n",
      "\u001b[1m3896/3896\u001b[0m \u001b[32m━━━━━━━━━━━━━━━━━━━━\u001b[0m\u001b[37m\u001b[0m \u001b[1m47s\u001b[0m 12ms/step - accuracy: 0.9841 - loss: 0.0423 - val_accuracy: 0.9945 - val_loss: 0.0216\n",
      "Epoch 9/50\n",
      "\u001b[1m3896/3896\u001b[0m \u001b[32m━━━━━━━━━━━━━━━━━━━━\u001b[0m\u001b[37m\u001b[0m \u001b[1m48s\u001b[0m 12ms/step - accuracy: 0.9832 - loss: 0.0428 - val_accuracy: 0.9945 - val_loss: 0.0216\n",
      "Epoch 10/50\n",
      "\u001b[1m3896/3896\u001b[0m \u001b[32m━━━━━━━━━━━━━━━━━━━━\u001b[0m\u001b[37m\u001b[0m \u001b[1m47s\u001b[0m 12ms/step - accuracy: 0.9848 - loss: 0.0393 - val_accuracy: 0.9946 - val_loss: 0.0198\n",
      "Epoch 11/50\n",
      "\u001b[1m3896/3896\u001b[0m \u001b[32m━━━━━━━━━━━━━━━━━━━━\u001b[0m\u001b[37m\u001b[0m \u001b[1m48s\u001b[0m 12ms/step - accuracy: 0.9852 - loss: 0.0378 - val_accuracy: 0.9921 - val_loss: 0.0227\n",
      "Epoch 12/50\n",
      "\u001b[1m3896/3896\u001b[0m \u001b[32m━━━━━━━━━━━━━━━━━━━━\u001b[0m\u001b[37m\u001b[0m \u001b[1m48s\u001b[0m 12ms/step - accuracy: 0.9857 - loss: 0.0370 - val_accuracy: 0.9941 - val_loss: 0.0198\n",
      "Epoch 13/50\n",
      "\u001b[1m3896/3896\u001b[0m \u001b[32m━━━━━━━━━━━━━━━━━━━━\u001b[0m\u001b[37m\u001b[0m \u001b[1m47s\u001b[0m 12ms/step - accuracy: 0.9862 - loss: 0.0358 - val_accuracy: 0.9903 - val_loss: 0.0232\n",
      "Epoch 14/50\n",
      "\u001b[1m3896/3896\u001b[0m \u001b[32m━━━━━━━━━━━━━━━━━━━━\u001b[0m\u001b[37m\u001b[0m \u001b[1m46s\u001b[0m 12ms/step - accuracy: 0.9866 - loss: 0.0336 - val_accuracy: 0.9924 - val_loss: 0.0200\n",
      "Epoch 15/50\n",
      "\u001b[1m3896/3896\u001b[0m \u001b[32m━━━━━━━━━━━━━━━━━━━━\u001b[0m\u001b[37m\u001b[0m \u001b[1m46s\u001b[0m 12ms/step - accuracy: 0.9869 - loss: 0.0341 - val_accuracy: 0.9888 - val_loss: 0.0246\n",
      "Epoch 16/50\n",
      "\u001b[1m3896/3896\u001b[0m \u001b[32m━━━━━━━━━━━━━━━━━━━━\u001b[0m\u001b[37m\u001b[0m \u001b[1m47s\u001b[0m 12ms/step - accuracy: 0.9873 - loss: 0.0324 - val_accuracy: 0.9949 - val_loss: 0.0166\n",
      "Epoch 17/50\n",
      "\u001b[1m3896/3896\u001b[0m \u001b[32m━━━━━━━━━━━━━━━━━━━━\u001b[0m\u001b[37m\u001b[0m \u001b[1m46s\u001b[0m 12ms/step - accuracy: 0.9878 - loss: 0.0325 - val_accuracy: 0.9956 - val_loss: 0.0152\n",
      "Epoch 18/50\n",
      "\u001b[1m3896/3896\u001b[0m \u001b[32m━━━━━━━━━━━━━━━━━━━━\u001b[0m\u001b[37m\u001b[0m \u001b[1m47s\u001b[0m 12ms/step - accuracy: 0.9889 - loss: 0.0294 - val_accuracy: 0.9917 - val_loss: 0.0209\n",
      "Epoch 19/50\n",
      "\u001b[1m3896/3896\u001b[0m \u001b[32m━━━━━━━━━━━━━━━━━━━━\u001b[0m\u001b[37m\u001b[0m \u001b[1m46s\u001b[0m 12ms/step - accuracy: 0.9887 - loss: 0.0299 - val_accuracy: 0.9915 - val_loss: 0.0208\n",
      "Epoch 20/50\n",
      "\u001b[1m3896/3896\u001b[0m \u001b[32m━━━━━━━━━━━━━━━━━━━━\u001b[0m\u001b[37m\u001b[0m \u001b[1m47s\u001b[0m 12ms/step - accuracy: 0.9889 - loss: 0.0301 - val_accuracy: 0.9958 - val_loss: 0.0146\n",
      "Epoch 21/50\n",
      "\u001b[1m3896/3896\u001b[0m \u001b[32m━━━━━━━━━━━━━━━━━━━━\u001b[0m\u001b[37m\u001b[0m \u001b[1m47s\u001b[0m 12ms/step - accuracy: 0.9889 - loss: 0.0293 - val_accuracy: 0.9958 - val_loss: 0.0145\n",
      "Epoch 22/50\n",
      "\u001b[1m3896/3896\u001b[0m \u001b[32m━━━━━━━━━━━━━━━━━━━━\u001b[0m\u001b[37m\u001b[0m \u001b[1m47s\u001b[0m 12ms/step - accuracy: 0.9890 - loss: 0.0291 - val_accuracy: 0.9968 - val_loss: 0.0142\n",
      "Epoch 23/50\n",
      "\u001b[1m3896/3896\u001b[0m \u001b[32m━━━━━━━━━━━━━━━━━━━━\u001b[0m\u001b[37m\u001b[0m \u001b[1m48s\u001b[0m 12ms/step - accuracy: 0.9887 - loss: 0.0293 - val_accuracy: 0.9933 - val_loss: 0.0176\n",
      "Epoch 24/50\n",
      "\u001b[1m3896/3896\u001b[0m \u001b[32m━━━━━━━━━━━━━━━━━━━━\u001b[0m\u001b[37m\u001b[0m \u001b[1m48s\u001b[0m 12ms/step - accuracy: 0.9886 - loss: 0.0285 - val_accuracy: 0.9914 - val_loss: 0.0194\n",
      "Epoch 25/50\n",
      "\u001b[1m3896/3896\u001b[0m \u001b[32m━━━━━━━━━━━━━━━━━━━━\u001b[0m\u001b[37m\u001b[0m \u001b[1m48s\u001b[0m 12ms/step - accuracy: 0.9886 - loss: 0.0289 - val_accuracy: 0.9968 - val_loss: 0.0129\n",
      "Epoch 26/50\n",
      "\u001b[1m3896/3896\u001b[0m \u001b[32m━━━━━━━━━━━━━━━━━━━━\u001b[0m\u001b[37m\u001b[0m \u001b[1m48s\u001b[0m 12ms/step - accuracy: 0.9895 - loss: 0.0270 - val_accuracy: 0.9923 - val_loss: 0.0187\n",
      "Epoch 27/50\n",
      "\u001b[1m3896/3896\u001b[0m \u001b[32m━━━━━━━━━━━━━━━━━━━━\u001b[0m\u001b[37m\u001b[0m \u001b[1m48s\u001b[0m 12ms/step - accuracy: 0.9888 - loss: 0.0289 - val_accuracy: 0.9922 - val_loss: 0.0194\n",
      "Epoch 28/50\n",
      "\u001b[1m3896/3896\u001b[0m \u001b[32m━━━━━━━━━━━━━━━━━━━━\u001b[0m\u001b[37m\u001b[0m \u001b[1m48s\u001b[0m 12ms/step - accuracy: 0.9892 - loss: 0.0278 - val_accuracy: 0.9965 - val_loss: 0.0121\n",
      "Epoch 29/50\n",
      "\u001b[1m3896/3896\u001b[0m \u001b[32m━━━━━━━━━━━━━━━━━━━━\u001b[0m\u001b[37m\u001b[0m \u001b[1m49s\u001b[0m 13ms/step - accuracy: 0.9897 - loss: 0.0263 - val_accuracy: 0.9957 - val_loss: 0.0138\n",
      "Epoch 30/50\n",
      "\u001b[1m3896/3896\u001b[0m \u001b[32m━━━━━━━━━━━━━━━━━━━━\u001b[0m\u001b[37m\u001b[0m \u001b[1m50s\u001b[0m 13ms/step - accuracy: 0.9896 - loss: 0.0267 - val_accuracy: 0.9939 - val_loss: 0.0152\n",
      "Epoch 31/50\n",
      "\u001b[1m3896/3896\u001b[0m \u001b[32m━━━━━━━━━━━━━━━━━━━━\u001b[0m\u001b[37m\u001b[0m \u001b[1m50s\u001b[0m 13ms/step - accuracy: 0.9906 - loss: 0.0247 - val_accuracy: 0.9868 - val_loss: 0.0287\n",
      "Epoch 32/50\n",
      "\u001b[1m3896/3896\u001b[0m \u001b[32m━━━━━━━━━━━━━━━━━━━━\u001b[0m\u001b[37m\u001b[0m \u001b[1m50s\u001b[0m 13ms/step - accuracy: 0.9900 - loss: 0.0262 - val_accuracy: 0.9961 - val_loss: 0.0128\n",
      "Epoch 33/50\n",
      "\u001b[1m3896/3896\u001b[0m \u001b[32m━━━━━━━━━━━━━━━━━━━━\u001b[0m\u001b[37m\u001b[0m \u001b[1m48s\u001b[0m 12ms/step - accuracy: 0.9901 - loss: 0.0257 - val_accuracy: 0.9958 - val_loss: 0.0134\n",
      "Epoch 34/50\n",
      "\u001b[1m3896/3896\u001b[0m \u001b[32m━━━━━━━━━━━━━━━━━━━━\u001b[0m\u001b[37m\u001b[0m \u001b[1m47s\u001b[0m 12ms/step - accuracy: 0.9897 - loss: 0.0263 - val_accuracy: 0.9969 - val_loss: 0.0115\n",
      "Epoch 35/50\n",
      "\u001b[1m3896/3896\u001b[0m \u001b[32m━━━━━━━━━━━━━━━━━━━━\u001b[0m\u001b[37m\u001b[0m \u001b[1m47s\u001b[0m 12ms/step - accuracy: 0.9906 - loss: 0.0246 - val_accuracy: 0.9901 - val_loss: 0.0209\n",
      "Epoch 36/50\n",
      "\u001b[1m3896/3896\u001b[0m \u001b[32m━━━━━━━━━━━━━━━━━━━━\u001b[0m\u001b[37m\u001b[0m \u001b[1m48s\u001b[0m 12ms/step - accuracy: 0.9905 - loss: 0.0246 - val_accuracy: 0.9967 - val_loss: 0.0121\n",
      "Epoch 37/50\n",
      "\u001b[1m3896/3896\u001b[0m \u001b[32m━━━━━━━━━━━━━━━━━━━━\u001b[0m\u001b[37m\u001b[0m \u001b[1m49s\u001b[0m 13ms/step - accuracy: 0.9900 - loss: 0.0249 - val_accuracy: 0.9938 - val_loss: 0.0152\n",
      "Epoch 38/50\n",
      "\u001b[1m3896/3896\u001b[0m \u001b[32m━━━━━━━━━━━━━━━━━━━━\u001b[0m\u001b[37m\u001b[0m \u001b[1m49s\u001b[0m 13ms/step - accuracy: 0.9901 - loss: 0.0250 - val_accuracy: 0.9913 - val_loss: 0.0197\n",
      "Epoch 39/50\n",
      "\u001b[1m3896/3896\u001b[0m \u001b[32m━━━━━━━━━━━━━━━━━━━━\u001b[0m\u001b[37m\u001b[0m \u001b[1m49s\u001b[0m 13ms/step - accuracy: 0.9902 - loss: 0.0256 - val_accuracy: 0.9924 - val_loss: 0.0174\n",
      "Epoch 40/50\n",
      "\u001b[1m3896/3896\u001b[0m \u001b[32m━━━━━━━━━━━━━━━━━━━━\u001b[0m\u001b[37m\u001b[0m \u001b[1m48s\u001b[0m 12ms/step - accuracy: 0.9909 - loss: 0.0236 - val_accuracy: 0.9875 - val_loss: 0.0309\n",
      "Epoch 41/50\n",
      "\u001b[1m3896/3896\u001b[0m \u001b[32m━━━━━━━━━━━━━━━━━━━━\u001b[0m\u001b[37m\u001b[0m \u001b[1m49s\u001b[0m 13ms/step - accuracy: 0.9903 - loss: 0.0254 - val_accuracy: 0.9941 - val_loss: 0.0148\n",
      "Epoch 42/50\n",
      "\u001b[1m3896/3896\u001b[0m \u001b[32m━━━━━━━━━━━━━━━━━━━━\u001b[0m\u001b[37m\u001b[0m \u001b[1m48s\u001b[0m 12ms/step - accuracy: 0.9908 - loss: 0.0231 - val_accuracy: 0.9917 - val_loss: 0.0193\n",
      "Epoch 43/50\n",
      "\u001b[1m3896/3896\u001b[0m \u001b[32m━━━━━━━━━━━━━━━━━━━━\u001b[0m\u001b[37m\u001b[0m \u001b[1m49s\u001b[0m 13ms/step - accuracy: 0.9906 - loss: 0.0244 - val_accuracy: 0.9971 - val_loss: 0.0107\n",
      "Epoch 44/50\n",
      "\u001b[1m3896/3896\u001b[0m \u001b[32m━━━━━━━━━━━━━━━━━━━━\u001b[0m\u001b[37m\u001b[0m \u001b[1m47s\u001b[0m 12ms/step - accuracy: 0.9911 - loss: 0.0235 - val_accuracy: 0.9947 - val_loss: 0.0139\n",
      "Epoch 45/50\n",
      "\u001b[1m3896/3896\u001b[0m \u001b[32m━━━━━━━━━━━━━━━━━━━━\u001b[0m\u001b[37m\u001b[0m \u001b[1m48s\u001b[0m 12ms/step - accuracy: 0.9904 - loss: 0.0242 - val_accuracy: 0.9935 - val_loss: 0.0154\n",
      "Epoch 46/50\n",
      "\u001b[1m3896/3896\u001b[0m \u001b[32m━━━━━━━━━━━━━━━━━━━━\u001b[0m\u001b[37m\u001b[0m \u001b[1m47s\u001b[0m 12ms/step - accuracy: 0.9908 - loss: 0.0239 - val_accuracy: 0.9950 - val_loss: 0.0131\n",
      "Epoch 47/50\n",
      "\u001b[1m3896/3896\u001b[0m \u001b[32m━━━━━━━━━━━━━━━━━━━━\u001b[0m\u001b[37m\u001b[0m \u001b[1m47s\u001b[0m 12ms/step - accuracy: 0.9906 - loss: 0.0241 - val_accuracy: 0.9960 - val_loss: 0.0117\n",
      "Epoch 48/50\n",
      "\u001b[1m3896/3896\u001b[0m \u001b[32m━━━━━━━━━━━━━━━━━━━━\u001b[0m\u001b[37m\u001b[0m \u001b[1m48s\u001b[0m 12ms/step - accuracy: 0.9916 - loss: 0.0222 - val_accuracy: 0.9927 - val_loss: 0.0186\n",
      "Epoch 49/50\n",
      "\u001b[1m3896/3896\u001b[0m \u001b[32m━━━━━━━━━━━━━━━━━━━━\u001b[0m\u001b[37m\u001b[0m \u001b[1m47s\u001b[0m 12ms/step - accuracy: 0.9912 - loss: 0.0233 - val_accuracy: 0.9951 - val_loss: 0.0126\n",
      "Epoch 50/50\n",
      "\u001b[1m3896/3896\u001b[0m \u001b[32m━━━━━━━━━━━━━━━━━━━━\u001b[0m\u001b[37m\u001b[0m \u001b[1m48s\u001b[0m 12ms/step - accuracy: 0.9914 - loss: 0.0229 - val_accuracy: 0.9928 - val_loss: 0.0163\n"
=======
      "\u001b[1m3896/3896\u001b[0m \u001b[32m━━━━━━━━━━━━━━━━━━━━\u001b[0m\u001b[37m\u001b[0m \u001b[1m40s\u001b[0m 10ms/step - accuracy: 0.8304 - loss: 0.4588 - val_accuracy: 0.9729 - val_loss: 0.1519\n",
      "Epoch 2/50\n",
      "\u001b[1m3896/3896\u001b[0m \u001b[32m━━━━━━━━━━━━━━━━━━━━\u001b[0m\u001b[37m\u001b[0m \u001b[1m37s\u001b[0m 10ms/step - accuracy: 0.9374 - loss: 0.1982 - val_accuracy: 0.9892 - val_loss: 0.0820\n",
      "Epoch 3/50\n",
      "\u001b[1m3896/3896\u001b[0m \u001b[32m━━━━━━━━━━━━━━━━━━━━\u001b[0m\u001b[37m\u001b[0m \u001b[1m37s\u001b[0m 9ms/step - accuracy: 0.9503 - loss: 0.1439 - val_accuracy: 0.9893 - val_loss: 0.0637\n",
      "Epoch 4/50\n",
      "\u001b[1m3896/3896\u001b[0m \u001b[32m━━━━━━━━━━━━━━━━━━━━\u001b[0m\u001b[37m\u001b[0m \u001b[1m37s\u001b[0m 10ms/step - accuracy: 0.9550 - loss: 0.1254 - val_accuracy: 0.9796 - val_loss: 0.0683\n",
      "Epoch 5/50\n",
      "\u001b[1m3896/3896\u001b[0m \u001b[32m━━━━━━━━━━━━━━━━━━━━\u001b[0m\u001b[37m\u001b[0m \u001b[1m38s\u001b[0m 10ms/step - accuracy: 0.9592 - loss: 0.1099 - val_accuracy: 0.9873 - val_loss: 0.0513\n",
      "Epoch 6/50\n",
      "\u001b[1m3896/3896\u001b[0m \u001b[32m━━━━━━━━━━━━━━━━━━━━\u001b[0m\u001b[37m\u001b[0m \u001b[1m38s\u001b[0m 10ms/step - accuracy: 0.9607 - loss: 0.1048 - val_accuracy: 0.9883 - val_loss: 0.0432\n",
      "Epoch 7/50\n",
      "\u001b[1m3896/3896\u001b[0m \u001b[32m━━━━━━━━━━━━━━━━━━━━\u001b[0m\u001b[37m\u001b[0m \u001b[1m37s\u001b[0m 10ms/step - accuracy: 0.9617 - loss: 0.0999 - val_accuracy: 0.9865 - val_loss: 0.0478\n",
      "Epoch 8/50\n",
      "\u001b[1m3896/3896\u001b[0m \u001b[32m━━━━━━━━━━━━━━━━━━━━\u001b[0m\u001b[37m\u001b[0m \u001b[1m38s\u001b[0m 10ms/step - accuracy: 0.9632 - loss: 0.0960 - val_accuracy: 0.9886 - val_loss: 0.0418\n",
      "Epoch 9/50\n",
      "\u001b[1m3896/3896\u001b[0m \u001b[32m━━━━━━━━━━━━━━━━━━━━\u001b[0m\u001b[37m\u001b[0m \u001b[1m38s\u001b[0m 10ms/step - accuracy: 0.9643 - loss: 0.0928 - val_accuracy: 0.9939 - val_loss: 0.0345\n",
      "Epoch 10/50\n",
      "\u001b[1m3896/3896\u001b[0m \u001b[32m━━━━━━━━━━━━━━━━━━━━\u001b[0m\u001b[37m\u001b[0m \u001b[1m38s\u001b[0m 10ms/step - accuracy: 0.9653 - loss: 0.0890 - val_accuracy: 0.9922 - val_loss: 0.0323\n",
      "Epoch 11/50\n",
      "\u001b[1m3896/3896\u001b[0m \u001b[32m━━━━━━━━━━━━━━━━━━━━\u001b[0m\u001b[37m\u001b[0m \u001b[1m38s\u001b[0m 10ms/step - accuracy: 0.9658 - loss: 0.0872 - val_accuracy: 0.9947 - val_loss: 0.0303\n",
      "Epoch 12/50\n",
      "\u001b[1m3896/3896\u001b[0m \u001b[32m━━━━━━━━━━━━━━━━━━━━\u001b[0m\u001b[37m\u001b[0m \u001b[1m38s\u001b[0m 10ms/step - accuracy: 0.9669 - loss: 0.0817 - val_accuracy: 0.9937 - val_loss: 0.0281\n",
      "Epoch 13/50\n",
      "\u001b[1m3896/3896\u001b[0m \u001b[32m━━━━━━━━━━━━━━━━━━━━\u001b[0m\u001b[37m\u001b[0m \u001b[1m38s\u001b[0m 10ms/step - accuracy: 0.9670 - loss: 0.0800 - val_accuracy: 0.9955 - val_loss: 0.0247\n",
      "Epoch 14/50\n",
      "\u001b[1m3896/3896\u001b[0m \u001b[32m━━━━━━━━━━━━━━━━━━━━\u001b[0m\u001b[37m\u001b[0m \u001b[1m38s\u001b[0m 10ms/step - accuracy: 0.9685 - loss: 0.0772 - val_accuracy: 0.9916 - val_loss: 0.0276\n",
      "Epoch 15/50\n",
      "\u001b[1m3896/3896\u001b[0m \u001b[32m━━━━━━━━━━━━━━━━━━━━\u001b[0m\u001b[37m\u001b[0m \u001b[1m37s\u001b[0m 10ms/step - accuracy: 0.9683 - loss: 0.0743 - val_accuracy: 0.9958 - val_loss: 0.0241\n",
      "Epoch 16/50\n",
      "\u001b[1m3896/3896\u001b[0m \u001b[32m━━━━━━━━━━━━━━━━━━━━\u001b[0m\u001b[37m\u001b[0m \u001b[1m37s\u001b[0m 10ms/step - accuracy: 0.9687 - loss: 0.0752 - val_accuracy: 0.9895 - val_loss: 0.0290\n",
      "Epoch 17/50\n",
      "\u001b[1m3896/3896\u001b[0m \u001b[32m━━━━━━━━━━━━━━━━━━━━\u001b[0m\u001b[37m\u001b[0m \u001b[1m38s\u001b[0m 10ms/step - accuracy: 0.9681 - loss: 0.0760 - val_accuracy: 0.9956 - val_loss: 0.0222\n",
      "Epoch 18/50\n",
      "\u001b[1m3896/3896\u001b[0m \u001b[32m━━━━━━━━━━━━━━━━━━━━\u001b[0m\u001b[37m\u001b[0m \u001b[1m37s\u001b[0m 10ms/step - accuracy: 0.9696 - loss: 0.0727 - val_accuracy: 0.9949 - val_loss: 0.0224\n",
      "Epoch 19/50\n",
      "\u001b[1m3896/3896\u001b[0m \u001b[32m━━━━━━━━━━━━━━━━━━━━\u001b[0m\u001b[37m\u001b[0m \u001b[1m38s\u001b[0m 10ms/step - accuracy: 0.9700 - loss: 0.0711 - val_accuracy: 0.9928 - val_loss: 0.0256\n",
      "Epoch 20/50\n",
      "\u001b[1m3896/3896\u001b[0m \u001b[32m━━━━━━━━━━━━━━━━━━━━\u001b[0m\u001b[37m\u001b[0m \u001b[1m38s\u001b[0m 10ms/step - accuracy: 0.9695 - loss: 0.0721 - val_accuracy: 0.9916 - val_loss: 0.0252\n",
      "Epoch 21/50\n",
      "\u001b[1m3896/3896\u001b[0m \u001b[32m━━━━━━━━━━━━━━━━━━━━\u001b[0m\u001b[37m\u001b[0m \u001b[1m38s\u001b[0m 10ms/step - accuracy: 0.9694 - loss: 0.0718 - val_accuracy: 0.9936 - val_loss: 0.0238\n",
      "Epoch 22/50\n",
      "\u001b[1m3896/3896\u001b[0m \u001b[32m━━━━━━━━━━━━━━━━━━━━\u001b[0m\u001b[37m\u001b[0m \u001b[1m38s\u001b[0m 10ms/step - accuracy: 0.9708 - loss: 0.0685 - val_accuracy: 0.9893 - val_loss: 0.0291\n",
      "Epoch 23/50\n",
      "\u001b[1m3896/3896\u001b[0m \u001b[32m━━━━━━━━━━━━━━━━━━━━\u001b[0m\u001b[37m\u001b[0m \u001b[1m39s\u001b[0m 10ms/step - accuracy: 0.9708 - loss: 0.0688 - val_accuracy: 0.9928 - val_loss: 0.0227\n",
      "Epoch 24/50\n",
      "\u001b[1m3896/3896\u001b[0m \u001b[32m━━━━━━━━━━━━━━━━━━━━\u001b[0m\u001b[37m\u001b[0m \u001b[1m38s\u001b[0m 10ms/step - accuracy: 0.9712 - loss: 0.0686 - val_accuracy: 0.9962 - val_loss: 0.0191\n",
      "Epoch 25/50\n",
      "\u001b[1m3896/3896\u001b[0m \u001b[32m━━━━━━━━━━━━━━━━━━━━\u001b[0m\u001b[37m\u001b[0m \u001b[1m37s\u001b[0m 9ms/step - accuracy: 0.9717 - loss: 0.0669 - val_accuracy: 0.9952 - val_loss: 0.0200\n",
      "Epoch 26/50\n",
      "\u001b[1m3896/3896\u001b[0m \u001b[32m━━━━━━━━━━━━━━━━━━━━\u001b[0m\u001b[37m\u001b[0m \u001b[1m38s\u001b[0m 10ms/step - accuracy: 0.9711 - loss: 0.0670 - val_accuracy: 0.9956 - val_loss: 0.0208\n",
      "Epoch 27/50\n",
      "\u001b[1m3896/3896\u001b[0m \u001b[32m━━━━━━━━━━━━━━━━━━━━\u001b[0m\u001b[37m\u001b[0m \u001b[1m37s\u001b[0m 10ms/step - accuracy: 0.9707 - loss: 0.0669 - val_accuracy: 0.9961 - val_loss: 0.0192\n",
      "Epoch 28/50\n",
      "\u001b[1m3896/3896\u001b[0m \u001b[32m━━━━━━━━━━━━━━━━━━━━\u001b[0m\u001b[37m\u001b[0m \u001b[1m38s\u001b[0m 10ms/step - accuracy: 0.9715 - loss: 0.0663 - val_accuracy: 0.9964 - val_loss: 0.0181\n",
      "Epoch 29/50\n",
      "\u001b[1m3896/3896\u001b[0m \u001b[32m━━━━━━━━━━━━━━━━━━━━\u001b[0m\u001b[37m\u001b[0m \u001b[1m38s\u001b[0m 10ms/step - accuracy: 0.9715 - loss: 0.0659 - val_accuracy: 0.9961 - val_loss: 0.0188\n",
      "Epoch 30/50\n",
      "\u001b[1m3896/3896\u001b[0m \u001b[32m━━━━━━━━━━━━━━━━━━━━\u001b[0m\u001b[37m\u001b[0m \u001b[1m37s\u001b[0m 9ms/step - accuracy: 0.9723 - loss: 0.0647 - val_accuracy: 0.9910 - val_loss: 0.0258\n",
      "Epoch 31/50\n",
      "\u001b[1m3896/3896\u001b[0m \u001b[32m━━━━━━━━━━━━━━━━━━━━\u001b[0m\u001b[37m\u001b[0m \u001b[1m38s\u001b[0m 10ms/step - accuracy: 0.9716 - loss: 0.0650 - val_accuracy: 0.9918 - val_loss: 0.0241\n",
      "Epoch 32/50\n",
      "\u001b[1m3896/3896\u001b[0m \u001b[32m━━━━━━━━━━━━━━━━━━━━\u001b[0m\u001b[37m\u001b[0m \u001b[1m38s\u001b[0m 10ms/step - accuracy: 0.9717 - loss: 0.0645 - val_accuracy: 0.9968 - val_loss: 0.0180\n",
      "Epoch 33/50\n",
      "\u001b[1m3896/3896\u001b[0m \u001b[32m━━━━━━━━━━━━━━━━━━━━\u001b[0m\u001b[37m\u001b[0m \u001b[1m37s\u001b[0m 10ms/step - accuracy: 0.9727 - loss: 0.0648 - val_accuracy: 0.9924 - val_loss: 0.0228\n",
      "Epoch 34/50\n",
      "\u001b[1m3896/3896\u001b[0m \u001b[32m━━━━━━━━━━━━━━━━━━━━\u001b[0m\u001b[37m\u001b[0m \u001b[1m38s\u001b[0m 10ms/step - accuracy: 0.9730 - loss: 0.0620 - val_accuracy: 0.9956 - val_loss: 0.0187\n",
      "Epoch 35/50\n",
      "\u001b[1m3896/3896\u001b[0m \u001b[32m━━━━━━━━━━━━━━━━━━━━\u001b[0m\u001b[37m\u001b[0m \u001b[1m39s\u001b[0m 10ms/step - accuracy: 0.9734 - loss: 0.0628 - val_accuracy: 0.9959 - val_loss: 0.0171\n",
      "Epoch 36/50\n",
      "\u001b[1m3896/3896\u001b[0m \u001b[32m━━━━━━━━━━━━━━━━━━━━\u001b[0m\u001b[37m\u001b[0m \u001b[1m38s\u001b[0m 10ms/step - accuracy: 0.9720 - loss: 0.0635 - val_accuracy: 0.9950 - val_loss: 0.0198\n",
      "Epoch 37/50\n",
      "\u001b[1m3896/3896\u001b[0m \u001b[32m━━━━━━━━━━━━━━━━━━━━\u001b[0m\u001b[37m\u001b[0m \u001b[1m38s\u001b[0m 10ms/step - accuracy: 0.9725 - loss: 0.0623 - val_accuracy: 0.9957 - val_loss: 0.0186\n",
      "Epoch 38/50\n",
      "\u001b[1m3896/3896\u001b[0m \u001b[32m━━━━━━━━━━━━━━━━━━━━\u001b[0m\u001b[37m\u001b[0m \u001b[1m38s\u001b[0m 10ms/step - accuracy: 0.9718 - loss: 0.0639 - val_accuracy: 0.9960 - val_loss: 0.0170\n",
      "Epoch 39/50\n",
      "\u001b[1m3896/3896\u001b[0m \u001b[32m━━━━━━━━━━━━━━━━━━━━\u001b[0m\u001b[37m\u001b[0m \u001b[1m38s\u001b[0m 10ms/step - accuracy: 0.9728 - loss: 0.0624 - val_accuracy: 0.9921 - val_loss: 0.0224\n",
      "Epoch 40/50\n",
      "\u001b[1m3896/3896\u001b[0m \u001b[32m━━━━━━━━━━━━━━━━━━━━\u001b[0m\u001b[37m\u001b[0m \u001b[1m39s\u001b[0m 10ms/step - accuracy: 0.9737 - loss: 0.0615 - val_accuracy: 0.9950 - val_loss: 0.0183\n",
      "Epoch 41/50\n",
      "\u001b[1m3896/3896\u001b[0m \u001b[32m━━━━━━━━━━━━━━━━━━━━\u001b[0m\u001b[37m\u001b[0m \u001b[1m39s\u001b[0m 10ms/step - accuracy: 0.9740 - loss: 0.0617 - val_accuracy: 0.9954 - val_loss: 0.0170\n",
      "Epoch 42/50\n",
      "\u001b[1m3896/3896\u001b[0m \u001b[32m━━━━━━━━━━━━━━━━━━━━\u001b[0m\u001b[37m\u001b[0m \u001b[1m39s\u001b[0m 10ms/step - accuracy: 0.9741 - loss: 0.0598 - val_accuracy: 0.9946 - val_loss: 0.0171\n",
      "Epoch 43/50\n",
      "\u001b[1m3896/3896\u001b[0m \u001b[32m━━━━━━━━━━━━━━━━━━━━\u001b[0m\u001b[37m\u001b[0m \u001b[1m38s\u001b[0m 10ms/step - accuracy: 0.9732 - loss: 0.0618 - val_accuracy: 0.9928 - val_loss: 0.0209\n",
      "Epoch 44/50\n",
      "\u001b[1m3896/3896\u001b[0m \u001b[32m━━━━━━━━━━━━━━━━━━━━\u001b[0m\u001b[37m\u001b[0m \u001b[1m38s\u001b[0m 10ms/step - accuracy: 0.9725 - loss: 0.0638 - val_accuracy: 0.9965 - val_loss: 0.0157\n",
      "Epoch 45/50\n",
      "\u001b[1m3896/3896\u001b[0m \u001b[32m━━━━━━━━━━━━━━━━━━━━\u001b[0m\u001b[37m\u001b[0m \u001b[1m38s\u001b[0m 10ms/step - accuracy: 0.9736 - loss: 0.0616 - val_accuracy: 0.9965 - val_loss: 0.0146\n",
      "Epoch 46/50\n",
      "\u001b[1m3896/3896\u001b[0m \u001b[32m━━━━━━━━━━━━━━━━━━━━\u001b[0m\u001b[37m\u001b[0m \u001b[1m39s\u001b[0m 10ms/step - accuracy: 0.9732 - loss: 0.0610 - val_accuracy: 0.9946 - val_loss: 0.0166\n",
      "Epoch 47/50\n",
      "\u001b[1m3896/3896\u001b[0m \u001b[32m━━━━━━━━━━━━━━━━━━━━\u001b[0m\u001b[37m\u001b[0m \u001b[1m38s\u001b[0m 10ms/step - accuracy: 0.9735 - loss: 0.0605 - val_accuracy: 0.9942 - val_loss: 0.0171\n",
      "Epoch 48/50\n",
      "\u001b[1m3896/3896\u001b[0m \u001b[32m━━━━━━━━━━━━━━━━━━━━\u001b[0m\u001b[37m\u001b[0m \u001b[1m38s\u001b[0m 10ms/step - accuracy: 0.9749 - loss: 0.0582 - val_accuracy: 0.9943 - val_loss: 0.0173\n",
      "Epoch 49/50\n",
      "\u001b[1m3896/3896\u001b[0m \u001b[32m━━━━━━━━━━━━━━━━━━━━\u001b[0m\u001b[37m\u001b[0m \u001b[1m38s\u001b[0m 10ms/step - accuracy: 0.9746 - loss: 0.0592 - val_accuracy: 0.9953 - val_loss: 0.0168\n",
      "Epoch 50/50\n",
      "\u001b[1m3896/3896\u001b[0m \u001b[32m━━━━━━━━━━━━━━━━━━━━\u001b[0m\u001b[37m\u001b[0m \u001b[1m37s\u001b[0m 10ms/step - accuracy: 0.9741 - loss: 0.0598 - val_accuracy: 0.9957 - val_loss: 0.0159\n"
>>>>>>> 5a963263c59307331e3870ac37275b68a94a2957
     ]
    }
   ],
   "source": [
    "# Initialize EEGNet model\n",
    "eeg_net = EEGNet(\n",
    "    nb_classes=3,       # Number of states: Focused, Unfocused, Drowsy\n",
    "    Chans=Chans,           # Number of EEG channels\n",
<<<<<<< HEAD
    "    Samples=Samples,        # Samples per channel\n",
    "    kernLength=64,      # Kernel temporal: suitable for 128Hz\n",
    "    F1=16,              # Number of temporal filters\n",
    "    D=2,                # Spatial Filter\n",
    "    F2=32,              # Total filter number\n",
=======
    "    Samples=Samples,        # Samples per second\n",
    "    kernLength=64,      # Kernel temporal: suitable for 128Hz\n",
    "    F1=8,              # Number of temporal filters\n",
    "    D=2,                # Spatial Filter\n",
    "    F2=16,              # Total filter number\n",
    "    norm_rate= 0.25,     # Constraint level for the kernel of the Dense layer.\n",
>>>>>>> 5a963263c59307331e3870ac37275b68a94a2957
    "    dropoutRate=0.5,    # Dropout to avoid overfitting\n",
    "    dropoutType='Dropout'\n",
    ")\n",
    "\n",
    "# Compile EEGNet model\n",
    "eeg_net.compile(\n",
    "    loss='categorical_crossentropy',  # Multi-layer classification\n",
    "    optimizer=Adam(learning_rate=0.001),  # Adam optimizer with low learning rate\n",
    "    metrics=['accuracy']  # Evaluate by accuracy\n",
    ")\n",
    "\n",
    "# Train model\n",
    "history = eeg_net.fit(\n",
    "    X_train, \n",
    "    y_train_onehot, \n",
    "    epochs=50, \n",
    "    batch_size=32, \n",
    "    validation_data=(X_val, y_val_onehot) # Use validation_data to validate in each epoch\n",
    ")"
   ]
  },
  {
   "cell_type": "markdown",
<<<<<<< HEAD
   "id": "ea9462d9",
   "metadata": {
    "papermill": {
     "duration": 2.422871,
     "end_time": "2024-12-02T18:00:40.424534",
     "exception": false,
     "start_time": "2024-12-02T18:00:38.001663",
=======
   "id": "94eb43de",
   "metadata": {
    "papermill": {
     "duration": 1.90643,
     "end_time": "2024-12-03T11:16:43.589399",
     "exception": false,
     "start_time": "2024-12-03T11:16:41.682969",
>>>>>>> 5a963263c59307331e3870ac37275b68a94a2957
     "status": "completed"
    },
    "tags": []
   },
   "source": [
    "## Evaluation"
   ]
  },
  {
   "cell_type": "code",
   "execution_count": 10,
<<<<<<< HEAD
   "id": "0832d303",
   "metadata": {
    "execution": {
     "iopub.execute_input": "2024-12-02T18:00:45.254504Z",
     "iopub.status.busy": "2024-12-02T18:00:45.254102Z",
     "iopub.status.idle": "2024-12-02T18:00:51.422622Z",
     "shell.execute_reply": "2024-12-02T18:00:51.421410Z"
    },
    "papermill": {
     "duration": 8.611907,
     "end_time": "2024-12-02T18:00:51.424725",
     "exception": false,
     "start_time": "2024-12-02T18:00:42.812818",
=======
   "id": "3b867048",
   "metadata": {
    "execution": {
     "iopub.execute_input": "2024-12-03T11:16:47.522808Z",
     "iopub.status.busy": "2024-12-03T11:16:47.521957Z",
     "iopub.status.idle": "2024-12-03T11:16:52.942359Z",
     "shell.execute_reply": "2024-12-03T11:16:52.941198Z"
    },
    "papermill": {
     "duration": 7.320772,
     "end_time": "2024-12-03T11:16:52.944441",
     "exception": false,
     "start_time": "2024-12-03T11:16:45.623669",
>>>>>>> 5a963263c59307331e3870ac37275b68a94a2957
     "status": "completed"
    },
    "tags": []
   },
   "outputs": [
    {
     "name": "stdout",
     "output_type": "stream",
     "text": [
      "\u001b[1m1218/1218\u001b[0m \u001b[32m━━━━━━━━━━━━━━━━━━━━\u001b[0m\u001b[37m\u001b[0m \u001b[1m5s\u001b[0m 4ms/step\n",
<<<<<<< HEAD
      "Accuracy: 0.9947376527364206\n",
      "Classification Report:\n",
      "              precision    recall  f1-score   support\n",
      "\n",
      "           0       1.00      1.00      1.00     22863\n",
      "           1       0.99      1.00      0.99      7991\n",
      "           2       0.99      0.99      0.99      8102\n",
      "\n",
      "    accuracy                           0.99     38956\n",
      "   macro avg       0.99      0.99      0.99     38956\n",
      "weighted avg       0.99      0.99      0.99     38956\n",
=======
      "Accuracy: 0.9950970325495431\n",
      "Classification Report:\n",
      "              precision    recall  f1-score   support\n",
      "\n",
      "           0       1.00      1.00      1.00     22853\n",
      "           1       1.00      0.99      1.00      8107\n",
      "           2       0.98      1.00      0.99      7996\n",
      "\n",
      "    accuracy                           1.00     38956\n",
      "   macro avg       0.99      1.00      0.99     38956\n",
      "weighted avg       1.00      1.00      1.00     38956\n",
>>>>>>> 5a963263c59307331e3870ac37275b68a94a2957
      "\n"
     ]
    }
   ],
   "source": [
    "# Evaluate the model on the test set\n",
    "y_pred = np.argmax(eeg_net.predict(X_test), axis=1)\n",
    "\n",
    "accuracy = accuracy_score(y_test, y_pred)\n",
    "print(f\"Accuracy: {accuracy}\")\n",
    "\n",
    "print(f\"Classification Report:\")\n",
    "print(classification_report(y_pred, y_test))"
   ]
  },
  {
   "cell_type": "markdown",
<<<<<<< HEAD
   "id": "e8e56f0d",
=======
   "id": "3a255496",
>>>>>>> 5a963263c59307331e3870ac37275b68a94a2957
   "metadata": {
    "execution": {
     "iopub.execute_input": "2024-12-02T16:16:24.757504Z",
     "iopub.status.busy": "2024-12-02T16:16:24.757080Z",
     "iopub.status.idle": "2024-12-02T16:16:24.780747Z",
     "shell.execute_reply": "2024-12-02T16:16:24.779754Z",
     "shell.execute_reply.started": "2024-12-02T16:16:24.757455Z"
    },
    "papermill": {
<<<<<<< HEAD
     "duration": 2.433176,
     "end_time": "2024-12-02T18:00:56.182147",
     "exception": false,
     "start_time": "2024-12-02T18:00:53.748971",
=======
     "duration": 1.898368,
     "end_time": "2024-12-03T11:16:56.733170",
     "exception": false,
     "start_time": "2024-12-03T11:16:54.834802",
>>>>>>> 5a963263c59307331e3870ac37275b68a94a2957
     "status": "completed"
    },
    "tags": []
   },
   "source": [
    "## Visualization\n",
    "#### Confusion matrix"
   ]
  },
  {
   "cell_type": "code",
   "execution_count": 11,
<<<<<<< HEAD
   "id": "a6e63cb1",
   "metadata": {
    "execution": {
     "iopub.execute_input": "2024-12-02T18:01:00.905622Z",
     "iopub.status.busy": "2024-12-02T18:01:00.904683Z",
     "iopub.status.idle": "2024-12-02T18:01:01.154646Z",
     "shell.execute_reply": "2024-12-02T18:01:01.153632Z"
    },
    "papermill": {
     "duration": 2.661648,
     "end_time": "2024-12-02T18:01:01.157039",
     "exception": false,
     "start_time": "2024-12-02T18:00:58.495391",
=======
   "id": "9051f5bf",
   "metadata": {
    "execution": {
     "iopub.execute_input": "2024-12-03T11:17:00.621283Z",
     "iopub.status.busy": "2024-12-03T11:17:00.620873Z",
     "iopub.status.idle": "2024-12-03T11:17:00.914420Z",
     "shell.execute_reply": "2024-12-03T11:17:00.913379Z"
    },
    "papermill": {
     "duration": 2.231206,
     "end_time": "2024-12-03T11:17:00.916566",
     "exception": false,
     "start_time": "2024-12-03T11:16:58.685360",
>>>>>>> 5a963263c59307331e3870ac37275b68a94a2957
     "status": "completed"
    },
    "tags": []
   },
   "outputs": [
    {
     "data": {
<<<<<<< HEAD
      "image/png": "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",
=======
      "image/png": "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",
>>>>>>> 5a963263c59307331e3870ac37275b68a94a2957
      "text/plain": [
       "<Figure size 640x480 with 2 Axes>"
      ]
     },
     "metadata": {},
     "output_type": "display_data"
    }
   ],
   "source": [
    "cm = confusion_matrix(y_test, y_pred)\n",
    "sns.heatmap(cm, annot=True, fmt='d', cmap='Blues')\n",
    "plt.xlabel('Predicted')\n",
    "plt.ylabel('True')\n",
    "plt.title('Confusion Matrix')\n",
    "plt.show()"
   ]
  },
  {
   "cell_type": "markdown",
<<<<<<< HEAD
   "id": "e6c6d179",
   "metadata": {
    "papermill": {
     "duration": 2.431829,
     "end_time": "2024-12-02T18:01:05.897340",
     "exception": false,
     "start_time": "2024-12-02T18:01:03.465511",
=======
   "id": "924d4d8b",
   "metadata": {
    "papermill": {
     "duration": 1.950167,
     "end_time": "2024-12-03T11:17:04.748578",
     "exception": false,
     "start_time": "2024-12-03T11:17:02.798411",
>>>>>>> 5a963263c59307331e3870ac37275b68a94a2957
     "status": "completed"
    },
    "tags": []
   },
   "source": [
    "#### ROC curve"
   ]
  },
  {
   "cell_type": "code",
   "execution_count": 12,
<<<<<<< HEAD
   "id": "82bdb0e7",
   "metadata": {
    "execution": {
     "iopub.execute_input": "2024-12-02T18:01:10.630536Z",
     "iopub.status.busy": "2024-12-02T18:01:10.630123Z",
     "iopub.status.idle": "2024-12-02T18:01:10.864173Z",
     "shell.execute_reply": "2024-12-02T18:01:10.863087Z"
    },
    "papermill": {
     "duration": 2.640984,
     "end_time": "2024-12-02T18:01:10.866231",
     "exception": false,
     "start_time": "2024-12-02T18:01:08.225247",
=======
   "id": "b9ccb27d",
   "metadata": {
    "execution": {
     "iopub.execute_input": "2024-12-03T11:17:08.524067Z",
     "iopub.status.busy": "2024-12-03T11:17:08.523634Z",
     "iopub.status.idle": "2024-12-03T11:17:08.799129Z",
     "shell.execute_reply": "2024-12-03T11:17:08.798080Z"
    },
    "papermill": {
     "duration": 2.17065,
     "end_time": "2024-12-03T11:17:08.801157",
     "exception": false,
     "start_time": "2024-12-03T11:17:06.630507",
>>>>>>> 5a963263c59307331e3870ac37275b68a94a2957
     "status": "completed"
    },
    "tags": []
   },
   "outputs": [
    {
     "data": {
<<<<<<< HEAD
      "image/png": "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",
=======
      "image/png": "iVBORw0KGgoAAAANSUhEUgAAAjcAAAHHCAYAAABDUnkqAAAAOXRFWHRTb2Z0d2FyZQBNYXRwbG90bGliIHZlcnNpb24zLjcuNSwgaHR0cHM6Ly9tYXRwbG90bGliLm9yZy/xnp5ZAAAACXBIWXMAAA9hAAAPYQGoP6dpAACY60lEQVR4nOzdd1xTZ9sH8F8SSNgbWYKIIoKKOCpFRVRAcOAAEbVa9dVaW22t1tpqrdYOfFrrqKtaF1oXFRd14xZFnKg4UBHFASoiIDOQ3O8flFMiAQkmhMD1fT48JXfOuHIMOVfuyWOMMRBCCCGE1BN8dQdACCGEEKJMlNwQQgghpF6h5IYQQggh9QolN4QQQgipVyi5IYQQQki9QskNIYQQQuoVSm4IIYQQUq9QckMIIYSQeoWSG0IIIYTUK5TcEEIIIaReoeSGEFKliIgI8Hg87kdLSwt2dnYYPXo0njx5Incfxhj++usvdOvWDSYmJtDT00ObNm3www8/IC8vr9Jz7dq1C71794aFhQWEQiFsbW0xZMgQHDt2rFqxFhYWYtGiRfD09ISxsTF0dHTQokULTJo0CXfu3KnR6yeEaB4erS1FCKlKREQExowZgx9++AFNmzZFYWEhzp07h4iICDg6OiIxMRE6Ojrc9hKJBMOHD8fff/8Nb29vBAcHQ09PD6dPn8aWLVvg5uaGI0eOwMrKituHMYb/+7//Q0REBNq1a4fBgwfD2toaaWlp2LVrFy5duoQzZ86gc+fOlcaZkZGBwMBAXLp0Cf369YOfnx8MDAyQlJSEbdu2IT09HWKxWKXXihBSRzBCCKnC+vXrGQB24cIFmfKvv/6aAWCRkZEy5eHh4QwAmzZtWoVjRUdHMz6fzwIDA2XK58+fzwCwL774gkml0gr7bdy4kcXHx1cZZ9++fRmfz2dRUVEVnissLGRffvlllftXV3FxMSsqKlLKsQghqkHJDSGkSpUlN3v37mUAWHh4OFeWn5/PTE1NWYsWLVhxcbHc440ZM4YBYHFxcdw+ZmZmrGXLlqykpKRGMZ47d44BYB999FG1tvfx8WE+Pj4VykeNGsWaNGnCPU5JSWEA2Pz589miRYuYk5MT4/P57Ny5c0wgELDvv/++wjFu377NALClS5dyZa9evWKTJ09mjRs3ZkKhkDVr1oz973//YxKJROHXSgh5O+pzQwipkQcPHgAATE1NubLY2Fi8evUKw4cPh5aWltz9PvzwQwDA3r17uX0yMzMxfPhwCASCGsUSHR0NABg5cmSN9n+b9evXY+nSpRg/fjwWLFgAGxsb+Pj44O+//66wbWRkJAQCAUJDQwEA+fn58PHxwaZNm/Dhhx9iyZIl6NKlC2bMmIGpU6eqJF5CGjr5nz6EEPKG7OxsZGRkoLCwEPHx8Zg7dy5EIhH69evHbXPz5k0AQNu2bSs9Ttlzt27dkvlvmzZtahybMo5RlcePH+PevXuwtLTkysLCwvDxxx8jMTERrVu35sojIyPh4+PD9SlauHAhkpOTceXKFTg7OwMAPv74Y9ja2mL+/Pn48ssvYW9vr5K4CWmoqOaGEFItfn5+sLS0hL29PQYPHgx9fX1ER0ejcePG3DavX78GABgaGlZ6nLLncnJyZP5b1T5vo4xjVCUkJEQmsQGA4OBgaGlpITIykitLTEzEzZs3ERYWxpVt374d3t7eMDU1RUZGBvfj5+cHiUSCU6dOqSRmQhoyqrkhhFTL8uXL0aJFC2RnZ2PdunU4deoURCKRzDZlyUVZkiPPmwmQkZHRW/d5m/LHMDExqfFxKtO0adMKZRYWFvD19cXff/+NH3/8EUBprY2WlhaCg4O57e7evYtr165VSI7KPH/+XOnxEtLQUXJDCKmWTp06oWPHjgCAgQMHomvXrhg+fDiSkpJgYGAAAHB1dQUAXLt2DQMHDpR7nGvXrgEA3NzcAAAtW7YEAFy/fr3Sfd6m/DG8vb3fuj2PxwOTMwuGRCKRu72urq7c8qFDh2LMmDFISEiAh4cH/v77b/j6+sLCwoLbRiqVwt/fH9OnT5d7jBYtWrw1XkKIYqhZihCiMIFAgHnz5uHp06dYtmwZV961a1eYmJhgy5YtlSYKGzduBACur07Xrl1hamqKrVu3VrrP2wQFBQEANm3aVK3tTU1NkZWVVaH84cOHCp134MCBEAqFiIyMREJCAu7cuYOhQ4fKbNOsWTPk5ubCz89P7o+Dg4NC5ySEvB0lN4SQGunevTs6deqExYsXo7CwEACgp6eHadOmISkpCd9++22Fffbt24eIiAgEBATg/fff5/b5+uuvcevWLXz99ddya1Q2bdqE8+fPVxqLl5cXAgMDsWbNGuzevbvC82KxGNOmTeMeN2vWDLdv38aLFy+4sqtXr+LMmTPVfv0AYGJigoCAAPz999/Ytm0bhEJhhdqnIUOGIC4uDocOHaqwf1ZWFkpKShQ6JyHk7WiGYkJIlcpmKL5w4QLXLFUmKioKoaGh+OOPPzBhwgQApU07YWFh2LFjB7p164aQkBDo6uoiNjYWmzZtgqurK44ePSozQ7FUKsXo0aPx119/oX379twMxenp6di9ezfOnz+Ps2fPwsvLq9I4X7x4gV69euHq1asICgqCr68v9PX1cffuXWzbtg1paWkoKioCUDq6qnXr1mjbti3Gjh2L58+fY+XKlbCyskJOTg43zP3Bgwdo2rQp5s+fL5Mclbd582aMGDEChoaG6N69OzcsvUx+fj68vb1x7do1jB49Gh06dEBeXh6uX7+OqKgoPHjwQKYZixCiBOqdZocQUtdVNokfY4xJJBLWrFkz1qxZM5kJ+CQSCVu/fj3r0qULMzIyYjo6OqxVq1Zs7ty5LDc3t9JzRUVFsV69ejEzMzOmpaXFbGxsWFhYGDtx4kS1Ys3Pz2e//fYbe++995iBgQETCoXM2dmZffbZZ+zevXsy227atIk5OTkxoVDIPDw82KFDh6qcxK8yOTk5TFdXlwFgmzZtkrvN69ev2YwZM1jz5s2ZUChkFhYWrHPnzuy3335jYrG4Wq+NEFJ9VHNDCCGEkHqF+twQQgghpF6h5IYQQggh9QolN4QQQgipVyi5IYQQQki9QskNIYQQQuoVSm4IIYQQUq80uLWlpFIpnj59CkNDQ/B4PHWHQwghhJBqYIzh9evXsLW1BZ9fdd1Mg0tunj59Cnt7e3WHQQghhJAaePToERo3blzlNg0uuTE0NARQenGMjIzUHA0hhBBCqiMnJwf29vbcfbwqDS65KWuKMjIyouSGEEII0TDV6VJCHYoJIYQQUq9QckMIIYSQeoWSG0IIIYTUK5TcEEIIIaReoeSGEEIIIfUKJTeEEEIIqVcouSGEEEJIvULJDSGEEELqFUpuCCGEEFKvUHJDCCGEkHpFrcnNqVOnEBQUBFtbW/B4POzevfut+5w4cQLt27eHSCRC8+bNERERofI4CSGEEKI51Jrc5OXloW3btli+fHm1tk9JSUHfvn3Ro0cPJCQk4IsvvsC4ceNw6NAhFUdKCCGEEE2h1oUze/fujd69e1d7+5UrV6Jp06ZYsGABAMDV1RWxsbFYtGgRAgICVBVmjTx5AiQkvH07xqp3PHVs12Bjk33A/cYD+/epyp//b/eqtwF3rMqe/6+8/P/Le577Xc7xahJ/6WuQH3OF2FjlMck/3lteaxXHQxVxyDte2Smrip87aTWP9/bYqhOfvNjkb8sYAF7V//Y8VO+9VJP45W/Pyv3nbdvK2a+K+GWOwZN3Pd5+Ph5Y+Xde1bFV59+ex6r1WtlbYuLK3vZ3ypP3t6DIdS79nTEGKaSQQoISSCFlEkjKSlgJJJCWPv63XAIpJEwCKZNCwv1PCglYuW0kb2z3337c8SCBFAwSJsX3H6xFY9vGUAeNWhU8Li4Ofn5+MmUBAQH44osvKt2nqKgIRUVF3OOcnBxVhQekxQDXZkGcm4XcB4CznDcs8N+bU6ZMzvOVbfO256vcRp3nftsxFDi2Ms7N55f/MKgH3r5QbvW2IUSDSRlQAqCEAZJ//1tSrqzCc3K2qew5iZzjKHSuN56Te7x3OJfkjW3UbXz6I0puqiM9PR1WVlYyZVZWVsjJyUFBQQF0dXUr7DNv3jzMnTu3dgK8Nht4eR5CAC42tXNKQghhb9yQK7tpVrhpv7lPVc+h4g210uPV8DmFEo5KjlfPvrJoDD3ogQce8pDHlZUw9aVYGpXc1MSMGTMwdepU7nFOTg7s7e1Vc7LiLO7XzFxTAIC2EBAIyn9d/u93hreUsxrup9C25cvLPa+Ec9fKfmVx8qoXf02vl6r2q+1jKHaOiuW8tzyv8Ll58rcFyv8b8soVy55PyhhKIIWEAZJ/q8JLb3TSfx8zSMBQwhhKuOdLH5dWo0OmrPRY7I19y6reS48hZdJ/j1V+e+m/z/1XJvPcv00E/5VLuWNLy8dTrry0iv/f398oL3tc/ndSP/HBg4AngAB88Hl8aEEAAY/PlQl4AvDBhxbv33KZ50t//+95QSX7/Vcm4AnA//c4ssf89zkIoPVGmUAsgiDTENCWQtuiCAJ+abmzo4varptGJTfW1tZ49uyZTNmzZ89gZGQkt9YGAEQiEUQiUW2Eh7LvDIVSE5h/nAkA+OsvYMSIWjo9aRAYY5AwCUqkJZBIS/8r76dsmwrlNdinqv2q3Odtx5O8WwyMbur1lhZfC1p8LQh4Au738j8CvvzyqvapsB9Pycd7x33e3E/AL0006irGGE6fPo0TJ06AMQYLw0b4MOxDGBoaqjs0zUpuvLy8sH//fpmymJgYeHl5qSmit+PX3felxpEyaf24ob/jPhI1VvUS1eL/+437XW+KmnxD1+Jrgc/jg8ejDmJ1WW5uLnbt2oX79+8DANq2bYs+ffpAKBSqObJSak1ucnNzce/ePe5xSkoKEhISYGZmBgcHB8yYMQNPnjzBxo0bAQATJkzAsmXLMH36dPzf//0fjh07hr///hv79u1T10uQxfW8/++PUiB410OWfkuv1ZtzTZIHZR9Pzj70Lb3+UvYNXe4+vLp9Q6/r39IJKZOSkoKdO3ciNzcX2tra6NOnDzw8PNQdlgy1JjcXL15Ejx49uMdlfWNGjRqFiIgIpKWlITU1lXu+adOm2LdvH6ZMmYLff/8djRs3xpo1a+rMMPBNL7OxPQMokL4GRvYC+CWYm1qC39fW/IZO39LrLx54dfqGruwkoLL96Fs6IZpDKpVi//79yM3NhaWlJUJDQ2FpaanusCrgMcYa1NfhnJwcGBsbIzs7G0ZGRko77rPcZ7BdYA2p0o5YfynzZlrpPry6cUOv6jz0LZ0QoonS09Nx8eJFBAQEQFtbu9bOq8j9W6P63NRlz/OevzWx0eZrv/NNUZNv6PQtnRBCNE9ycjKysrLQoUMHAKWDe/r166fmqKpGyY0KDDcQYcvMF4BUCzuitDCwP31LJ4QQolmkUimOHz+O2NhY8Pl82NrawsZGMyZxo+RGScp3dhXxAIhLh8KJtAA+VVQQQgjRIDk5OdixYwfX77Vdu3Z1sm9NZSi5UYHynZhoKDghhBBNcvfuXezatQsFBQUQCoXo378/WrVqpe6wFELJjUr8V1VDyQ0hhBBNcfToUcTGxgIAbGxsMHjwYJiZmak5KsVRcqMC5Vuh3nWeG0IIIaS2lM3236lTJ/j7+0NLSzPTBM2Mug6qbEQ91dwQQgipy8RiMTezsJeXFxo3bgwHBwc1R/Vu6NarCuXyHKq5IYQQUhdJJBIcPHgQq1evhlgsBgDweDyNT2wAqrlRCR71uSGEEFKHvXr1ClFRUXj69CkAICkpCW3atFFzVMpDyY2SlB8KXr6BimpuCCGE1CU3b95EdHQ0ioqKoKOjg4EDB8LFxUXdYSkVJTcqRjU3hBBC6oKSkhIcPnwYFy5cAADY29sjJCQExsbGao5M+Si5UYHyo6UouSGEEFIXlE9sunTpgh49ekBQT5sXKLlRkvKjpVi59Kaevm8IIYRomG7duuHhw4fw9/dH8+bN1R2OSlG9gopRzQ0hhBB1KC4uxvXr17nHBgYGmDBhQr1PbACquVE5qrkhhBBS2zIyMrB9+3Y8f/4cfD6fWz6Bx2sYix1ScqMKjIaCE0IIUY+rV69i3759KC4uhr6+PjfrcENCyY2SMMifoZhqbgghhNQGsViMAwcOICEhAQDQtGlTDBo0CIaGhuoNTA0ouVExqrkhhBCias+fP0dUVBRevHgBHo8HHx8feHt7g99Ab0KU3KgADQUnhBBSm169eoUXL17AwMAAISEhcHR0VHdIakXJjZLQUHBCCCG1iTHGdRB2cXFBUFAQXFxcoK+vr+bI1I/qFVSMam4IIYQoW3p6OtavX4/s7GyurH379pTY/ItuvSpQvlmKam4IIYQoC2MMFy9exJo1a/Do0SMcPnxY3SHVSdQspSQyo6VoKDghhBAlKyoqwj///IMbN24AAJydndG3b181R1U3UXKjYpTcEEIIeVdpaWmIiopCZmYm+Hw+fH194eXl1WAm5VMUJTcqRs1ShBBC3kVKSgo2b94MiUQCY2NjDB48GI0bN1Z3WHUaJTdKUn60VHlUc0MIIeRdNG7cGObm5jA1NcWAAQMa5IzDiqLkRgVoKDghhJB38fz5c1hYWIDP50NbWxujRo2Crq4uNUNVE9UrqBjV3BBCCKkuxhji4uKwatUqxMbGcuV6enqU2CiAam5UgFeuhYpqbgghhFRHQUEBdu/ejTt37gAorb0pP1EfqT5KbpSksoUzqeaGEELI2zx69AhRUVHIycmBQCBAQEAAOnbsSIlNDVFyowLl+9xQckMIIaQyjDGcPXsWR48eBWMMZmZmGDx4MGxsbNQdmkaj5EbFqFmKEEJIZTIzM3H8+HEwxtC6dWv069cPIpFI3WFpPEpulISGghNCCFGUubk5+vTpA8YY2rdvT81QSkLJjSrQ8guEEELkYIwhNjYWTk5OsLOzA1C64CVRLrr1qkBZasPjlf4QQgghubm52LRpE44dO4aoqCiIxWJ1h1RvUc2NkpQfLVX2G9XaEEIIAUqXUNi5cydyc3OhpaUFHx8fCIVCdYdVb1Fyo0LUmZgQQho2qVSKU6dO4eTJkwAAS0tLhIaGwtLSUs2R1W+U3KjCv31uqOaGEEIarqKiImzbtg0PHjwAAHh4eKBPnz7Q1tZWb2ANACU3SiJvtBTV3BBCSMMlFAqhra0NbW1t9OvXD+7u7uoOqcGg5EYFqM8NIYQ0TFKpFBKJBNra2uDxeBg4cCDy8/NhYWGh7tAaFLr9qhDV3BBCSMORk5ODDRs2YN++fVyZnp4eJTZqQMmNCvCozw0hhDQod+/excqVK5Gamopbt24hKytL3SE1aNQspSQ0FJwQQhoeiUSCY8eO4ezZswAAGxsbDB48GCYmJuoNrIGj5EaFqFmKEELqr+zsbERFReHx48cAgE6dOsHf3x9aWnRrVTf6F1AFapYihJB6jTGGTZs2ISMjAyKRCAMGDICrq6u6wyL/ouRGSWgoOCGENBw8Hg+BgYE4ceIEgoODYWpqqu6QSDmU3KgA9bkhhJD659WrV8jMzESzZs0AAM2aNYOTkxOt5F0HUXKjArx/sxtKbgghpH64efMmoqOjAQDjx4+HmZkZAFBiU0dRcqMksqOlSt/s1CxFCCGaraSkBIcPH8aFCxcAAI0bN4aAPtzrPEpuVIhqbgghRHO9fPkSUVFRSE9PBwB07twZPXv2pORGA1ByowJllZT0/ieEEM2UmJiIf/75B2KxGLq6uhg0aBCcnZ3VHRapJkpuVIDRUHBCCNFojx8/hlgshoODA0JCQmBkZKTukIgCKLlREhoKTgghmo0xxnUQ9vf3h5mZGTp27Ag+fVPVOPQvpgKMRksRQohGuXbtGrZs2QKpVAoAEAgE6NSpEyU2GopqblSAB2qWIoQQTSAWi3HgwAEkJCQAAK5cuYIOHTqoNyjyzii5URJ5C2dSsxQhhNRdz58/R1RUFF68eAEA8PHxQbt27dQcFVEGtdctLF++HI6OjtDR0YGnpyfOnz9f5faLFy+Gi4sLdHV1YW9vjylTpqCwsLCWoq0mapYihJA6izGGK1euYPXq1Xjx4gUMDAzw4Ycfonv37tQMVU+oteYmMjISU6dOxcqVK+Hp6YnFixcjICAASUlJaNSoUYXtt2zZgm+++Qbr1q1D586dcefOHYwePRo8Hg8LFy5UwyuoDE3iRwghddXJkydx8uRJAICTkxOCg4Ohr6+v5qiIMqk1RV24cCE++ugjjBkzBm5ubli5ciX09PSwbt06udufPXsWXbp0wfDhw+Ho6IhevXph2LBhb63tqQ3yRkvRFwBCCKl7WrVqBZFIhJ49e2LEiBGU2NRDarv9isViXLp0CX5+fv8Fw+fDz88PcXFxcvfp3LkzLl26xCUz9+/fx/79+9GnT59Kz1NUVIScnByZn9pCyQ0hhKgfY4ybZRgALC0tMXnyZHh7e9PaUPWU2pqlMjIyIJFIYGVlJVNuZWWF27dvy91n+PDhyMjIQNeuXcEYQ0lJCSZMmICZM2dWep558+Zh7ty5So39rRg1SxFCSF1QVFSEvXv34saNGxg1ahSaNGkCANDV1VVzZESVNKpu4cSJEwgPD8eKFStw+fJl7Ny5E/v27cOPP/5Y6T4zZsxAdnY29/Po0SOVxFZ+tFQZqrkhhBD1SUtLw59//onExEQApV+qScOgtpobCwsLCAQCPHv2TKb82bNnsLa2lrvPd999h5EjR2LcuHEAgDZt2iAvLw/jx4/Ht99+K7eXu0gkgkgkUv4LqAaquSGEkNrHGMOFCxdw+PBhSCQSGBsbIyQkBPb29uoOjdQStdUtCIVCdOjQAUePHuXKpFIpjh49Ci8vL7n75OfnV0hgylZnldehV92o5oYQQmpXYWEhtm/fjgMHDkAikcDFxQUff/wxJTYNjFqHgk+dOhWjRo1Cx44d0alTJyxevBh5eXkYM2YMAODDDz+EnZ0d5s2bBwAICgrCwoUL0a5dO3h6euLevXv47rvvEBQUVMeWoKc+N4QQog63b9/GrVu3wOfz4e/vD09PT+o03ACpNbkJCwvDixcvMHv2bKSnp8PDwwMHDx7kOhmnpqbK1NTMmjULPB4Ps2bNwpMnT2BpaYmgoCD8/PPP6noJHBoKTggh6te2bVs8e/YMrVu3hp2dnbrDIWrCY3WxPUeFcnJyYGxsjOzsbKUuYX885Th6buwJABgJG/z1/VP07w/s2aO0UxBCCHlDQUEBjh07Bl9fX+jo6Kg7HKJCity/aW0pFeBRsxQhhKjco0ePsGPHDmRnZ6OoqAjBwcHqDonUEZTcKAlj0gpl1CxFCCHKxxjD2bNncezYMUilUpiamlY6EIU0TJTcqACjSfwIIUQl8vPzsXv3bty9exdA6VIKQUFBapvyg9RNlNwozX9dl8r65VPNDSGEKE96ejq2bNmC169fQyAQoHfv3mjfvj2NhiIVUHKjJOX7ZZf9RskNIYQoT1knUnNzc4SGhlZYvoeQMpTcKE3FQWfULEUIIe+mqKiIa3LS09PDiBEjYGJiAqFQqObISF1GdQsqUDZaimpuCCGk5lJSUrBs2TIkJCRwZY0aNaLEhrwV3X6VRN50QVRzQwghipNKpThx4gT++usv5Obm4sKFC3VyiR1Sd1GzlNKU63PDqOaGEEJq4vXr19i1axdSUlIAAB4eHujduzd1GiYKoeRGhajmhhBCqi85ORm7du1CXl4etLW10bdvX7Rt21bdYRENRMmNsjAaCk4IITX16tUrbN68GYwxNGrUCKGhobCwsFB3WERDUXKjJKx8sxR1KCaEEIWYmpqiS5cuKCgoQEBAALS1tdUdEtFglNwoDXUoJoQQRdy9excWFhYwNTUFAPTs2ZP61hCloLoFVfg3z6GaG0IIqUgikSAmJgZbtmxBVFQUJBIJAFBiQ5SGam6UhIaCE0LI22VnZyMqKgqPHz8GANjZ2dEwb6J0lNyoBPW5IYSQNyUlJWH37t0oLCyESCRC//794ebmpu6wSD1EyY3SVBwtRTU3hBBS2gx15MgRnDt3DgBga2uLwYMHc31tCFE2Sm6UhDHpf79TzQ0hhHAYY3j48CEAwNPTE/7+/hDQtz+iQpTcqBAlN4SQhowxBh6PBy0tLYSGhuLZs2do2bKlusMiDQAlN6rwbwsVfTEhhDREJSUlOHz4MHR0dNCzZ08ApfPYUDMUqS2U3KgENUsRQhqmzMxMREVFIS0tDTweDx4eHjAzM1N3WKSBoeRGScr3uSlDNTeEkIbkxo0biI6Ohlgshq6uLgYOHEiJDVELSm5UoGzcFNXcEEIaguLiYhw6dAiXLl0CADg4OCAkJARGRkZqjow0VJTcKE25oeCMmqUIIQ0DYwx//fUXHj16BADo2rUrevToAT59ABI1ouRGSRitLUUIaYB4PB7at2+Ply9fIjg4GM2aNVN3SIRQcqNK9MWFEFIfFRcXIysrC5aWlgAADw8PuLi4QFdXV82REVKKbr/KIrM2SmmzFNXcEELqmxcvXmD16tXYtGkT8vPzuXJKbEhdQjU3SiJv4TequSGE1CcJCQnYt28fSkpKYGBggKysLOjp6ak7LEIqoORGaf5LbhhN4kcIqUfEYjH279+Pq1evAgCcnJwwaNAgGBgYqDkyQuSj5EYlaLQUIaR+ePbsGaKiopCRkQEej4fu3bvD29sbPB7v7TsToiaU3CiJvNFSlNwQQjTdmTNnkJGRAUNDQ4SEhKBJkybqDomQt6LkRiWoQzEhpH7o06cPtLS04OvrC319fXWHQ0i1UN2CspTrUFxWWUs1N4QQTZOWlobDhw9zgyR0dHTQv39/SmyIRnmnmpvCwkLo6OgoK5Z6gzGquSGEaBbGGC5evIhDhw5BIpHA0tIS7dq1U3dYhNSIwnULUqkUP/74I+zs7GBgYID79+8DAL777jusXbtW6QFqCoaKC2dSzQ0hRBMUFhYiKioK+/fvh0QiQYsWLdCyZUt1h0VIjSl8+/3pp58QERGBX3/9FUKhkCtv3bo11qxZo9TgNErF/sSU3BBC6rwnT55g1apVuHnzJvh8Pnr16oWhQ4fSpHxEoyncLLVx40b8+eef8PX1xYQJE7jytm3b4vbt20oNTtNRsxQhpC67cuUK9u7dC6lUChMTEwwePBh2dnbqDouQd6ZwcvPkyRM0b968QrlUKkVxcbFSgtJEss1SNM8NIaTuMzMzA2MMrq6u6N+/P/WhJPWGwsmNm5sbTp8+XWGug6ioKOp89i+aoZgQUleVHwjSpEkTjBs3DjY2NjQpH6lXFE5uZs+ejVGjRuHJkyeQSqXYuXMnkpKSsHHjRuzdu1cVMWqI8kPBqeaGEFK3MMYQFxeH06dPY+zYsbCwsAAA2NraqjkyQpRP4dvvgAED8M8//+DIkSPQ19fH7NmzcevWLfzzzz/w9/dXRYwaofzCmWW/Uc0NIaQuyM/Px9atWxETE4PCwkJujShC6qsazXPj7e2NmJgYZcei2Wi0FCGkDkpNTcWOHTuQk5MDgUCAwMBAdOjQQd1hEaJSCt9+nZyc8PLlywrlWVlZcHJyUkpQmomapQghdQdjDKdPn0ZERARycnJgbm6OcePGoWPHjtS/htR7CtfcPHjwABKJpEJ5UVERnjx5opSgNJG8hTOpWYoQoi4JCQk4duwYAMDd3R19+/aVmZuMkPqs2slNdHQ09/uhQ4dgbGzMPZZIJDh69CgcHR2VGpxmKdfnhlHNDSFEvdq2bYvExES0bt0aHh4eVFtDGpRqJzcDBw4EAPB4PIwaNUrmOW1tbTg6OmLBggVKDU5TlX2EUM0NIaS2SKVSXLlyBR4eHhAIBODz+RgxYgQlNaRBqnZyI5WWTlLXtGlTXLhwgRtGSP7FKv5KNTeEkNqQm5uLnTt3IiUlBRkZGQgICAAASmxIg6Vwn5uUlBRVxKHxZPrcULMUIaSW3L9/Hzt37kReXh60tbVhbW2t7pAIUbsaDQXPy8vDyZMnkZqaCrFYLPPc559/rpTANA91KCaE1B6pVIoTJ07g9OnTAIBGjRohNDSUatUJQQ2SmytXrqBPnz7Iz89HXl4ezMzMkJGRAT09PTRq1KgBJzflUc0NIUR1cnJysHPnTjx8+BAA0L59ewQGBkJbW1vNkRFSNyh8+50yZQqCgoLw6tUr6Orq4ty5c3j48CE6dOiA3377TRUxagTGpBXKqOaGEKIKJSUlSEtLg1AoRHBwMIKCgiixIaQchWtuEhISsGrVKvD5fAgEAhQVFcHJyQm//vorRo0aheDgYFXEqVGoQzEhRNkYY1wHYTMzM4SGhsLU1BTm5uZqjoyQukfh26+2tjb4/961GzVqhNTUVACAsbExHj16pNzoNFTZDMVUc0MIUYbs7GxERETg/v37XFnz5s0psSGkEgonN+3atcOFCxcAAD4+Ppg9ezY2b96ML774Aq1bt1Z6gJqifLNU2RqaVHNDCHlXSUlJWLVqFVJTU7F//35uWg5CSOUUvv2Gh4fDxsYGAPDzzz/D1NQUn3zyCV68eIFVq1YpPUBNRskNIaSmJBIJDh06hG3btqGgoAC2trb44IMPuJpzQkjlFO5z07FjR+73Ro0a4eDBg0oNqD6gZilCyLvIyspCVFQUt16fp6cn/Pz8oKVVo9k7CGlwlPYV4PLly+jXr5/C+y1fvhyOjo7Q0dGBp6cnzp8/X+X2WVlZmDhxImxsbCASidCiRQvs37+/pmGrBKOh4ISQGsrOzsaqVavw5MkT6OjoICwsDIGBgZTYEKIAhf5aDh06hJiYGAiFQowbNw5OTk64ffs2vvnmG/zzzz/clN/VFRkZialTp2LlypXw9PTE4sWLERAQgKSkJDRq1KjC9mKxGP7+/mjUqBGioqJgZ2eHhw8fwsTERKHzqgINBSeEKIORkRFatGiBzMxMhISE1InPN0I0TbWTm7Vr1+Kjjz6CmZkZXr16hTVr1mDhwoX47LPPEBYWhsTERLi6uip08oULF+Kjjz7CmDFjAAArV67Evn37sG7dOnzzzTcVtl+3bh0yMzNx9uxZbk6HOrkSOS2/QAhRQGZmJnR0dKCnpwcej4d+/fpx020QQhRX7dvv77//jl9++QUZGRn4+++/kZGRgRUrVuD69etYuXKlwomNWCzGpUuX4Ofn918wfD78/PwQFxcnd5/o6Gh4eXlh4sSJsLKyQuvWrREeHg6JRFLpeYqKipCTkyPzoxoVl1+g5IYQ8jY3btzAqlWrsGfPHrB/h1pqa2tTYkPIO6j27Tc5ORmhoaEAgODgYGhpaWH+/Plo3LhxjU6ckZEBiUQCKysrmXIrKyukp6fL3ef+/fuIioqCRCLB/v378d1332HBggX46aefKj3PvHnzYGxszP3Y29vXKN63YbS2FCFEASUlJdi7dy+ioqIgFotRUFCAoqIidYdFSL1Q7WapgoIC6OnpAQB4PB5EIhE3JLy2SKVSNGrUCH/++ScEAgE6dOiAJ0+eYP78+ZgzZ47cfWbMmIGpU6dyj3NyclSW4LyJam4IIfK8fPkS27dvx7NnzwAAXbt2RY8ePWiYNyFKolCH4jVr1sDAwABA6beOiIiICivQVnfhTAsLCwgEAu6Pu8yzZ89gbW0tdx8bG5sK1bWurq5IT0+HWCyGUCissI9IJIJIJKpWTO+Elau5YTQUnBAi37Vr17B3714UFxdDT08PgwYNQvPmzdUdFiH1SrWTGwcHB6xevZp7bG1tjb/++ktmGx6PV+3kRigUokOHDjh69CgGDhwIoLRm5ujRo5g0aZLcfbp06YItW7ZAKpVy33Du3LkDGxsbuYlNbZLXLEVfwggh5RUXF+P48eMoLi6Go6MjgoODYWhoqO6wCKl3qp3cPHjwQOknnzp1KkaNGoWOHTuiU6dOWLx4MfLy8rjRUx9++CHs7Owwb948AMAnn3yCZcuWYfLkyfjss89w9+5dhIeHVzuhqi2MJvEjhMihra2NwYMH4+7du+jWrRs1QxGiImqdFSosLAwvXrzA7NmzkZ6eDg8PDxw8eJDrZJyamirzx29vb49Dhw5hypQpcHd3h52dHSZPnoyvv/5aXS+hSvS5RQhJSEgAYwzt2rUDANjZ2cHOzk7NURFSv6l9ystJkyZV2gx14sSJCmVeXl44d+6ciqNSHJOzmB0lN4Q0XGKxGPv378fVq1chEAjg4OBAq3gTUkvUntzUS9ShmJAG7dmzZ4iKikJGRgZ4PB66desGU1NTdYdFSINByY3SUIdiQho6xhiuXLmCAwcOoKSkBIaGhggODq6bM6kTUo9RcqMSVHNDSEPDGMPu3btx7do1AEDz5s0xcOBA6OvrqzkyQhqeGtUtJCcnY9asWRg2bBieP38OADhw4ABu3Lih1OA0CQ0FJ6Rh4/F4MDMzA4/Hg6+vL4YPH06JDSFqovDt9+TJk2jTpg3i4+Oxc+dO5ObmAgCuXr1a6SzBDYKcSfwouSGkfmOMoaCggHvs7e2N8ePHo2vXruDxeGqMjJCGTeHb7zfffIOffvoJMTExMhPn9ezZs06OYlInSm4Iqb8KCwsRFRWFDRs2oLi4GEDp4r+VzbBOCKk9Cve5uX79OrZs2VKhvFGjRsjIyFBKUJqofLMUA8Djlf4QQuqfp0+fIioqCq9evQKfz8ejR4/g5OSk7rAIIf9SOLkxMTFBWloamjZtKlN+5coVmpiqDONRZ2JC6iHGGM6fP4/Dhw9DKpXC2NgYgwcPRuPGjdUdGiGkHIWTm6FDh+Lrr7/G9u3bwePxIJVKcebMGUybNg0ffvihKmLUELIdiqlJipD6paCgANHR0bh9+zYAoGXLlujfvz90dXXVHBkh5E0KJzfh4eGYOHEi7O3tIZFI4ObmBolEguHDh2PWrFmqiFEjsPIdikE1N4TUN/v378ft27chEAjg7++PTp06UadhQuoohZMboVCI1atX47vvvkNiYiJyc3PRrl07ODs7qyI+jUU1N4TUL35+fsjMzETfvn1ha2ur7nAIIVVQOLmJjY1F165d4eDgAAcHB1XEpKFka24ouSFEs+Xn5+POnTvw8PAAABgbG2PcuHFUW0OIBlA4uenZsyfs7OwwbNgwjBgxAm5ubqqIS+PINkvR7MSEaLLU1FTs2LEDOTk50NXVhYuLCwBQYkOIhlC4fuHp06f48ssvcfLkSbRu3RoeHh6YP38+Hj9+rIr4NIjsUHCquSFE8zDGEBsbi4iICOTk5MDMzAzGxsbqDosQoiCFb8EWFhaYNGkSzpw5g+TkZISGhmLDhg1wdHREz549VRGjxuHRUHBCNE5eXh42b96Mo0ePgjGGNm3aYPz48TQpHyEa6J0WzmzatCm++eYbtG3bFt999x1OnjyprLg0GtXcEKJZHjx4gB07diA3NxdaWlro3bs32rVrR81QhGioGic3Z86cwebNmxEVFYXCwkIMGDAA8+bNU2ZsGoX63BCiuXJzc5GbmwsLCwuEhoaiUaNG6g6JEPIOFE5uZsyYgW3btuHp06fw9/fH77//jgEDBkBPT08V8WkQ2YUzqeaGkLqNMcbVzLRu3RoSiQSurq4ya+YRQjSTwsnNqVOn8NVXX2HIkCGwsLBQRUz1ACU3hNRl9+/fR0xMDD744AMYGBgAANq2bavmqAghyqJwcnPmzBlVxKHxGKhZipC6TiqV4uTJkzh16hQA4MSJE+jXr5+aoyKEKFu1kpvo6Gj07t0b2traiI6OrnLb/v37KyUwjcPKDwWnmhtC6prXr19jx44dePjwIQCgXbt2CAgIUHNUhBBVqFZyM3DgQKSnp6NRo0YYOHBgpdvxeDxIJBJlxaaxeIxqbgipS+7du4ddu3YhPz8fQqEQ/fr1Q5s2bdQdFiFERaqV3EilUrm/k/8wUM0NIXXRjRs3EBUVBQCwsrJCaGgozM3N1RwVIUSVFL4Fb9y4EUVFRRXKxWIxNm7cqJSg6gNKbgipG5o3bw5zc3N07NgR48aNo8SGkAZA4VvwmDFjkJ2dXaH89evXGDNmjFKC0kyyC2dSsxQh6vP48WNu7imRSISPPvoIffv2hZbWO81bSgjREAonN+Xnhijv8ePHtAZLOVRzQ0jtk0gkOHz4MNauXYtz585x5SKRSI1REUJqW7W/xpRNRc7j8eDr6yvzDUgikSAlJQWBgYEqCVITlJ+hmFGHYkJqXVZWFqKiovDkyRMApbXJhJCGqdrJTdkoqYSEBAQEBHATXwGAUCiEo6MjQkJClB6g5qAZiglRl9u3b2PPnj0oLCyEjo4OBgwYgJYtW6o7LEKImlQ7uZkzZw4AwNHREWFhYdDR0VFZUPUB1dwQonolJSWIiYnB+fPnAQB2dnYYPHgwTExM1BsYIUStFO5dN2rUKFXEofFkF86kmhtCasOLFy9w8eJFAICXlxd8fX0hoG8WhDR41UpuzMzMcOfOHVhYWMDU1FRuh+IymZmZSgtOk1FyQ4jq2djYoHfv3jAyMkKLFi3UHQ4hpI6oVnKzaNEiGBoacr9Xldw0XDQUnBBVK2uGat++PaysrAAAHTt2VHNUhJC6plrJTfmmqNGjR6sqFo0m2yxFNTeEKNvLly+xfft2PHv2DPfv38cnn3wCPv2hEULkUPiT4fLly7h+/Tr3eM+ePRg4cCBmzpwJsVis1OA0FQ0FJ0S5rl+/jj///BPPnj2Dnp4eAgICKLEhhFRK4U+Hjz/+GHfu3AEA3L9/H2FhYdDT08P27dsxffp0pQeoiXjUoZgQpSguLkZ0dDR27twJsViMJk2aYMKECWjevLm6QyOE1GEK34Lv3LkDDw8PAMD27dvh4+ODLVu2ICIiAjt27FB2fBqDsf8WFGWgZilC3lVubi7WrFmDK1euAAC6deuGDz/8kOv/RwghlVF4KDhjjFsZ/MiRI+jXrx8AwN7eHhkZGcqNTlMx6lBMyLvS09ODvr4+9PX1ERwcDCcnJ3WHRAjREAonNx07dsRPP/0EPz8/nDx5En/88QcAICUlhRu9QKjmhpCaEIvF4PP50NLSAp/PR3BwMADIzIhOCCFvo/AtePHixbh8+TImTZqEb7/9lmv7joqKQufOnZUeoOagoeCEvIvnz59j9erVOHjwIFdmYGBAiQ0hRGEK19y4u7vLjJYqM3/+/AY9MygDDQUnpCYYY7hy5QoOHDiAkpISFBUVIT8/H3p6euoOjRCioRRObspcunQJt27dAgC4ubmhffv2SgtKI8nkNlRzQ0h1FBUVYd++fdwXpmbNmmHQoEGU2BBC3onCyc3z588RFhaGkydPcovTZWVloUePHti2bRssLS2VHaNGopobQqqWnp6OqKgovHz5EjweDz179kSXLl1oBnRCyDtT+Bb82WefITc3Fzdu3EBmZiYyMzORmJiInJwcfP7556qIUSMwlBsKzmieG0KqUlJSgi1btuDly5cwMjLC6NGj0bVrV0psCCFKoXDNzcGDB3HkyBG4urpyZW5ubli+fDl69eql1OA0GTVLEVI5LS0t9O3bF5cvX8aAAQOoGYoQolQKJzdSqRTa2toVyrW1tbn5bwjV3BDypqdPn6KwsJCbr8bFxQUtWrSg2hpCiNIpfAvu2bMnJk+ejKdPn3JlT548wZQpU+Dr66vU4DSJzAzFtLYUIRzGGOLj47Fu3TpERUUhOzube44SG0KIKihcc7Ns2TL0798fjo6OsLe3BwA8evQIrVu3xqZNm5QeoKaimhtCgIKCAkRHR+P27dsAgCZNmkAoFKo5KkJIfadwcmNvb4/Lly/j6NGj3FBwV1dX+Pn5KT04jUUdignB48ePsWPHDmRlZUEgEMDf3x+dOnWi2hpCiMoplNxERkYiOjoaYrEYvr6++Oyzz1QVl8ajZinSUDHGcO7cORw5cgRSqRSmpqYYPHgwbG1t1R0aIaSBqHZy88cff2DixIlwdnaGrq4udu7cieTkZMyfP1+V8WmM8n1uqEMxach4PB4yMjIglUrh5uaGoKAg6OjoqDssQkgDUu1b8LJlyzBnzhwkJSUhISEBGzZswIoVK1QZm0ajmhvS0DD23zTdgYGBGDRoEAYPHkyJDSGk1lU7ubl//z5GjRrFPR4+fDhKSkqQlpamksA0GaOaG9KAMMYQGxuLLVu2cAmOtrY23N3dqX8NIUQtqt0sVVRUBH19fe4xn8+HUChEQUGBSgLTNOW/tQJUc0Mahry8POzevRv37t0DANy+fVtmgk9CCFEHhToUf/fddzIziYrFYvz8888wNjbmyhYuXKi86DRKueSGRkuRBuDhw4fYsWMHXr9+DS0tLfTu3RstW7ZUd1iEEFL95KZbt25ISkqSKevcuTPu37/PPaYq6DKU3JD6SyqVIjY2FidOnABjDBYWFggNDUWjRo3UHRohhABQILk5ceKECsPQfAzULEUahn379uHy5csAAA8PD/Tu3Zsm5iOE1Cl1on5h+fLlcHR0hI6ODjw9PXH+/Plq7bdt2zbweDwMHDhQtQFWR7k+N4zRDMWk/nrvvfegq6uLgQMHYsCAAZTYEELqHLXfgiMjIzF16lTMmTMHly9fRtu2bREQEIDnz59Xud+DBw8wbdo0eHt711Kk1ccDj2puSL0hlUrx6NEj7rG1tTW++OILtG3bVo1REUJI5dSe3CxcuBAfffQRxowZAzc3N6xcuRJ6enpYt25dpftIJBJ88MEHmDt3LrfCsLqVb5Zi1KGY1BOvX7/Gxo0bERERgSdPnnDlVFtDCKnL1HoLFovFuHTpksy6VHw+H35+foiLi6t0vx9++AGNGjXC2LFjayPMGqHkhmi6e/fuYeXKlXj48CG0tLTw+vVrdYdECCHVovDCmcqUkZEBiUQCKysrmXIrKytuFeE3xcbGYu3atUhISKjWOYqKilBUVMQ9zsnJqXG8VZLpT0zNUkRzSaVSHDt2DGfOnAFQ+vcYGhoKc3NzNUdGCCHVU6P6hdOnT2PEiBHw8vLiqqr/+usvxMbGKjW4N71+/RojR47E6tWrYWFhUa195s2bB2NjY+7H3t5eRdHJjpaimhuiibKzsxEREcElNh07dsS4ceMosSGEaBSFb8E7duxAQEAAdHV1ceXKFa5WJDs7G+Hh4Qody8LCAgKBAM+ePZMpf/bsGaytrStsn5ycjAcPHiAoKAhaWlrQ0tLCxo0bER0dDS0tLSQnJ1fYZ8aMGcjOzuZ+yneMVCaZPjegoeBEM926dQuPHj2CSCTC4MGD0bdvX2hpqbWClxBCFKZwcvPTTz9h5cqVWL16NbS1tbnyLl26cHNfVJdQKESHDh1w9OhRrkwqleLo0aPw8vKqsH3Lli1x/fp1JCQkcD/9+/dHjx49kJCQILdWRiQSwcjISOZH5ahDMdFQnp6e6Ny5M8aPH49WrVqpOxxCCKkRhb+SJSUloVu3bhXKjY2NkZWVpXAAU6dOxahRo9CxY0d06tQJixcvRl5eHsaMGQMA+PDDD2FnZ4d58+ZBR0cHrVu3ltnfxMQEACqUqxvV3BBNkJWVhePHj6Nv374QCoXg8Xjw9/dXd1iEEPJOFE5urK2tce/ePTg6OsqUx8bG1mhYdlhYGF68eIHZs2cjPT0dHh4eOHjwINfJODU1FXwNqAZhTPrf77T8AtEAt2/fxp49e1BYWAihUIi+ffuqOyRCCFEKhZObjz76CJMnT8a6devA4/Hw9OlTxMXFYdq0afjuu+9qFMSkSZMwadIkuc+9bdmHiIiIGp1TlXiU3JA6TCKRICYmBvHx8QAAOzs7dOnSRc1REUKI8iic3HzzzTeQSqXw9fVFfn4+unXrBpFIhGnTpuGzzz5TRYwahzFqliJ106tXrxAVFYWnT58CALy8vODr6wsBvWEJIfWIwskNj8fDt99+i6+++gr37t1Dbm4u3NzcYGBgoIr4NMabC2dSzQ2pax48eIBt27ahqKiIWxuqRYsW6g6LEEKUrsZjPIVCIdzc3JQZSz1Ck/iRusfc3BxaWlpo1KgRQkJCYGxsrO6QCCFEJRRObnr06AEej1fp88eOHXungDQWo5obUvfk5+dDT08PAGBoaIjRo0fD1NSUmqEIIfWawsmNh4eHzOPi4mIkJCQgMTERo0aNUlZcGkemWYrmuSF1wPXr17F3714MGDCAq2Wt7szehBCiyRRObhYtWiS3/Pvvv0dubu47B1QfMGqWImpUXFyMgwcPcpNqXr16lZqQCSENitLqF0aMGIF169Yp63CajVGzFFGPjIwMrFmzhktsunXrhrCwMDVHRQghtUtpi8bExcVBR0dHWYfTQOX73FDNDal9V69exb59+1BcXAx9fX0EBwfXaGJNQgjRdAonN8HBwTKPGWNIS0vDxYsXazyJX33AqEMxUaO0tDTs3r0bANC0aVMEBwc3+OkZCCENl8LJzZvDR/l8PlxcXPDDDz+gV69eSgtMozGquSG1y8bGBl5eXhCJRPD29taIJUsIIURVFEpuJBIJxowZgzZt2sDU1FRVMdULdG8hqsQYw9WrV+Hk5MStdE9fLgghpJRCt2CBQIBevXrVaPXv+q58sxQtnElUqaioCLt27cKePXuwY8cOSKXSt+9ECCENiMLNUq1bt8b9+/fRtGlTVcSjwWT73FCzFFGF9PR0REVF4eXLl+DxeHB2dq5yUk1CCGmIFE5ufvrpJ0ybNg0//vgjOnToAH19fZnny6rIGzaquSHKxRjDpUuXcPDgQUgkEhgZGSEkJAQODg7qDo0QQuqcaic3P/zwA7788kv06dMHANC/f3+Zb4yMMfB4PEgkEuVHqQFkmqVoVXCiREVFRfjnn39w48YNAECLFi0wYMAAblkFQgghsqqd3MydOxcTJkzA8ePHVRlPvUE1N0RZ+Hw+Xrx4AT6fD19fX3h5eVFTFCGEVKHayU1ZzYSPj4/KgtFs5deW4lNyQ95J2d8bj8eDtrY2Bg8ejKKiIjRu3FjNkRFCSN2nUJ8b+rZYfdQsRWqqsLAQ0dHRsLGxgbe3NwDA0tJSzVERQojmUCi5adGixVsTnMzMzHcKSFOVXxWcgZqlSM08efIEUVFRyMrKwt27d9GuXTuaaZgQQhSkUHIzd+7cCjMUk4p4tLYUURBjDOfOncORI0cglUphamqKwYMHU2JDCCE1oFByM3ToUDRq1EhVsWi2N0ZLUc0Nqa6CggLs3r0bd+7cAQC4ubkhKCiogS9ESwghNVft5Ib621SN0SR+pAYkEgnWrFmDzMxMCAQCBAQEoGPHjvT3Rggh70Dh0VKkGmi0FKkmgUCA999/H+fOnUNoaCisra3VHRIhhGi8aic3tH7NWzDZXym5IZXJz89HXl4eNwKqY8eO8PDwgLa2tpojI4SQ+kHh5ReIfNQsRarj4cOH2LFjB7S0tDB+/Hjo6Ohwc9kQQghRDkpulIYm8SOVY4zh9OnTOHHiBBhjsLCwQH5+PnUaJoQQFaDkRkWo5oaUyc3Nxa5du3D//n0AQNu2bdGnTx8IhUI1R0YIIfUTJTdKQpP4EXlSUlKwc+dO5ObmQltbG3369IGHh4e6wyKEkHqNkhtleWMwGdXcEAA4d+4ccnNzYWlpidDQUFpGgRBCagElNyrBo5obAgAYMGAAYmNj0aNHD+o0TAghtYRuwUojW3VDyU3DlJycjMOHD3OP9fT00KtXL0psCCGkFlHNjZLI9LlhtLZUQyOVSnH8+HHExsYCAOzt7eHq6qrmqAghpGGi5EYlqFmqIcnJycGOHTuQmpoKAOjQoQOaN2+u5qgIIaThouRGRajmpmG4e/cudu3ahYKCAgiFQvTv3x+tWrVSd1iEENKgUXKjJIzJNktRzU39d/r0aRw7dgwAYGNjg8GDB8PMzEzNURFCCKHkRgV41CzVINjY2AAAOnXqBH9/f2hp0Z8TIYTUBfRprDTla26oWaq+ysvLg76+PgCgefPm+PTTT2nuGkIIqWOofkFJ3lw4k2pu6heJRIKDBw9i2bJlePXqFVdOiQ0hhNQ9dAtWAQYaCl6fvHr1CuvWrUN8fDwKCwtx9+5ddYdECCGkCtQspSzlKm6oz039cfPmTURHR6OoqAi6uroYMGAAXFxc1B0WIYSQKlByoySM+tzUKyUlJTh8+DAuXLgAoHRSvpCQEBgbG6s5MkIIIW9DyY3S0FDw+iQ+Pp5LbLp06YIePXpAQBkrIYRoBEpuVICapTSfp6cnHjx4gE6dOsHZ2Vnd4RBCCFEA3YJVgIGapTRNcXExzp49C6lUCgDQ0tLCBx98QIkNIYRoIKq5UZLyMxQDAI+npkCIwjIyMrB9+3Y8f/4chYWF6Nmzp7pDIoQQ8g4ouVEBHviU3GiIq1evYt++fSguLoa+vj4cHR3VHRIhhJB3RMmN0vxXc0OJTd0nFotx4MABJCQkAACaNm2K4OBgGBgYqDcwQggh74ySGyV5o1WK1GEvXrzA9u3b8eLFC/B4PPj4+MDb2xt86gVOCCH1AiU3SvNfdsPnU9VNXcYYw6tXr2BgYICQkBBqiiKEkHqGkhuVoOSmrpFKpVzNTKNGjRAWFgYbGxtuEcyGTCKRoLi4WN1hEEIIhEKhUmrRKblREia7/gKpQ9LT07Fz507069cPDg4OAEpX9G7oGGNIT09HVlaWukMhhBAAAJ/PR9OmTSEUCt/pOJTcqAB1KK4bGGO4dOkSDh48CIlEgpiYGPzf//0fePQPBABcYtOoUSPo6enRdSGEqJVUKsXTp0+RlpYGBweHd/pMouRGacqNlqK5EdWuqKgI//zzD27cuAEAcHZ2xsCBA+kG/i+JRMIlNubm5uoOhxBCAACWlpZ4+vQpSkpKoK2tXePjUHKjAnT/VK+0tDRERUUhMzMTfD4fvr6+8PLyosSmnLI+Nnp6emqOhBBC/lPWHCWRSCi5qQvKz1BMt1D1ef78OdauXQuJRAJjY2OEhITA3t5e3WHVWZTwEULqEmV9JlFyowI8GgquNpaWlmjRogWkUikGDBgAXV1ddYdECCGkltWJziHLly+Ho6MjdHR04OnpifPnz1e67erVq+Ht7Q1TU1OYmprCz8+vyu3Vg5Kb2vT06VMUFhYCKM36Bw0ahLCwMEpsCCknPz8fISEhMDIyAo/Hq9VRcqNHj8bAgQNr7XzKMnLkSISHh6s7jHrj4MGD8PDw4BYoViW1JzeRkZGYOnUq5syZg8uXL6Nt27YICAjA8+fP5W5/4sQJDBs2DMePH0dcXBzs7e3Rq1cvPHnypJYjl1W+WYomuq0djDHExcVh7dq12Lt3L/dvoK2tTc0t9djo0aPB4/HA4/Ggra2Npk2bYvr06VyCW97evXvh4+MDQ0ND6Onp4b333kNERITc4+7YsQPdu3eHsbExDAwM4O7ujh9++AGZmZkqfkW1Y8OGDTh9+jTOnj2LtLQ0GBsbqzukWnPixAm0b98eIpEIzZs3r/Q9UN7Vq1exf/9+fP755xWe27p1KwQCASZOnFjhuYiICJiYmMg9Jo/Hw+7du2XK1PG++/nnn9G5c2fo6elVGuubGGOYPXs2bGxsoKurCz8/P9y9e1dmm8zMTHzwwQcwMjKCiYkJxo4di9zcXO75wMBAaGtrY/Pmzcp8OXKp/Ta8cOFCfPTRRxgzZgzc3NywcuVK6OnpYd26dXK337x5Mz799FN4eHigZcuWWLNmDaRSKY4ePVrLkVeFbqyqVlBQgMjISBw+fBhSqRSMMUgkEnWHRWpJYGAg0tLScP/+fSxatAirVq3CnDlzZLZZunQpBgwYgC5duiA+Ph7Xrl3D0KFDMWHCBEybNk1m22+//RZhYWF47733cODAASQmJmLBggW4evUq/vrrr1p7XWKxWGXHTk5OhqurK1q3bg1ra+safQGQSCS18q1bmVJSUtC3b1/06NEDCQkJ+OKLLzBu3DgcOnSoyv2WLl2K0NBQuevNrV27FtOnT8fWrVvlJtXVpa73nVgsRmhoKD755JNq7/Prr79iyZIlWLlyJeLj46Gvr4+AgACZ1//BBx/gxo0biImJwd69e3Hq1CmMHz9e5jijR4/GkiVLlPZaKsXUqKioiAkEArZr1y6Z8g8//JD179+/WsfIyclhOjo67J9//qnW9tnZ2QwAy87OVjTcKv24oy/D92D4Hmzgh18q9dhEVmpqKlu4cCH7/vvv2Y8//sjOnz/PpFKpusPSKAUFBezmzZusoKBA3aEobNSoUWzAgAEyZcHBwaxdu3bc49TUVKatrc2mTp1aYf8lS5YwAOzcuXOMMcbi4+MZALZ48WK553v16lWlsTx69IgNHTqUmZqaMj09PdahQwfuuPLinDx5MvPx8eEe+/j4sIkTJ7LJkyczc3Nz1r17dzZs2DA2ZMgQmf3EYjEzNzdnGzZsYIwxJpFIWHh4OHN0dGQ6OjrM3d2dbd++vdI4fXx8GErnq2AAuBgyMzPZyJEjmYmJCdPV1WWBgYHszp073H7r169nxsbGbM+ePczV1ZUJBAKWkpIi9xyJiYmsb9++zNDQkBkYGLCuXbuye/fuyb0WBw4cYF26dGHGxsbMzMyM9e3bl9uWsdJ7w8SJE5m1tTUTiUTMwcGBhYeHM8YYk0qlbM6cOcze3p4JhUJmY2PDPvvss0pf+/Tp01mrVq1kysLCwlhAQECl+5SUlDBjY2O2d+/eCs/dv3+f6erqsqysLObp6ck2b94s83zZNZMHAHe/e5f3nbJUFWt5UqmUWVtbs/nz53NlWVlZTCQSsa1btzLGGLt58yYDwC5cuMBtc+DAAcbj8diTJ0+4socPHzIAMv/e5VX12aTI/VutNTcZGRmQSCSwsrKSKbeyskJ6enq1jvH111/D1tYWfn5+cp8vKipCTk6OzI8qlF84k6f2+rD6iTGGM2fOYP369cjJyYGZmRnGjh2L9957j5qhGrDExEScPXtWZkbTqKgoFBcXV6ihAYCPP/4YBgYG2Lp1K4DS2mADAwN8+umnco9fWbV9bm4ufHx88OTJE0RHR+Pq1auYPn26wjUbGzZsgFAoxJkzZ7By5Up88MEH+Oeff2Sq8w8dOoT8/HwMGjQIADBv3jxs3LgRK1euxI0bNzBlyhSMGDECJ0+elHuOnTt34qOPPoKXlxfS0tKwc+dOAKXfoi9evIjo6GjExcWBMYY+ffrILMeRn5+PX375BWvWrMGNGzfQqFGjCsd/8uQJunXrBpFIhGPHjuHSpUv4v//7P5SUlMiNJy8vD1OnTsXFixdx9OhR8Pl8DBo0iLt2S5YsQXR0NP7++28kJSVh8+bN3BpwO3bs4Grr7t69i927d6NNmzaVXt+4uLgK94eAgADExcVVus+1a9eQnZ2Njh07Vnhu/fr16Nu3L4yNjTFixAisXbu20uNUpabvOwBo1aoVDAwMKv3p3bt3jWKqTEpKCtLT02Wuo7GxMTw9PbnrGBcXBxMTE5lr5ufnBz6fj/j4eK7MwcEBVlZWOH36tFJjfJNGj5b63//+h23btuHEiRPQ0dGRu828efMwd+7cWoim/FBwutGqQmFhIeLj48EYQ+vWrdGvXz+IRCJ1h1WvdOwIVPN7hVJZWwMXL1Z/+71798LAwAAlJSUoKioCn8/HsmXLuOfv3LkDY2Nj2NjYVNhXKBTCyckJd+7cAQDcvXsXTk5OCs+psWXLFrx48QIXLlyAmZkZgJot6+Hs7Ixff/2Ve9ysWTPo6+tj165dGDlyJHeu/v37w9DQEEVFRQgPD8eRI0fg5eUFAHByckJsbCxWrVoFHx+fCucwMzODnp4ehEIhrK2tudcdHR2NM2fOoHPnzgBKb7j29vbYvXs3QkNDAZTOibRixQq0bdu20tewfPlyGBsbY9u2bdx1bNGiRaXbh4SEyDxet24dLC0tcfPmTbRu3RqpqalwdnZG165dwePx0KRJE27b1NRUWFtbw8/PD9ra2nBwcECnTp0qPVd6errcL9A5OTkoKCiQO/Dg4cOHEAgEFRI5qVSKiIgILF26FAAwdOhQfPnll0hJSUHTpk0rjUGemr7vAGD//v1Vrgen7MEUZZUNVVVEpKenV7heWlpaMDMzq1BZYWtri4cPHyo1xjepNbmxsLCAQCDAs2fPZMqfPXvG/QFW5rfffsP//vc/HDlyBO7u7pVuN2PGDEydOpV7nJOTo/J5T6jmRjV0dXUREhKCjIwMtG/fnmprVCA9HVBz3/xq6dGjB/744w/k5eVh0aJF0NLSqnDDrC5WvtpVAQkJCWjXrh2X2NRUhw4dZB5raWlhyJAh2Lx5M0aOHIm8vDzs2bMH27ZtAwDcu3cP+fn58Pf3l9lPLBajXbt21T7vrVu3oKWlBU9PT67M3NwcLi4uuHXrFlcmFAqr/IwFSq+Ft7d3tW/Ud+/exezZsxEfH4+MjAyuxiY1NRWtW7fG6NGj4e/vDxcXFwQGBqJfv37o1asXACA0NBSLFy+Gk5MTAgMD0adPHwQFBUFLS3m3s4KCAohEogqfMTExMcjLy0OfPn0AlN7D/P39sW7dOvz4448KnaOm7zsAMsmeJtLV1UV+fr5Kz6HW5EYoFKJDhw44evQoN0ywrHPwpEmTKt3v119/xc8//4xDhw7JrTYsTyQS1cq3e0Y1N0rHGMPp06dhYmLCfbg2adJE4/+w67K3fKeoM+fV19fnaknWrVuHtm3bYu3atRg7diyA0lqD7OxsPH36FLa2tjL7isViJCcno0ePHty2sbGxKC4uVuhb9Nu+HfP5/Ao3MHnftuWtTP/BBx/Ax8cHz58/R0xMDHR1dREYGAgAXHPVvn37YGdnJ7OfKj7rdHV13/pFQtGagqCgIDRp0gSrV6+Gra0tpFIpWrduzXWobt++PVJSUnDgwAEcOXIEQ4YMgZ+fH6KiomBvb4+kpCQcOXIEMTEx+PTTTzF//nycPHlS7r+ftbW13C/QRkZGlcZtYWGB/Px8iMVimebOtWvXIjMzU2Y/qVSKa9euYe7cueDz+TAyMkJeXh6kUqnM6tZlQ+/LRqnV9H0HlDZLVVXz4e3tjQMHDih0zKqUVTY8e/ZMpjb02bNn8PDw4LZ5c5RzSUkJMjMzK1RWZGZmwtLSUmnxyaP2ZqmpU6di1KhR6NixIzp16oTFixcjLy8PY8aMAQB8+OGHsLOzw7x58wAAv/zyC2bPno0tW7bA0dGRq+4qa2tUn3LJDdXcvLPc3Fzs2rUL9+/fh7a2NhwdHWFkZKTusOo9RZqG6go+n4+ZM2di6tSpGD58OFfD9/XXX2PBggVYsGCBzPYrV65EXl4ehg0bBgAYPnw4lixZghUrVmDy5MkVjp+VlSW3/4O7uzvWrFmDzMxMubU3lpaWSExMlClLSEio1o2sc+fOsLe3R2RkJA4cOIDQ0FBuPzc3N4hEIqSmpsptgqouV1dXlJSUID4+nmuWevnyJZKSkuDm5qbQsdzd3bFhw4Zq3ajLzlE2ZxkAxMbGVtjOyMgIYWFhCAsLw+DBgxEYGMhda11dXQQFBSEoKAgTJ05Ey5Ytcf36dbRv377Ccby8vLB//36ZspiYGK5JT56yG/bNmze531++fMnVoLVq1YrbViKRoGvXrjh8+DACAwPh4uKCkpISJCQkyMRz+fJlAP8119X0fQfUfrNU06ZNYW1tjaNHj3LXIycnB/Hx8dyIKy8vL2RlZeHSpUtcbeSxY8cglUplagcLCwuRnJysUC1jjby1y3EtWLp0KXNwcGBCoZB16tSJG23AWGkv/1GjRnGPmzRpItPrv+xnzpw51TqXqkZLzY0K5EZLDRk3XanHbmju37/PfvvtN/b999+zn376iV2+fJlGQylZfRstVVxczOzs7GRGcyxatIjx+Xw2c+ZMduvWLXbv3j22YMECJhKJ2Jdfyo5onD59OhMIBOyrr75iZ8+eZQ8ePGBHjhxhgwcPrnQ0S1FREWvRogXz9vZmsbGxLDk5mUVFRbGzZ88yxhg7ePAg4/F4bMOGDezOnTts9uzZzMjIqMJoqcmTJ8s9/rfffsvc3NyYlpYWO336dIXnzM3NWUREBLt37x67dOkSW7JkCYuIiKj0ur05UosxxgYMGMDc3NzY6dOnWUJCAgsMDGTNmzdnYrGYMVb90TQZGRnM3NycBQcHswsXLrA7d+6wjRs3stu3bzPGZP/NJBIJMzc3ZyNGjGB3795lR48eZe+9957MSKIFCxawLVu2sFu3brGkpCQ2duxYZm1tzSQSCVu/fj1bs2YNu379OktOTmazZs1iurq6LCMjQ25s9+/fZ3p6euyrr75it27dYsuXL2cCgYAdPHiwytfUvn17tnTpUu7xokWLmI2NjdzPoiFDhrDBgwdzj3v16sXatm3Ljhw5wu7fv88OHDjAXFxcWFhYmMx+NXnfKcPDhw/ZlStX2Ny5c5mBgQG7cuUKu3LlCnv9+jW3jYuLC9u5cyf3+H//+x8zMTFhe/bsYdeuXWMDBgxgTZs2lfkMCQwMZO3atWPx8fEsNjaWOTs7s2HDhsmc+/jx48zAwIDl5eXJjU1Zo6XqRHJTm2ojuQn7iJKbmpBIJOz48eNs7ty57Pvvv2fLly9nz58/V3dY9VJ9S24YY2zevHnM0tKS5ebmcmV79uxh3t7eTF9fn+no6LAOHTqwdevWyT1uZGQk69atGzM0NGT6+vrM3d2d/fDDD1UOyX3w4AELCQlhRkZGTE9Pj3Xs2JHFx8dzz8+ePZtZWVkxY2NjNmXKFDZp0qRqJzdlQ2ubNGlS4YYqlUrZ4sWLmYuLC9PW1maWlpYsICCAnTx5stJY5SU3ZUPBjY2Nma6uLgsICJA7FLw6rl69ynr16sX09PSYoaEh8/b2ZsnJyYyxiv9mMTExzNXVlYlEIubu7s5OnDghk9z8+eefzMPDg+nr6zMjIyPm6+vLLl++zBhjbNeuXczT05MZGRkxfX199v7777MjR45UGdvx48eZh4cHEwqFzMnJia1fv/6tr2fFihXs/fff5x63adOGffrpp3K3jYyMZEKhkL148YIxVjqM+/PPP2fNmjVjurq6zNnZmU2fPl0meSi/r6Lvu3c1atQouZUEx48f57YBIHOdpFIp++6775iVlRUTiUTM19eXJSUlyRz35cuXbNiwYczAwIAZGRmxMWPGVHjN48ePZx9//HGlsSkrueH9+yIajJycHBgbGyM7O1upzRxzowLx/Y3SSaHCnn6Nbav+p7RjNwRSqRSbNm1CSkoKAKBdu3bo3bv3O60KSypXWFjIjfCobKQhIQ1ZQUEBXFxcEBkZWWUTFqm+jIwMuLi44OLFi5WOLqvqs0mR+7fa+9zUF+UzRFo3U3F8Ph+2trZ4/Pgx+vXr99bRGYQQokq6urrYuHEjMjIy1B1KvfHgwQOsWLFC4WHzNUHJjZLITOJHQ5SrRSqVoqCggBst0qNHD7Rv3/6dh9YSQogydO/eXd0h1CsdO3Z86whnZaFxPUrCpOVGS1Fy81Y5OTnYsGEDtmzZwq0JJRAIKLEhhBDyzqjmRklk5rmh3KZKd+/exa5du1BQUAChUIjnz5/LnUmWEEIIqQlKbpSEmqXeTiKR4NixYzh79iwAwMbGBoMHD6baGkIIIUpFyY2SNLBBZwrLysrCjh078PjxYwBAp06d4O/vr9Qp0wkhhBCAkhulkRktxaeuTG/6559/8PjxY4hEIgwYMACurq7qDokQQkg9RcmNksg0S6kvjDqrb9++2LdvH/r16wdTU1N1h0MIIaQeoyoGJSnfLEVrSwGvXr3i1lIBADMzM4wcOZISG0IIISpHt2Elke1QrL446oKbN29i1apV+Oeff3D//n11h0MIAZCfn4+QkBAYGRmBx+Nxq1TXhtGjR2PgwIG1dj5l+e677zB+/Hh1h1Fv3Lx5E40bN0ZeXp7Kz0XJjbLINEs1zMtaUlKC/fv3Y/v27SgqKkLjxo1pJBRRutGjR4PH44HH40FbWxtNmzbF9OnTUVhYWGHbvXv3wsfHB4aGhtDT08N7772HiIgIucfdsWMHunfvDmNjYxgYGMDd3R0//PADMjMzVfyKaseGDRtw+vRpnD17FmlpaTA2NlZ3SLUiLS0Nw4cPR4sWLcDn8/HFF19Ua7/09HT8/vvv+Pbbbys8FxcXB4FAgL59+1Z47sSJE5Umj46Ojli8eLFM2fHjx9GnTx+Ym5tDT08Pbm5u+PLLL/HkyZNqxVkTf/75J7p3765wort8+XI4OjpCR0cHnp6eOH/+vMzzhYWFmDhxIszNzWFgYICQkBA8e/aMe97NzQ3vv/8+Fi5cqMyXI1fDvAurgMw8Nw3wqmZmZmLt2rW4cOECAKBz584YPXo0TExM1BsYqZcCAwORlpaG+/fvY9GiRVi1ahXmzJkjs83SpUsxYMAAdOnSBfHx8bh27RqGDh2KCRMmYNq0aTLbfvvttwgLC8N7772HAwcOIDExEQsWLMDVq1fx119/1drrEovFKjt2cnIyXF1d0bp1a1hbW9doygqJRAKpVKqC6FSnqKgIlpaWmDVrFtq2bVvt/dasWYPOnTujSZMmFZ5bu3YtPvvsM5w6dQpPnz6tcWyrVq2Cn58frK2tsWPHDty8eRMrV65EdnY2FixYUOPjvk1+fj4CAwMxc+bMau8TGRmJqVOnYs6cObh8+TLatm2LgIAAPH/+nNtmypQp+Oeff7B9+3acPHkST58+RXBwsMxxxowZgz/++AMlJSVKez1yvXVpzXpGVauCf7mhB7cq+Edfzlbqseu6xMREFh4ezr7//nv2yy+/yKwqTOqm+rYqeHBwMGvXrh33ODU1lWlra7OpU6dW2H/JkiUMADt37hxjjLH4+HgGgC1evFju+apanfnRo0ds6NChzNTUlOnp6bEOHTpwx5UX55src/v4+LCJEyeyyZMnM3Nzc9a9e3c2bNgwNmTIEJn9xGIxMzc3Zxs2bGCMMSaRSFh4eDhzdHRkOjo6zN3dnW3fvr3SOH18fGRWfy6LoWxVcBMTE6arq8sCAwPlrgq+Z88e5urqygQCAUtJSZF7jsTERNa3b19maGjIDAwMWNeuXdm9e/fkXosDBw6wLl26MGNjY2ZmZsb69u3LbcsYY0VFRWzixInM2tqaiUQi5uDgwMLDwxljpatTz5kzh9nb2zOhUMhsbGzYZ599Vulrf/M6VLYK+5tatWrFli1bVqH89evXzMDAgN2+fZuFhYWxn3/+Web548ePMwBy3zdNmjRhixYtYoyVvneEQiH74osv5J5flauCl6kq1jd16tSJTZw4kXsskUiYra0tmzdvHmOMsaysLKatrS3zPrx16xYDwOLi4riyoqIiJhKJKl3JXVmrgtNoKWUp1yzFb2BVN2KxGGKxGA4ODlybPtFQBzsCBem1f15dayDwYo12TUxMxNmzZ2W+YUdFRaG4uLhCDQ0AfPzxx5g5cya2bt0KT09PbN68GQYGBvj000/lHr+y2sfc3Fz4+PjAzs4O0dHRsLa2xuXLlxWu2diwYQM++eQTnDlzBgBw7949hIaGIjc3FwYGBgCAQ4cOIT8/H4MGDQIAzJs3D5s2bcLKlSvh7OyMU6dOYcSIEbC0tISPj0+Fc+zcuRPffPMNEhMTsXPnTgiFQgClTXx3795FdHQ0jIyM8PXXX6NPnz64efMmtLW1AZR+y//ll1+wZs0amJubo1GjRhWO/+TJE3Tr1g3du3fHsWPHYGRkhDNnzlT67TwvLw9Tp06Fu7s7cnNzMXv2bAwaNAgJCQng8/lYsmQJoqOj8ffff8PBwQGPHj3Co0ePAJQ2Hy5atAjbtm1Dq1atkJ6ejqtXryp0zd8mMzMTN2/elLsO0t9//42WLVvCxcUFI0aMwBdffIEZM2YoXBO2fft2iMViTJ8+Xe7zVdV69+7dG6dPn670+SZNmuDGjRsKxVMVsViMS5cuYcaMGVwZn8+Hn58f4uLiAACXLl1CcXEx/Pz8uG1atmwJBwcHxMXF4f333wcACIVCeHh44PTp0/D19VVajG+i5EZZGliHYqlUys3n4+HhAaFQCFdXV5rjR9MVpAMFqmvrV5a9e/fCwMAAJSUlKCoqAp/Px7Jly7jn79y5A2NjY7nLegiFQjg5OeHOnTsASpcDcXJy4m7m1bVlyxa8ePECFy5c4PqWNW/eXOHX4uzsjF9//ZV73KxZM+jr62PXrl0YOXIkd67+/fvD0NAQRUVFCA8Px5EjR+Dl5QUAcHJyQmxsLFatWiU3uTEzM4Oenh6EQiGsra251x0dHY0zZ86gc+fOAIDNmzfD3t4eu3fvRmhoKACguLgYK1asqLJJZ/ny5TA2Nsa2bdu469iiRYtKtw8JCZF5vG7dOlhaWuLmzZto3bo1UlNT4ezsjK5du4LH48kkrqmpqbC2toafnx+0tbXh4OCATp06VX6BayA1NRWMMdja2lZ4bu3atRgxYgSA0ubR7OxsnDx5UuFFNu/evQsjI6MaLT2zZs0aFBQUVPq8ou/lt8nIyIBEIoGVlZVMuZWVFW7fvg2gtI+SUCiskJRZWVkhPV32C5OtrS0ePnyo1BjfRMmNkkgb0HCpq1evIjY2FmPGjIGenh54PB5atWql7rCIMuhaa8R5e/TogT/++AN5eXlYtGgRtLS0Ktwwq4vVcHbxhIQEtGvX7p07zXfo0EHmsZaWFoYMGYLNmzdj5MiRyMvLw549e7Bt2zYApTU7+fn58Pf3l9lPLBajXbt21T7vrVu3oKWlBU9PT67M3NwcLi4uuHXrFlcmFArh7u5e5bESEhLg7e1d7Zvq3bt3MXv2bMTHxyMjI4Or7UpNTUXr1q0xevRo+Pv7w8XFBYGBgejXrx969eoFAAgNDcXixYvh5OSEwMBA9OnTB0FBQUqd7bwscdDR0ZEpT0pKwvnz57Fr1y4Apf9WYWFhWLt2rcLJDWOsxkv12NnZ1Wi/ukJXVxf5+fkqPQclNyrAr6e5jVgsxoEDB5CQkAAAiI+PR48ePdQbFFGuGjYN1TZ9fX2ulmTdunVo27Yt1q5di7FjxwIorTXIzs7G06dPK3z7FovFSE5O5t67LVq0QGxsLIqLixX6xqurq1vl83w+v0LiVFxcLPe1vOmDDz6Aj48Pnj9/jpiYGOjq6iIwMBBAaXMYAOzbt6/CTU4kElU7/urS1dV96034bdfiTUFBQWjSpAlWr14NW1tbSKVStG7dmutQ3b59e6SkpODAgQM4cuQIhgwZAj8/P0RFRcHe3h5JSUk4cuQIYmJi8Omnn2L+/Pk4efKk0mosLCwsAJTO12VpacmVr127FiUlJTLvKcYYRCIRli1bBmNjY65ZPjs7u0ItRlZWFjdKrew9mpaWpnDtTW03S1lYWEAgEMiMfAKAZ8+ecTWB1tbWEIvFyMrKknnd5bcpk5mZiWbNmiktPnmoDUFJZD7D6mHNzfPnz7FmzRousfHx8ZFb/U1IbePz+Zg5cyZmzZrFfeMOCQmBtra23BEnK1euRF5eHoYNGwYAGD58OHJzc7FixQq5x69smKy7uzsSEhIqHSpuaWmJtLQ0mbKyv5+36dy5M+zt7REZGYnNmzcjNDSUu3G7ublBJBIhNTUVzZs3l/mxt7ev1vEBwNXVFSUlJYiPj+fKXr58iaSkJLi5uVX7OEDptTh9+rTc5O1NZeeYNWsWfH194erqilevXlXYzsjICGFhYVi9ejUiIyOxY8cO7lrr6uoiKCgIS5YswYkTJxAXF4fr168rFHNVmjVrBiMjI9y8eZMrKykpwcaNG7FgwQIkJCRwP1evXoWtrS22bt0KoLSZkc/n49KlSzLHvH//PrKzs7nmusGDB0MoFMo0SZZX1fDsss/iyn7279//jldAllAoRIcOHXD06FGuTCqV4ujRo1zTaIcOHaCtrS2zTVJSElJTU7ltyiQmJipUy1gTVHOjJOWbpQT1KGVkjHF/LCUlJTAwMEBwcDCaNm2q7tAI4YSGhuKrr77C8uXLMW3aNDg4OODXX3/Fl19+CR0dHYwcORLa2trYs2cPZs6ciS+//JJrjvH09MT06dO5uUUGDRoEW1tb3Lt3DytXrkTXrl0xefLkCuccNmwYwsPDMXDgQMybNw82Nja4cuUKbG1t4eXlhZ49e2L+/PnYuHEjvLy8sGnTJoU+1IcPH46VK1fizp07OH78OFduaGiIadOmYcqUKZBKpejatSuys7Nx5swZGBkZYdSoUdU6vrOzMwYMGICPPvoIq1atgqGhIb755hvY2dlhwIAB1TpGmUmTJmHp0qUYOnQoZsyYAWNjY5w7dw6dOnWCi4uLzLampqYwNzfHn3/+CRsbG6SmpuKbb76R2WbhwoWwsbFBu3btwOfzsX37dlhbW8PExAQRERGQSCTw9PSEnp4eNm3aBF1dXblDtsuUJZW5ubl48eIFEhISIBQKK03iyjrLxsbGcpMP7t27F69evcLYsWMrzBEUEhKCtWvXYsKECTA0NMS4cePw5ZdfQktLC23atMGjR4/w9ddf4/333+f6N9nb22PRokWYNGkScnJy8OGHH8LR0RGPHz/Gxo0bYWBgUOlw8HdtlkpPT0d6ejru3bsHALh+/ToMDQ3h4ODANbP6+vpi0KBBmDRpEgBg6tSpGDVqFDp27IhOnTph8eLFyMvLw5gxYwAAxsbGGDt2LKZOnQozMzMYGRnhs88+g5eXF9eZGAAePHiAJ0+eyHQ8Vom3jqeqZ1Q1FPzz1T7cUPDPZv6o1GOrU3x8PPv+++/Z999/zzZu3Mhev36t7pCIEtS3oeCMMTZv3jxmaWnJcnNzubI9e/Ywb29vpq+vz3R0dFiHDh3YunXr5B43MjKSdevWjRkaGjJ9fX3m7u7OfvjhhyqHyT548ICFhIQwIyMjpqenxzp27Mji4+O552fPns2srKyYsbExmzJlCps0aVKFoeCVDU2+efMmA8CaNGnCpFKpzHNSqZQtXryYubi4MG1tbWZpackCAgLYyZMnK431zWHojP03FNzY2Jjp6uqygIAAuUPBq+Pq1ausV69eTE9PjxkaGjJvb2+WnJzMGKv4bxYTE8NcXV2ZSCRi7u7u7MSJEwwA27VrF2OMsT///JN5eHgwfX19ZmRkxHx9fdnly5cZY4zt2rWLeXp6MiMjI6avr8/ef//9SocVl0G5YfBlP02aNKlyn/379zM7OzsmkUgYY4z169eP9enTR+62ZdMJXL16lTFW+vc1Z84c1rJlS6arq8uaNm3Kxo8fz168eFFh35iYGBYQEMBMTU2Zjo4Oa9myJZs2bRp7+vRplfG9izlz5si9JuvXr+e2adKkCZszZ47MfkuXLmUODg5MKBSyTp06cdMelCkoKGCffvopNzXCoEGDWFpamsw24eHhLCAgoNLYlDUUnMdYDXvTaaicnBwYGxsjOztbqUOWP1/jg6VPTgEAJpf8hMU/VpzVUhMVFhZi9erV8PDw4EYuEM1XWFiIlJQUNG3atEKnSUJIaa21p6cnpkyZwjVhkncjFovh7OyMLVu2oEuXLnK3qeqzSZH7dz1qQFEv2T43agvjnTHGkJyczHWE1NHRwSeffAJvb29KbAghDQaPx8Off/6p+pl0G5DU1FTMnDmz0sRGmajPjZKUrwDT1CSgqKgIe/fuRWJiIvr168cNUVXmEEtCCNEUHh4e8PDwUHcY9UZZx/faQHctFeBr4FjwtLQ0REVFITMzE3w+v1qjHgghhJC6iJIbJZGZw099YSiMMYYLFy7g8OHDkEgkMDY2RkhIiEJDSgkhhJC6hJIbJSm/KrimrEBQWFiI6OhobjZSFxcXDBgwQOEJuQghhJC6hJIbJZGtudGM7ObZs2e4ffs2+Hw+/P394enpqbH9hQghhJAylNwoS/kOxQI1xqGAJk2aoHfv3rC1tdX4tUoIIYSQMppRxaABpDI1N3Wz9qOgoAA7duxARkYGV/bee+9RYkMIIaReoZobpSnX56YONu08evQIO3bsQHZ2NjIzMzFu3DhqgiKEEFIvUc2Nksj0ualDV5UxhjNnziAiIgLZ2dkwNTVFv379KLEhpIHJz89HSEgIjIyMwOPxqlyYUdlGjx7NrdGkSUaOHInw8HB1h1Fv3Lx5E40bN0ZeXp7Kz1WHbsOarS5O4pefn4+tW7fiyJEjkEqlaNWqFT7++GPY2NioOzRCamz06NHg8Xjg8XjQ1tZG06ZNMX36dBQWFlbYdu/evfDx8YGhoSH09PTw3nvvISIiQu5xd+zYge7du8PY2BgGBgZwd3fHDz/8UOmq35pmw4YNOH36NM6ePYu0tLQKiz/WVzt37oS/vz8sLS1hZGQELy8vHDp06K37Xb16Ffv378fnn39e4bmtW7dCIBBg4sSJFZ6LiIiAiYmJ3GPyeDzs3r1bpkwd77vMzEx88MEHMDIygomJCcaOHYvc3Nwq90lOTsagQYO46zhkyBA8e/ZMZpvLly/D398fJiYmMDc3x/jx42WO6+bmhvfffx8LFy5Uyesqj5IbFagLk/hlZmZi5cqVuHv3LrS0tNCvXz+EhIRAJBKpOzRC3llgYCDS0tJw//59LFq0CKtWrcKcOXNktlm6dCkGDBiALl26ID4+HteuXcPQoUMxYcIETJs2TWbbb7/9FmFhYXjvvfdw4MABJCYmYsGCBbh69Sr++uuvWntdYrFYZcdOTk6Gq6srWrduDWtr6xp9CZNIJJBKpSqITnVOnToFf39/7N+/H5cuXUKPHj0QFBSEK1euVLnf0qVLERoaCgMDgwrPrV27FtOnT8fWrVvlJtXVpa733QcffIAbN24gJiYGe/fuxalTpzB+/PhKt8/Ly0OvXr3A4/Fw7NgxnDlzBmKxGEFBQdz74enTp/Dz80Pz5s0RHx+PgwcP4saNGxg9erTMscaMGYM//vhD9ctavHVpzXpGVauCj13ixa0KPue335R67JooKSlha9euZUuXLmXp6enqDofUMfVtVfDg4GDWrl077nFqairT1tZmU6dOrbD/kiVLGABuReOyFZ0XL14s93xVrQr+6NEjNnToUG4V5A4dOnDHlRfnmytz+/j4sIkTJ7LJkyczc3Nz1r17dzZs2DA2ZMgQmf3EYjEzNzdnGzZsYIwxJpFIWHh4OHN0dGQ6OjrM3d2dbd++vdI4fXx8ZFZ/LouhbFVwExMTpqurywIDA+WuCr5nzx7m6urKBAIBS0lJkXuOxMRE1rdvX2ZoaMgMDAxY165d2b179+ReiwMHDrAuXbowY2NjZmZmxvr27cttyxhjRUVFbOLEicza2pqJRCLm4ODAwsPDGWOlK6LPmTOH2dvbM6FQyGxsbNhnn31W6WuXx83Njc2dO7fS50tKSpixsTHbu3dvhefu37/PdHV1WVZWFvP09GSbN2+Web6qldRRbuXzd3nfvYuy1eYvXLjAlR04cIDxeDz25MkTufscOnSI8fl8mftmVlYW4/F4LCYmhjHG2KpVq1ijRo24VdQZY+zatWsMALt79y5XVlRUxEQiUaUruStrVXDqUKwC6mqVysvLg46ODgQCAQQCAUJDQyESiSAUCtUTENE4Hf/siPTc9Fo/r7WBNS6Ov1ijfRMTE3H27Fk0adKEK4uKikJxcXGFGhoA+PjjjzFz5kxs3boVnp6e2Lx5MwwMDPDpp5/KPX5lTQy5ubnw8fGBnZ0doqOjYW1tjcuXLytcs7FhwwZ88sknOHPmDADg3r17CA0NRW5uLldrcOjQIeTn52PQoEEAgHnz5mHTpk1YuXIlnJ2dcerUKYwYMQKWlpbw8fGpcI6dO3fim2++QWJiInbu3Ml9JowePRp3795FdHQ0jIyM8PXXX6NPnz64efMmtLW1AZQ2b//yyy9Ys2YNzM3N0ahRowrHf/LkCbp164bu3bvj2LFjMDIywpkzZyr9dp6Xl4epU6fC3d0dubm5mD17NgYNGoSEhATw+XwsWbIE0dHR+Pvvv+Hg4IBHjx7h0aNHAEqbcRYtWoRt27ahVatWSE9Px9WrV6t9vaVSKV6/fg0zM7NKt7l27Rqys7PRsWPHCs+tX78effv2hbGxMUaMGIG1a9di+PDh1T5/mZq+7wCgVatWePjwYaXPe3t748CBA3Kfi4uLg4mJicxr8/PzA5/PR3x8PPceK6+oqAg8Hk+m5l9HRwd8Ph+xsbHw8/NDUVERhEIh+OVmsS2bEDY2NpZbU0ooFMLDwwOnT5+Gr69vpa/hXVFyoyRSVn6G4trPblJSUrBz5060adMGvXr1AgAYGhrWehxEs6XnpuPJ6yfqDuOt9u7dCwMDA5SUlKCoqAh8Ph/Lli3jnr9z5w6MjY3l9i8TCoVwcnLCnTt3AAB3796Fk5MTdzOvri1btuDFixe4cOECd6OsyaKAzs7O+PXXX7nHzZo1g76+Pnbt2oWRI0dy5+rfvz8MDQ1RVFSE8PBwHDlyBF5eXgAAJycnxMbGYtWqVXKTGzMzM+jp6UEoFMLa2pp73dHR0Thz5gw6d+4MoPSGa29vj927dyM0NBQAUFxcjBUrVqBt27aVvobly5fD2NgY27Zt465jixYtKt0+JCRE5vG6detgaWmJmzdvonXr1khNTYWzszO6du0KHo8nk7impqbC2toafn5+0NbWhoODAzp16lT5BX7Db7/9htzcXAwZMqTSbR4+fAiBQFAhkZNKpYiIiMDSpUsBAEOHDsWXX36JlJQUNG3atNoxADV/3wHA/v37q1z/r6pZ5tPT0yu8Li0tLZiZmSE9Xf4Xm/fffx/6+vr4+uuvER4eDsYYvvnmG0gkEqSlpQEAevbsialTp2L+/PmYPHky8vLy8M033wAAt00ZW1vbKpMzZaDkRgVqc54bqVSKU6dO4dSpU2CM4d69e+jRo0eN/mAIsTaw1ojz9ujRA3/88Qfy8vKwaNEiaGlpVbhhVhcrP9RRAQkJCWjXrl2VNQDV0aFDB5nHWlpaGDJkCDZv3oyRI0ciLy8Pe/bswbZt2wCU1uzk5+fD399fZj+xWIx27dpV+7y3bt2ClpYWPD09uTJzc3O4uLhwS7IApcmgu7t7lcdKSEiAt7d3tT937t69i9mzZyM+Ph4ZGRlcbVdqaipat26N0aNHw9/fHy4uLggMDES/fv24L22hoaFYvHgxnJycEBgYiD59+iAoKAhaWm+/nW3ZsgVz587Fnj175NZAlSkoKIBIJKrQLykmJgZ5eXno06cPAMDCwgL+/v5Yt24dfvzxx2q99jI1fd8BkEn2aoOlpSW2b9+OTz75BEuWLAGfz8ewYcPQvn17rqamVatW2LBhA6ZOnYoZM2ZAIBDg888/h5WVlUxtDlCafOXn56s0ZkpulKXc+7S2am5ev36NXbt2ISUlBQDg4eGBPn36UGJDaqymTUO1TV9fn6slWbduHdq2bYu1a9di7NixAEprDbKzs/H06VPY2trK7CsWi5GcnIwePXpw28bGxqK4uFihv523rcHG5/Mr3MDkfdvW19evUPbBBx/Ax8cHz58/R0xMDHR1dREYGAgA3OiTffv2VZiAUxUDBnR1dd/a+VjR9eiCgoLQpEkTrF69Gra2tpBKpWjdujXXobp9+/ZISUnBgQMHcOTIEQwZMgR+fn6IioqCvb09kpKScOTIEcTExODTTz/F/PnzcfLkySr//bZt24Zx48Zh+/bt8PPzqzI+CwsL5OfnQywWyzTrr127FpmZmTKvVyqV4tq1a5g7dy74fD6MjIyQl5cHqVQqc1MvG3pfNkqtpu874N2apaytrfH8+XOZspKSEmRmZnK1evL06tULycnJyMjIgJaWFkxMTGBtbQ0nJydum+HDh2P48OF49uwZ9PX1wePxsHDhQpltgNIBL82aNavOS60xGi2lJOWbpWrjqiYnJ2PVqlVISUmBtrY2Bg4ciAEDBlBiQxocPp+PmTNnYtasWSgoKABQ2uyhra2NBQsWVNh+5cqVyMvLw7BhwwCUfiDn5uZixYoVco9f2Xww7u7uSEhIqHTIrqWlZYXq+ISEhGq9ps6dO8Pe3h6RkZHYvHkzQkNDub9tNzc3iEQipKamonnz5jI/9vb21To+ALi6uqKkpATx8fFc2cuXL5GUlAQ3N7dqHwcovRanT5+usqnkzXPMmjULvr6+cHV1xatXrypsZ2RkhLCwMKxevRqRkZHYsWMHd611dXURFBSEJUuW4MSJE4iLi8P169crPefWrVsxZswYbN26FX379n1rjB4eHgBK52UpH3dZDVpCQgL3c+XKFbx69QqHDx8GULoAcUlJSYV/68uXLwP4r7mupu87oLRZqnwMb/6sWbOm0n29vLyQlZWFS5cucWXHjh2DVCqVqcWrjIWFBUxMTHDs2DE8f/4c/fv3r7CNlZUVDAwMEBkZCR0dnQq1jImJiQrVMtbIW7sc1zOqGi01alEnbrTU/5bJ7/2uLAUFBWzevHns+++/ZytWrGAvXrxQ6flI/VPfRksVFxczOzs7Nn/+fK5s0aJFjM/ns5kzZ7Jbt26xe/fusQULFjCRSMS+/PJLmf2nT5/OBAIB++qrr9jZs2fZgwcP2JEjR9jgwYMrHc1SVFTEWrRowby9vVlsbCxLTk5mUVFR7OzZs4wxxg4ePMh4PB7bsGEDu3PnDps9ezYzMjKqMFpq8uTJco//7bffMjc3N6alpcVOnz5d4Tlzc3MWERHB7t27xy5dusSWLFnCIiIiKr1ub47UYoyxAQMGMDc3N3b69GmWkJDAAgMDWfPmzZlYLGaMVT3yp7yMjAxmbm7OgoOD2YULF9idO3fYxo0b2e3btxljsv9mEomEmZubsxEjRrC7d++yo0ePsvfee09mJNGCBQvYli1b2K1bt1hSUhIbO3Yss7a2ZhKJhK1fv56tWbOGXb9+nSUnJ7NZs2YxXV1dlpGRITe2zZs3My0tLbZ8+XKWlpbG/WRlZVX5mtq3b8+WLl3KPV60aBGzsbFhUqm0wrZDhgxhgwcP5h736tWLtW3blh05coTdv3+fHThwgLm4uLCwsDCZ/WryvlOGwMBA1q5dOxYfH89iY2OZs7MzGzZsGPf848ePmYuLC4uPj+fK1q1bx+Li4ti9e/fYX3/9xczMzCqMRly6dCm7dOkSS0pKYsuWLWO6urrs999/l9kmJSWF8Xg89uDBA7mxKWu0FCU3SvJh+eRm+e9v3+EdXb9+nUVHR3MfQoQoor4lN4wxNm/ePGZpaclyc3O5sj179jBvb2+mr6/PdHR0WIcOHdi6devkHjcyMpJ169aNGRoaMn19febu7s5++OGHKofkPnjwgIWEhDAjIyOmp6fHOnbsKHNDmD17NrOysmLGxsZsypQpbNKkSdVObsqG7DZp0qTCDVUqlbLFixczFxcXpq2tzSwtLVlAQAA7efJkpbHKS27KhoIbGxszXV1dFhAQIHcoeHVcvXqV9erVi+np6TFDQ0Pm7e3NkpOTGWMV/81iYmKYq6srE4lEzN3dnZ04cUImufnzzz+Zh4cH09fXZ0ZGRszX15ddvnyZMcbYrl27mKenJzMyMmL6+vrs/fffr3RYMWMVh8GX/YwaNarK17NixQr2/vvvc4/btGnDPv30U7nbRkZGMqFQyH3RfPXqFfv8889Zs2bNmK6uLnN2dmbTp09nr1+/lruvou+7d/Xy5Us2bNgwZmBgwIyMjNiYMWNkYktJSWEA2PHjx7myr7/+mllZWTFtbW3m7OzMFixYUOF9OXLkSGZmZsaEQiFzd3dnGzdurHDu8PBwFhAQUGlsykpueIy9Q68mDZSTkwNjY2NkZ2fDyMhIacf9cFEn/JVzAQDwa6Pf8dUnFWe1fBdlk/Ep2iOfEHkKCwu5ER46OjrqDoeQOqegoAAuLi6IjIzkRqWRdyMWi+Hs7IwtW7agS5cucrep6rNJkfs3dShWFhV1KJZIJDh27BjOnj0LfX19TJgwQe6MmYQQQpRHV1cXGzduREZGhrpDqTdSU1Mxc+bMShMbZaLkRknKV38pa+HM7OxsREVF4fHjxwBKOxLSt2xCCKkd3bt3V3cI9UpZx/faQMmNkpRv3eMrYYripKQk7N69G4WFhRCJROjfv7/CIxgIIYSQhoiSGyWR6bj0DrmNVCpFTEwMzp07B6B0JsfBgwfD1NT0neIjhBBCGgpKbpSlXM2NgF/zdikej4e8vDwAgKenJ/z9/SEQCN45PEIIIaShoORGBWrSKlU2myWPx0Pfvn3Rpk0bODs7Kz84QgghpJ6jGYqVpPyAekU6FJeUlGD//v34+++/uX47IpGIEhtCCCGkhqjmRknK97nhVzO7yczMRFRUFDdFe2pqaq0viEYIIYTUN1Rzoywyo6XevnliYiJWrVqFtLQ06OrqYtiwYZTYEKIBeDwedu/ere4wCCFVoORGSWTmuRFUnt0UFxdj79692LFjB8RiMRwcHDBhwgRuMTVCSNVGjx4NHo8HHo8HbW1tNG3aFNOnT0dhYaG6Q1O59PR0TJ48Gc2bN4eOjg6srKzQpUsX/PHHH8jPz1d3eITUGdQspSzVrLnZsWMHkpKSAABdu3ZFjx49wH+H0VWENESBgYFYv349iouLcenSJYwaNQo8Hg+//PKLukNTmfv376NLly4wMTFBeHg42rRpA5FIhOvXr+PPP/+EnZ2d3BWaCWmI6K6qJDI1N1UMl+ratSsMDQ0xYsQI+Pr6UmJDSA2IRCJYW1vD3t4eAwcOhJ+fH2JiYrjnX758iWHDhsHOzg56enpo06YNtm7dKnOM7t274/PPP8f06dNhZmYGa2trfP/99zLb3L17F926dYOOjg7c3NxkzlHm+vXr6NmzJ3R1dWFubo7x48cjNzeXe3706NEYOHAgwsPDYWVlBRMTE/zwww8oKSnBV199BTMzMzRu3Bjr16+v8jV/+umn0NLSwsWLFzFkyBC4urrCyckJAwYMwL59+xAUFAQAePDgAXg8HhISErh9s7KywOPxcOLECa4sMTERvXv3hoGBAaysrDBy5EiZpQaioqLQpk0b7nX5+flx01ScOHECnTp1gr6+PkxMTNClSxc8fPiwyvgJqU10Z1USmRmKy13V4uJiPHjwgHvcuHFjfP7552jWrFktRkdI9YnF4kp/SkpKqr1tcXFxtbZ9V4mJiTh79iyEQiFXVlhYiA4dOmDfvn1ITEzE+PHjMXLkSJw/f15m3w0bNkBfXx/x8fH49ddf8cMPP3AJjFQqRXBwMIRCIeLj47Fy5Up8/fXXMvvn5eUhICAApqamuHDhArZv344jR45g0qRJMtsdO3YMT58+xalTp7Bw4ULMmTMH/fr1g6mpKeLj4zFhwgR8/PHH3FIrb3r58iUOHz6MiRMnQl9fX+42VX2pelNWVhZ69uyJdu3a4eLFizh48CCePXuGIUOGAADS0tIwbNgw/N///R9u3bqFEydOIDg4GIwxlJSUYODAgfDx8cG1a9cQFxeH8ePHK3R+QlSNmqVUoGy01IsXL7B9+3a8evUK48aNg5WVFQBAS4suO6m75s2bV+lzzs7OGD58OPf4t99+q5DElGnSpAlGjx7NPf7999/l9guZM2eOwjHu3bsXBgYGKCkpQVFREfh8PpYtW8Y9b2dnh2nTpnGPP/vsMxw6dAh///03OnXqxJW7u7tz53d2dsayZctw9OhR+Pv748iRI7h9+zYOHToEW1tbAEB4eDh69+7N7b9lyxYUFhZi48aNXNKxbNkyBAUF4ZdffuH+5s3MzLBkyRLw+Xy4uLjg119/RX5+PmbOnAkAmDFjBv73v/8hNjYWQ4cOrfB67927B8YYXFxcZMotLCy4vkYTJ06sdrPcsmXL0K5dO4SHh3Nl69atg729Pe7cuYPc3FyUlJQgODiYG+jQpk0bAKWjPLOzs9GvXz/uS5qrq2u1zktIbakTNTfLly+Ho6MjdHR04OnpWeHb1Zu2b9+Oli1bQkdHB23atMH+/ftrKdIqyLRLAVeuXMGff/6JFy9eQEdHB0VFRWoLjZD6pkePHkhISEB8fDxGjRqFMWPGICQkhHteIpHgxx9/RJs2bWBmZgYDAwMcOnQIqampMsdxd3eXeWxjY4Pnz58DAG7dugV7e3susQEALy8vme1v3bqFtm3bytSmdOnSBVKplOtbBwCtWrWSaYK2srLikgUAEAgEMDc3585dXefPn0dCQgJatWql0GfM1atXcfz4cRgYGHA/LVu2BAAkJyejbdu28PX1RZs2bRAaGorVq1fj1atXAEoTtdGjRyMgIABBQUH4/fffueksCKkr1F6FEBkZialTp2LlypXw9PTE4sWLERAQgKSkJDRq1KjC9mfPnsWwYcMwb9489OvXD1u2bMHAgQNx+fJltG7dWg2voFRZbiOEEBlPXiE6MRoA4OTkhEGDBsHAwEBtsRGiiBkzZlT63Jt9xMrXjrzpzWaKyZMnv1tg5ejr63OrC69btw5t27bF2rVrMXbsWADA/Pnz8fvvv2Px4sVo06YN9PX18cUXX1RoBtPW1q4Qs1QqVVqcVZ1HkXM3b94cPB5PJmECSj9fAEBXV5crK/s3Kt9U/mbtWm5uLle79CYbGxsIBALExMTg7NmzOHz4MJYuXYpvv/0W8fHxaNq0KdavX4/PP/8cBw8eRGRkJGbNmoWYmBi8//77b7sUhNQKtdfcLFy4EB999BHGjBkDNzc3rFy5Enp6eli3bp3c7X///XcEBgbiq6++gqurK3788Ue0b99epkpaHRgYrGCFj/ARcl/lg8fjoUePHhgxYgQlNkSjCIXCSn/ebFKtats3b96Vbfeu+Hw+Zs6ciVmzZqGgoAAAcObMGQwYMAAjRoxA27Zt4eTkhDt37ih0XFdXVzx69EimVqJsQdvy21y9epXraFt27rLmJ2UxNzeHv78/li1bJnMueSwtLQFAJu7ynYsBoH379rhx4wYcHR3RvHlzmZ+yWigej4cuXbpg7ty5uHLlCoRCIXbt2sUdo127dpgxYwbOnj2L1q1bY8uWLUp6tYS8O7UmN2KxGJcuXYKfnx9Xxufz4efnh7i4OLn7xMXFyWwPAAEBAZVuX1RUhJycHJkflWCAC1xgCUsItAUYNWoUunXrRp3sCKkFoaGhEAgEWL58OYDS/jNlNQ+3bt3Cxx9/jGfPnil0TD8/P7Ro0QKjRo3C1atXcfr0aXz77bcy23zwwQfQ0dHBqFGjkJiYiOPHj+Ozzz7DyJEjuf42yrJixQqUlJSgY8eOiIyMxK1bt5CUlIRNmzbh9u3b3AK7urq6eP/99/G///0Pt27dwsmTJzFr1iyZY02cOBGZmZkYNmwYLly4gOTkZBw6dAhjxoyBRCJBfHw8wsPDcfHiRaSmpmLnzp148eIFXF1dkZKSghkzZiAuLg4PHz7E4cOHcffuXep3Q+oUtSY3GRkZkEgkFT4ErKyskJ6eLnef9PR0hbafN28ejI2NuR97e3vlBP8GBuA0TuMkTsLRzZpmGyakFmlpaWHSpEn49ddfkZeXh1mzZqF9+/YICAhA9+7dYW1tjYEDByp0TD6fj127dqGgoACdOnXCuHHj8PPPP8tso6enh0OHDiEzMxPvvfceBg8eDF9fX5XUJDdr1gxXrlyBn58fZsyYgbZt26Jjx45YunQppk2bhh9//JHbdt26dSgpKUGHDh3wxRdf4KeffpI5lq2tLc6cOQOJRIJevXqhTZs2+OKLL2BiYgI+nw8jIyOcOnUKffr0QYsWLTBr1iwsWLAAvXv3hp6eHm7fvo2QkBC0aNEC48ePx8SJE/Hxxx8r/TUTUlM8Vr5htpY9ffoUdnZ2OHv2rExHvenTp+PkyZOIj4+vsI9QKMSGDRswbNgwrmzFihWYO3eu3G9mRUVFMh3tcnJyYG9vj+zsbBgZGSnttew9ugO3Hl0CkwJD/D+Co31TpR2bEGUrLCxESkoKmjZtCh0dHXWHQwghAKr+bMrJyYGxsXG17t9q7VBsYWEBgUBQISl59uwZrK2t5e5jbW2t0PYikQgikUg5AVehn28I+iHk7RsSQgghRKXU2iwlFArRoUMHHD16lCuTSqU4evRohSGXZby8vGS2B4CYmJhKtyeEEEJIw6L2oeBTp07FqFGj0LFjR3Tq1AmLFy9GXl4exowZAwD48MMPYWdnx00sNnnyZPj4+GDBggXo27cvtm3bhosXL+LPP/9U58sghBBCSB2h9uQmLCwML168wOzZs5Geng4PDw8cPHiQ6zScmpoqM7dG586dsWXLFsyaNQszZ86Es7Mzdu/erdY5bgghhBBSd6i1Q7E6KNIhiZD6ijoUE0LqImV1KFb7JH6EEPVpYN9tCCF1nLI+kyi5IaQBKps9WN5CloQQoi5lS6SUTUpZU2rvc0MIqX0CgQAmJibcQo16eno0mzYhRK2kUilevHgBPT29Cku9KIqSG0IaqLK5oRRdiZoQQlSFz+fDwcHhnb9sUXJDSAPF4/FgY2ODRo0aVVg1mhBC1EEoFMqMkK4pSm4IaeAEAsE7t28TQkhdQh2KCSGEEFKvUHJDCCGEkHqFkhtCCCGE1CsNrs9N2QRBOTk5ao6EEEIIIdVVdt+uzkR/DS65ef36NQDA3t5ezZEQQgghRFGvX7+GsbFxlds0uLWlpFIpnj59CkNDQ6VPWpaTkwN7e3s8evSI1q1SIbrOtYOuc+2g61x76FrXDlVdZ8YYXr9+DVtb27cOF29wNTd8Ph+NGzdW6TmMjIzoD6cW0HWuHXSdawdd59pD17p2qOI6v63Gpgx1KCaEEEJIvULJDSGEEELqFUpulEgkEmHOnDkQiUTqDqVeo+tcO+g61w66zrWHrnXtqAvXucF1KCaEEEJI/UY1N4QQQgipVyi5IYQQQki9QskNIYQQQuoVSm4IIYQQUq9QcqOg5cuXw9HRETo6OvD09MT58+er3H779u1o2bIldHR00KZNG+zfv7+WItVsilzn1atXw9vbG6ampjA1NYWfn99b/11IKUXfz2W2bdsGHo+HgQMHqjbAekLR65yVlYWJEyfCxsYGIpEILVq0oM+OalD0Oi9evBguLi7Q1dWFvb09pkyZgsLCwlqKVjOdOnUKQUFBsLW1BY/Hw+7du9+6z4kTJ9C+fXuIRCI0b94cERERKo8TjFTbtm3bmFAoZOvWrWM3btxgH330ETMxMWHPnj2Tu/2ZM2eYQCBgv/76K7t58yabNWsW09bWZtevX6/lyDWLotd5+PDhbPny5ezKlSvs1q1bbPTo0czY2Jg9fvy4liPXLIpe5zIpKSnMzs6OeXt7swEDBtROsBpM0etcVFTEOnbsyPr06cNiY2NZSkoKO3HiBEtISKjlyDWLotd58+bNTCQSsc2bN7OUlBR26NAhZmNjw6ZMmVLLkWuW/fv3s2+//Zbt3LmTAWC7du2qcvv79+8zPT09NnXqVHbz5k22dOlSJhAI2MGDB1UaJyU3CujUqRObOHEi91gikTBbW1s2b948udsPGTKE9e3bV6bM09OTffzxxyqNU9Mpep3fVFJSwgwNDdmGDRtUFWK9UJPrXFJSwjp37szWrFnDRo0aRclNNSh6nf/44w/m5OTExGJxbYVYLyh6nSdOnMh69uwpUzZ16lTWpUsXlcZZn1QnuZk+fTpr1aqVTFlYWBgLCAhQYWSMUbNUNYnFYly6dAl+fn5cGZ/Ph5+fH+Li4uTuExf3/+3de1CU1RsH8C8L7qV1V4YI2JX1AgY5phKoDWhD3gJLJW9oMnhDKRFxajQZbwsaSKU06miKJagxgjqaTigkKjOAv1KBhUZwkZvWCDqmA6IgsPv8/mh4f61cEhL4sTyfmfePPe85Z5/3EdnH8571/Y9JfwDw8fFpsz/rXJ6f9/TpUzQ2NsLGxqarwuz1OpvnrVu3ws7ODkFBQd0RZq/XmTyfPXsWnp6eWLVqFezt7fHmm28iOjoaBoOhu8LudTqTZy8vL+Tk5Ai3rsrKynDu3Dm8//773RJzX9FTn4N97sGZnfXgwQMYDAbY29ubtNvb2+PmzZutjqmqqmq1f1VVVZfF2dt1Js/PW79+PdRqdYu/UOx/OpPnrKwsfP/999DpdN0QoXnoTJ7Lyspw6dIlBAQE4Ny5cygpKUFISAgaGxuh1Wq7I+xepzN5XrhwIR48eIAJEyaAiNDU1IRPPvkEGzZs6I6Q+4y2PgdrampQV1cHmUzWJe/LKzfMrMTExCApKQmnT5+GVCrt6XDMxuPHjxEYGIiDBw/C1ta2p8Mxa0ajEXZ2doiLi4OHhwfmz5+PjRs3Yv/+/T0dmlnJyMhAdHQ09u3bh9zcXJw6dQopKSnYtm1bT4fGXgJeuXlBtra2sLS0xL1790za7927BwcHh1bHODg4dKg/61yem+3YsQMxMTFIT0/HqFGjujLMXq+jeS4tLUVFRQVmzJghtBmNRgCAlZUV9Ho9nJ2duzboXqgzP88qlQr9+vWDpaWl0DZ8+HBUVVWhoaEBYrG4S2PujTqT582bNyMwMBDLly8HAIwcORJPnjxBcHAwNm7cCJGI/+3/MrT1OahUKrts1QbglZsXJhaL4eHhgYsXLwptRqMRFy9ehKenZ6tjPD09TfoDwIULF9rszzqXZwD46quvsG3bNqSmpmLMmDHdEWqv1tE8v/HGG/jtt9+g0+mEY+bMmZg4cSJ0Oh00Gk13ht9rdObnefz48SgpKRGKRwAoLi6GSqXiwqYNncnz06dPWxQwzQUl8SMXX5oe+xzs0u3KZiYpKYkkEgklJCRQYWEhBQcHk7W1NVVVVRERUWBgIIWHhwv9s7OzycrKinbs2EFFRUWk1Wr5q+AvoKN5jomJIbFYTCdPnqTKykrhePz4cU9dQq/Q0Tw/j78t9WI6muc7d+6QQqGg0NBQ0uv19NNPP5GdnR198cUXPXUJvUJH86zVakmhUNCxY8eorKyMfv75Z3J2diZ/f/+euoRe4fHjx5SXl0d5eXkEgGJjYykvL49u375NRETh4eEUGBgo9G/+Kvi6deuoqKiI9u7dy18F/3+0Z88eGjRoEInFYho3bhz98ssvwjlvb29avHixSf/jx4+Ti4sLicViGjFiBKWkpHRzxL1TR/I8ePBgAtDi0Gq13R94L9PRn+e/4+LmxXU0z1euXKG3336bJBIJOTk5UVRUFDU1NXVz1L1PR/Lc2NhIERER5OzsTFKplDQaDYWEhNCjR4+6P/Be5PLly63+vm3O7eLFi8nb27vFGDc3NxKLxeTk5ETx8fFdHqcFEa+/McYYY8x88J4bxhhjjJkVLm4YY4wxZla4uGGMMcaYWeHihjHGGGNmhYsbxhhjjJkVLm4YY4wxZla4uGGMMcaYWeHihjFmIiEhAdbW1j0dRqdZWFjgxx9/bLfPkiVL8OGHH3ZLPIyx7sfFDWNmaMmSJbCwsGhxlJSU9HRoSEhIEOIRiURwdHTE0qVLcf/+/Zcyf2VlJaZNmwYAqKiogIWFBXQ6nUmfXbt2ISEh4aW8X1siIiKE67S0tIRGo0FwcDAePnzYoXm4EGOs4/ip4IyZKV9fX8THx5u0vfbaaz0UjSmlUgm9Xg+j0Yj8/HwsXboUd+/eRVpa2r+e+5+eHg8AAwYM+Nfv8yJGjBiB9PR0GAwGFBUVYdmyZaiurkZycnK3vD9jfRWv3DBmpiQSCRwcHEwOS0tLxMbGYuTIkZDL5dBoNAgJCUFtbW2b8+Tn52PixIlQKBRQKpXw8PDA9evXhfNZWVl45513IJPJoNFoEBYWhidPnrQbm4WFBRwcHKBWqzFt2jSEhYUhPT0ddXV1MBqN2Lp1KxwdHSGRSODm5obU1FRhbENDA0JDQ6FSqSCVSjF48GBs377dZO7m21JDhw4FALz11luwsLDAu+++C8B0NSQuLg5qtdrkKdwA4Ofnh2XLlgmvz5w5A3d3d0ilUjg5OSEyMhJNTU3tXqeVlRUcHBwwcOBATJkyBfPmzcOFCxeE8waDAUFBQRg6dChkMhlcXV2xa9cu4XxERAQOHz6MM2fOCKtAGRkZAIDff/8d/v7+sLa2ho2NDfz8/FBRUdFuPIz1FVzcMNbHiEQi7N69Gzdu3MDhw4dx6dIlfP755232DwgIgKOjI65du4acnByEh4ejX79+AIDS0lL4+vpizpw5KCgoQHJyMrKyshAaGtqhmGQyGYxGI5qamrBr1y7s3LkTO3bsQEFBAXx8fDBz5kzcunULALB7926cPXsWx48fh16vR2JiIoYMGdLqvFevXgUApKeno7KyEqdOnWrRZ968efjzzz9x+fJloe3hw4dITU1FQEAAACAzMxOLFi3CmjVrUFhYiAMHDiAhIQFRUVEvfI0VFRVIS0uDWCwW2oxGIxwdHXHixAkUFhZiy5Yt2LBhA44fPw4AWLt2Lfz9/eHr64vKykpUVlbCy8sLjY2N8PHxgUKhQGZmJrKzs9G/f3/4+vqioaHhhWNizGx1+aM5GWPdbvHixWRpaUlyuVw45s6d22rfEydO0Kuvviq8jo+PpwEDBgivFQoFJSQktDo2KCiIgoODTdoyMzNJJBJRXV1dq2Oen7+4uJhcXFxozJgxRESkVqspKirKZMzYsWMpJCSEiIhWr15NkyZNIqPR2Or8AOj06dNERFReXk4AKC8vz6TP80809/Pzo2XLlgmvDxw4QGq1mgwGAxERTZ48maKjo03mOHr0KKlUqlZjICLSarUkEolILpeTVCoVnp4cGxvb5hgiolWrVtGcOXPajLX5vV1dXU1y8OzZM5LJZJSWltbu/Iz1BbznhjEzNXHiRHz77bfCa7lcDuCvVYzt27fj5s2bqKmpQVNTE+rr6/H06VO88sorLeb57LPPsHz5chw9elS4teLs7Azgr1tWBQUFSExMFPoTEYxGI8rLyzF8+PBWY6uurkb//v1hNBpRX1+PCRMm4LvvvkNNTQ3u3r2L8ePHm/QfP3488vPzAfx1S2nq1KlwdXWFr68vpk+fjvfee+9f5SogIAArVqzAvn37IJFIkJiYiAULFkAkEgnXmZ2dbbJSYzAY2s0bALi6uuLs2bOor6/HDz/8AJ1Oh9WrV5v02bt3Lw4dOoQ7d+6grq4ODQ0NcHNzazfe/Px8lJSUQKFQmLTX19ejtLS0ExlgzLxwccOYmZLL5Rg2bJhJW0VFBaZPn46VK1ciKioKNjY2yMrKQlBQEBoaGlr9kI6IiMDChQuRkpKC8+fPQ6vVIikpCbNmzUJtbS0+/vhjhIWFtRg3aNCgNmNTKBTIzc2FSCSCSqWCTCYDANTU1Pzjdbm7u6O8vBznz59Heno6/P39MWXKFJw8efIfx7ZlxowZICKkpKRg7NixyMzMxDfffCOcr62tRWRkJGbPnt1irFQqbXNesVgs/BnExMTggw8+QGRkJLZt2wYASEpKwtq1a7Fz5054enpCoVDg66+/xq+//tpuvLW1tfDw8DApKpv9v2waZ6wncXHDWB+Sk5MDo9GInTt3CqsSzfs72uPi4gIXFxd8+umn+OijjxAfH49Zs2bB3d0dhYWFLYqofyISiVodo1QqoVarkZ2dDW9vb6E9Ozsb48aNM+k3f/58zJ8/H3PnzoWvry8ePnwIGxsbk/ma97cYDIZ245FKpZg9ezYSExNRUlICV1dXuLu7C+fd3d2h1+s7fJ3P27RpEyZNmoSVK1cK1+nl5YWQkBChz/MrL2KxuEX87u7uSE5Ohp2dHZRK5b+KiTFzxBuKGetDhg0bhsbGRuzZswdlZWU4evQo9u/f32b/uro6hIaGIiMjA7dv30Z2djauXbsm3G5av349rly5gtDQUOh0Oty6dQtnzpzp8Ibiv1u3bh2+/PJLJCcnQ6/XIzw8HDqdDmvWrAEAxMbG4tixY7h58yaKi4tx4sQJODg4tPofD9rZ2UEmkyE1NRX37t1DdXV1m+8bEBCAlJQUHDp0SNhI3GzLli04cuQIIiMjcePGDRQVFSEpKQmbNm3q0LV5enpi1KhRiI6OBgC8/vrruH79OtLS0lBcXIzNmzfj2rVrJmOGDBmCgoIC6PV6PHjwAI2NjQgICICtrS38/PyQmZmJ8vJyZGRkICwsDH/88UeHYmLMLPX0ph/G2MvX2ibUZrGxsaRSqUgmk5GPjw8dOXKEANCjR4+IyHTD77Nnz2jBggWk0WhILBaTWq2m0NBQk83CV69epalTp1L//v1JLpfTqFGjWmwI/rvnNxQ/z2AwUEREBA0cOJD69etHo0ePpvPnzwvn4+LiyM3NjeRyOSmVSpo8eTLl5uYK5/G3DcVERAcPHiSNRkMikYi8vb3bzI/BYCCVSkUAqLS0tEVcqamp5OXlRTKZjJRKJY0bN47i4uLavA6tVkujR49u0X7s2DGSSCR0584dqq+vpyVLltCAAQPI2tqaVq5cSeHh4Sbj7t+/L+QXAF2+fJmIiCorK2nRokVka2tLEomEnJycaMWKFVRdXd1mTIz1FRZERD1bXjHGGGOMvTx8W4oxxhhjZoWLG8YYY4yZFS5uGGOMMWZWuLhhjDHGmFnh4oYxxhhjZoWLG8YYY4yZFS5uGGOMMWZWuLhhjDHGmFnh4oYxxhhjZoWLG8YYY4yZFS5uGGOMMWZWuLhhjDHGmFn5L+EIbt2ZZQH+AAAAAElFTkSuQmCC",
>>>>>>> 5a963263c59307331e3870ac37275b68a94a2957
      "text/plain": [
       "<Figure size 640x480 with 1 Axes>"
      ]
     },
     "metadata": {},
     "output_type": "display_data"
    }
   ],
   "source": [
    "y_pred_onehot = to_categorical(y_pred, num_classes=3)\n",
    "\n",
    "n_classes = 3\n",
<<<<<<< HEAD
    "fpr = {}\n",
    "tpr = {}\n",
    "roc_auc = {}\n",
=======
    "fpr, tpr, roc_auc = {}, {}, {}\n",
>>>>>>> 5a963263c59307331e3870ac37275b68a94a2957
    "\n",
    "# Calculate ROC for each class\n",
    "for i in range(n_classes):\n",
    "    fpr[i], tpr[i], _ = roc_curve(y_test_onehot[:, i], y_pred_onehot[:, i])\n",
    "    roc_auc[i] = auc(fpr[i], tpr[i])\n",
    "\n",
    "# Plot ROC curve for each class\n",
    "plt.figure()\n",
    "colors = ['blue', 'orange', 'green']\n",
    "for i in range(n_classes):\n",
    "    plt.plot(fpr[i], tpr[i], color=colors[i], lw=2,\n",
    "             label=f'ROC curve for class {i} (AUC = {roc_auc[i]:.2f})')\n",
    "\n",
    "plt.plot([0, 1], [0, 1], color='gray', linestyle='--', label='Random Guess')\n",
    "plt.xlabel('False Positive Rate')\n",
    "plt.ylabel('True Positive Rate')\n",
    "plt.title('ROC Curve')\n",
    "plt.legend(loc=\"lower right\")\n",
    "plt.show()"
   ]
  }
 ],
 "metadata": {
  "kaggle": {
   "accelerator": "none",
   "dataSources": [
    {
     "datasetId": 6202660,
     "sourceId": 10064695,
     "sourceType": "datasetVersion"
    }
   ],
   "dockerImageVersionId": 30786,
   "isGpuEnabled": false,
   "isInternetEnabled": false,
   "language": "python",
   "sourceType": "notebook"
  },
  "kernelspec": {
   "display_name": "Python 3",
   "language": "python",
   "name": "python3"
  },
  "language_info": {
   "codemirror_mode": {
    "name": "ipython",
    "version": 3
   },
   "file_extension": ".py",
   "mimetype": "text/x-python",
   "name": "python",
   "nbconvert_exporter": "python",
   "pygments_lexer": "ipython3",
   "version": "3.10.14"
  },
  "papermill": {
   "default_parameters": {},
<<<<<<< HEAD
   "duration": 2478.454135,
   "end_time": "2024-12-02T18:01:14.920318",
=======
   "duration": 1969.935612,
   "end_time": "2024-12-03T11:17:12.340461",
>>>>>>> 5a963263c59307331e3870ac37275b68a94a2957
   "environment_variables": {},
   "exception": null,
   "input_path": "__notebook__.ipynb",
   "output_path": "__notebook__.ipynb",
   "parameters": {},
<<<<<<< HEAD
   "start_time": "2024-12-02T17:19:56.466183",
=======
   "start_time": "2024-12-03T10:44:22.404849",
>>>>>>> 5a963263c59307331e3870ac37275b68a94a2957
   "version": "2.6.0"
  }
 },
 "nbformat": 4,
 "nbformat_minor": 5
}
