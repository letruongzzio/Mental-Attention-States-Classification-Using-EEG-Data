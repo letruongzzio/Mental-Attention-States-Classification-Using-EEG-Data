{
 "cells": [
  {
   "cell_type": "markdown",
   "id": "9f07b48b",
   "metadata": {
    "papermill": {
     "duration": 0.004659,
     "end_time": "2024-12-03T10:44:24.985412",
     "exception": false,
     "start_time": "2024-12-03T10:44:24.980753",
     "status": "completed"
    },
    "tags": []
   },
   "source": [
    "## Introduction\n",
    "This notebook builds an EEGNet model to classify states from EEG data. The process includes the steps: data input, normalization, model construction, training, and evaluation."
   ]
  },
  {
   "cell_type": "code",
   "execution_count": 1,
   "id": "f55023cb",
   "metadata": {
    "execution": {
     "iopub.execute_input": "2024-12-03T10:44:24.994663Z",
     "iopub.status.busy": "2024-12-03T10:44:24.994203Z",
     "iopub.status.idle": "2024-12-03T10:44:40.176013Z",
     "shell.execute_reply": "2024-12-03T10:44:40.175107Z"
    },
    "papermill": {
     "duration": 15.189201,
     "end_time": "2024-12-03T10:44:40.178533",
     "exception": false,
     "start_time": "2024-12-03T10:44:24.989332",
     "status": "completed"
    },
    "tags": []
   },
   "outputs": [],
   "source": [
    "import sys\n",
    "import pandas as pd\n",
    "import numpy as np\n",
    "import os\n",
    "import seaborn as sns\n",
    "import matplotlib.pyplot as plt\n",
    "import tensorflow as tf\n",
    "from sklearn.metrics import accuracy_score, classification_report, confusion_matrix, roc_curve, auc\n",
    "from sklearn.model_selection import train_test_split\n",
    "from sklearn.preprocessing import MinMaxScaler, LabelEncoder\n",
    "from tensorflow.keras.models import Model\n",
    "from tensorflow.keras.layers import Dense, Activation, Permute, Dropout\n",
    "from tensorflow.keras.layers import Conv2D, MaxPooling2D, AveragePooling2D\n",
    "from tensorflow.keras.layers import SeparableConv2D, DepthwiseConv2D\n",
    "from tensorflow.keras.layers import BatchNormalization\n",
    "from tensorflow.keras.layers import SpatialDropout2D\n",
    "from tensorflow.keras.regularizers import l1_l2\n",
    "from tensorflow.keras.layers import Input, Flatten\n",
    "from tensorflow.keras.constraints import max_norm\n",
    "from tensorflow.keras import backend as K\n",
    "from tensorflow.keras.utils import to_categorical\n",
    "from tensorflow.keras.optimizers import Adam"
   ]
  },
  {
   "cell_type": "markdown",
   "id": "bffd307f",
   "metadata": {
    "papermill": {
     "duration": 0.003626,
     "end_time": "2024-12-03T10:44:40.186332",
     "exception": false,
     "start_time": "2024-12-03T10:44:40.182706",
     "status": "completed"
    },
    "tags": []
   },
   "source": [
    "## Load dataset"
   ]
  },
  {
   "cell_type": "code",
   "execution_count": 2,
   "id": "9cf426c5",
   "metadata": {
    "execution": {
     "iopub.execute_input": "2024-12-03T10:44:40.196259Z",
     "iopub.status.busy": "2024-12-03T10:44:40.195166Z",
     "iopub.status.idle": "2024-12-03T10:45:02.197070Z",
     "shell.execute_reply": "2024-12-03T10:45:02.196004Z"
    },
    "papermill": {
     "duration": 22.009185,
     "end_time": "2024-12-03T10:45:02.199331",
     "exception": false,
     "start_time": "2024-12-03T10:44:40.190146",
     "status": "completed"
    },
    "tags": []
   },
   "outputs": [
    {
     "name": "stdout",
     "output_type": "stream",
     "text": [
      "Train shape: (155822, 204), Test shape: (38956, 204)\n"
     ]
    }
   ],
   "source": [
    "df_train = pd.read_csv('/kaggle/input/data-eeg/df_train.csv')\n",
    "df_test = pd.read_csv('/kaggle/input/data-eeg/df_test.csv')\n",
    "print(f\"Train shape: {df_train.shape}, Test shape: {df_test.shape}\")"
   ]
  },
  {
   "cell_type": "code",
   "execution_count": 3,
   "id": "ba8c61a0",
   "metadata": {
    "execution": {
     "iopub.execute_input": "2024-12-03T10:45:02.208903Z",
     "iopub.status.busy": "2024-12-03T10:45:02.208528Z",
     "iopub.status.idle": "2024-12-03T10:45:03.876881Z",
     "shell.execute_reply": "2024-12-03T10:45:03.875779Z"
    },
    "papermill": {
     "duration": 1.676059,
     "end_time": "2024-12-03T10:45:03.879419",
     "exception": false,
     "start_time": "2024-12-03T10:45:02.203360",
     "status": "completed"
    },
    "tags": []
   },
   "outputs": [
    {
     "data": {
      "text/html": [
       "<div>\n",
       "<style scoped>\n",
       "    .dataframe tbody tr th:only-of-type {\n",
       "        vertical-align: middle;\n",
       "    }\n",
       "\n",
       "    .dataframe tbody tr th {\n",
       "        vertical-align: top;\n",
       "    }\n",
       "\n",
       "    .dataframe thead th {\n",
       "        text-align: right;\n",
       "    }\n",
       "</style>\n",
       "<table border=\"1\" class=\"dataframe\">\n",
       "  <thead>\n",
       "    <tr style=\"text-align: right;\">\n",
       "      <th></th>\n",
       "      <th>ED_F3_spectral_entropy</th>\n",
       "      <th>ED_F3_peak_frequency</th>\n",
       "      <th>ED_F3_mean</th>\n",
       "      <th>ED_F3_std</th>\n",
       "      <th>ED_F3_median</th>\n",
       "      <th>ED_F3_min</th>\n",
       "      <th>ED_F3_max</th>\n",
       "      <th>ED_F3_skewness</th>\n",
       "      <th>ED_F3_kurtosis</th>\n",
       "      <th>ED_F3_power_delta</th>\n",
       "      <th>...</th>\n",
       "      <th>t_wavelet_d1_energy</th>\n",
       "      <th>t_wavelet_d2_energy</th>\n",
       "      <th>t_wavelet_d3_energy</th>\n",
       "      <th>t_wavelet_d4_energy</th>\n",
       "      <th>t_wavelet_d5_energy</th>\n",
       "      <th>t_wavelet_d1_relative_energy</th>\n",
       "      <th>t_wavelet_d2_relative_energy</th>\n",
       "      <th>t_wavelet_d3_relative_energy</th>\n",
       "      <th>t_wavelet_d4_relative_energy</th>\n",
       "      <th>t_wavelet_d5_relative_energy</th>\n",
       "    </tr>\n",
       "  </thead>\n",
       "  <tbody>\n",
       "    <tr>\n",
       "      <th>count</th>\n",
       "      <td>155822.000000</td>\n",
       "      <td>155822.000000</td>\n",
       "      <td>155822.000000</td>\n",
       "      <td>155822.000000</td>\n",
       "      <td>155822.000000</td>\n",
       "      <td>1.558220e+05</td>\n",
       "      <td>155822.000000</td>\n",
       "      <td>155822.000000</td>\n",
       "      <td>155822.000000</td>\n",
       "      <td>1.558220e+05</td>\n",
       "      <td>...</td>\n",
       "      <td>1.558220e+05</td>\n",
       "      <td>1.558220e+05</td>\n",
       "      <td>1.558220e+05</td>\n",
       "      <td>1.558220e+05</td>\n",
       "      <td>1.558220e+05</td>\n",
       "      <td>1.558220e+05</td>\n",
       "      <td>1.558220e+05</td>\n",
       "      <td>1.558220e+05</td>\n",
       "      <td>1.558220e+05</td>\n",
       "      <td>1.558220e+05</td>\n",
       "    </tr>\n",
       "    <tr>\n",
       "      <th>mean</th>\n",
       "      <td>4.424604</td>\n",
       "      <td>2.574344</td>\n",
       "      <td>0.000057</td>\n",
       "      <td>0.000089</td>\n",
       "      <td>0.000033</td>\n",
       "      <td>1.411458e-06</td>\n",
       "      <td>0.000653</td>\n",
       "      <td>3.383403</td>\n",
       "      <td>20.483380</td>\n",
       "      <td>9.564615e-06</td>\n",
       "      <td>...</td>\n",
       "      <td>4.419788e+02</td>\n",
       "      <td>8.129809e+01</td>\n",
       "      <td>4.032045e+01</td>\n",
       "      <td>4.126317e+00</td>\n",
       "      <td>1.284618e-02</td>\n",
       "      <td>7.784928e-01</td>\n",
       "      <td>1.431969e-01</td>\n",
       "      <td>7.101966e-02</td>\n",
       "      <td>7.268014e-03</td>\n",
       "      <td>2.262701e-05</td>\n",
       "    </tr>\n",
       "    <tr>\n",
       "      <th>std</th>\n",
       "      <td>0.936157</td>\n",
       "      <td>3.433634</td>\n",
       "      <td>0.000130</td>\n",
       "      <td>0.000269</td>\n",
       "      <td>0.000069</td>\n",
       "      <td>9.137619e-06</td>\n",
       "      <td>0.002073</td>\n",
       "      <td>1.671346</td>\n",
       "      <td>18.255142</td>\n",
       "      <td>5.237196e-04</td>\n",
       "      <td>...</td>\n",
       "      <td>5.196681e-09</td>\n",
       "      <td>1.416169e-09</td>\n",
       "      <td>6.590758e-10</td>\n",
       "      <td>1.268334e-10</td>\n",
       "      <td>2.476158e-12</td>\n",
       "      <td>3.059385e-12</td>\n",
       "      <td>2.637887e-12</td>\n",
       "      <td>1.225365e-12</td>\n",
       "      <td>2.304718e-13</td>\n",
       "      <td>4.371704e-15</td>\n",
       "    </tr>\n",
       "    <tr>\n",
       "      <th>min</th>\n",
       "      <td>0.362584</td>\n",
       "      <td>0.000000</td>\n",
       "      <td>0.000008</td>\n",
       "      <td>0.000008</td>\n",
       "      <td>0.000004</td>\n",
       "      <td>4.743901e-10</td>\n",
       "      <td>0.000034</td>\n",
       "      <td>-0.639453</td>\n",
       "      <td>1.474750</td>\n",
       "      <td>1.777156e-09</td>\n",
       "      <td>...</td>\n",
       "      <td>4.419788e+02</td>\n",
       "      <td>8.129809e+01</td>\n",
       "      <td>4.032045e+01</td>\n",
       "      <td>4.126317e+00</td>\n",
       "      <td>1.284618e-02</td>\n",
       "      <td>7.784928e-01</td>\n",
       "      <td>1.431969e-01</td>\n",
       "      <td>7.101966e-02</td>\n",
       "      <td>7.268014e-03</td>\n",
       "      <td>2.262701e-05</td>\n",
       "    </tr>\n",
       "    <tr>\n",
       "      <th>25%</th>\n",
       "      <td>4.092426</td>\n",
       "      <td>0.500000</td>\n",
       "      <td>0.000038</td>\n",
       "      <td>0.000044</td>\n",
       "      <td>0.000025</td>\n",
       "      <td>4.285321e-07</td>\n",
       "      <td>0.000267</td>\n",
       "      <td>2.263050</td>\n",
       "      <td>9.281461</td>\n",
       "      <td>1.471021e-07</td>\n",
       "      <td>...</td>\n",
       "      <td>4.419788e+02</td>\n",
       "      <td>8.129809e+01</td>\n",
       "      <td>4.032045e+01</td>\n",
       "      <td>4.126317e+00</td>\n",
       "      <td>1.284618e-02</td>\n",
       "      <td>7.784928e-01</td>\n",
       "      <td>1.431969e-01</td>\n",
       "      <td>7.101966e-02</td>\n",
       "      <td>7.268014e-03</td>\n",
       "      <td>2.262701e-05</td>\n",
       "    </tr>\n",
       "    <tr>\n",
       "      <th>50%</th>\n",
       "      <td>4.659440</td>\n",
       "      <td>1.000000</td>\n",
       "      <td>0.000047</td>\n",
       "      <td>0.000058</td>\n",
       "      <td>0.000031</td>\n",
       "      <td>8.009414e-07</td>\n",
       "      <td>0.000374</td>\n",
       "      <td>2.919718</td>\n",
       "      <td>14.127112</td>\n",
       "      <td>2.913750e-07</td>\n",
       "      <td>...</td>\n",
       "      <td>4.419788e+02</td>\n",
       "      <td>8.129809e+01</td>\n",
       "      <td>4.032045e+01</td>\n",
       "      <td>4.126317e+00</td>\n",
       "      <td>1.284618e-02</td>\n",
       "      <td>7.784928e-01</td>\n",
       "      <td>1.431969e-01</td>\n",
       "      <td>7.101966e-02</td>\n",
       "      <td>7.268014e-03</td>\n",
       "      <td>2.262701e-05</td>\n",
       "    </tr>\n",
       "    <tr>\n",
       "      <th>75%</th>\n",
       "      <td>5.051713</td>\n",
       "      <td>2.500000</td>\n",
       "      <td>0.000060</td>\n",
       "      <td>0.000084</td>\n",
       "      <td>0.000037</td>\n",
       "      <td>1.430284e-06</td>\n",
       "      <td>0.000592</td>\n",
       "      <td>3.989856</td>\n",
       "      <td>24.017910</td>\n",
       "      <td>6.216738e-07</td>\n",
       "      <td>...</td>\n",
       "      <td>4.419788e+02</td>\n",
       "      <td>8.129809e+01</td>\n",
       "      <td>4.032045e+01</td>\n",
       "      <td>4.126317e+00</td>\n",
       "      <td>1.284618e-02</td>\n",
       "      <td>7.784928e-01</td>\n",
       "      <td>1.431969e-01</td>\n",
       "      <td>7.101966e-02</td>\n",
       "      <td>7.268014e-03</td>\n",
       "      <td>2.262701e-05</td>\n",
       "    </tr>\n",
       "    <tr>\n",
       "      <th>max</th>\n",
       "      <td>6.825366</td>\n",
       "      <td>50.000000</td>\n",
       "      <td>0.015937</td>\n",
       "      <td>0.025928</td>\n",
       "      <td>0.007683</td>\n",
       "      <td>2.057558e-03</td>\n",
       "      <td>0.212953</td>\n",
       "      <td>10.778424</td>\n",
       "      <td>119.939897</td>\n",
       "      <td>8.790882e-02</td>\n",
       "      <td>...</td>\n",
       "      <td>4.419788e+02</td>\n",
       "      <td>8.129809e+01</td>\n",
       "      <td>4.032045e+01</td>\n",
       "      <td>4.126317e+00</td>\n",
       "      <td>1.284618e-02</td>\n",
       "      <td>7.784928e-01</td>\n",
       "      <td>1.431969e-01</td>\n",
       "      <td>7.101966e-02</td>\n",
       "      <td>7.268014e-03</td>\n",
       "      <td>2.262701e-05</td>\n",
       "    </tr>\n",
       "  </tbody>\n",
       "</table>\n",
       "<p>8 rows × 203 columns</p>\n",
       "</div>"
      ],
      "text/plain": [
       "       ED_F3_spectral_entropy  ED_F3_peak_frequency     ED_F3_mean  \\\n",
       "count           155822.000000         155822.000000  155822.000000   \n",
       "mean                 4.424604              2.574344       0.000057   \n",
       "std                  0.936157              3.433634       0.000130   \n",
       "min                  0.362584              0.000000       0.000008   \n",
       "25%                  4.092426              0.500000       0.000038   \n",
       "50%                  4.659440              1.000000       0.000047   \n",
       "75%                  5.051713              2.500000       0.000060   \n",
       "max                  6.825366             50.000000       0.015937   \n",
       "\n",
       "           ED_F3_std   ED_F3_median     ED_F3_min      ED_F3_max  \\\n",
       "count  155822.000000  155822.000000  1.558220e+05  155822.000000   \n",
       "mean        0.000089       0.000033  1.411458e-06       0.000653   \n",
       "std         0.000269       0.000069  9.137619e-06       0.002073   \n",
       "min         0.000008       0.000004  4.743901e-10       0.000034   \n",
       "25%         0.000044       0.000025  4.285321e-07       0.000267   \n",
       "50%         0.000058       0.000031  8.009414e-07       0.000374   \n",
       "75%         0.000084       0.000037  1.430284e-06       0.000592   \n",
       "max         0.025928       0.007683  2.057558e-03       0.212953   \n",
       "\n",
       "       ED_F3_skewness  ED_F3_kurtosis  ED_F3_power_delta  ...  \\\n",
       "count   155822.000000   155822.000000       1.558220e+05  ...   \n",
       "mean         3.383403       20.483380       9.564615e-06  ...   \n",
       "std          1.671346       18.255142       5.237196e-04  ...   \n",
       "min         -0.639453        1.474750       1.777156e-09  ...   \n",
       "25%          2.263050        9.281461       1.471021e-07  ...   \n",
       "50%          2.919718       14.127112       2.913750e-07  ...   \n",
       "75%          3.989856       24.017910       6.216738e-07  ...   \n",
       "max         10.778424      119.939897       8.790882e-02  ...   \n",
       "\n",
       "       t_wavelet_d1_energy  t_wavelet_d2_energy  t_wavelet_d3_energy  \\\n",
       "count         1.558220e+05         1.558220e+05         1.558220e+05   \n",
       "mean          4.419788e+02         8.129809e+01         4.032045e+01   \n",
       "std           5.196681e-09         1.416169e-09         6.590758e-10   \n",
       "min           4.419788e+02         8.129809e+01         4.032045e+01   \n",
       "25%           4.419788e+02         8.129809e+01         4.032045e+01   \n",
       "50%           4.419788e+02         8.129809e+01         4.032045e+01   \n",
       "75%           4.419788e+02         8.129809e+01         4.032045e+01   \n",
       "max           4.419788e+02         8.129809e+01         4.032045e+01   \n",
       "\n",
       "       t_wavelet_d4_energy  t_wavelet_d5_energy  t_wavelet_d1_relative_energy  \\\n",
       "count         1.558220e+05         1.558220e+05                  1.558220e+05   \n",
       "mean          4.126317e+00         1.284618e-02                  7.784928e-01   \n",
       "std           1.268334e-10         2.476158e-12                  3.059385e-12   \n",
       "min           4.126317e+00         1.284618e-02                  7.784928e-01   \n",
       "25%           4.126317e+00         1.284618e-02                  7.784928e-01   \n",
       "50%           4.126317e+00         1.284618e-02                  7.784928e-01   \n",
       "75%           4.126317e+00         1.284618e-02                  7.784928e-01   \n",
       "max           4.126317e+00         1.284618e-02                  7.784928e-01   \n",
       "\n",
       "       t_wavelet_d2_relative_energy  t_wavelet_d3_relative_energy  \\\n",
       "count                  1.558220e+05                  1.558220e+05   \n",
       "mean                   1.431969e-01                  7.101966e-02   \n",
       "std                    2.637887e-12                  1.225365e-12   \n",
       "min                    1.431969e-01                  7.101966e-02   \n",
       "25%                    1.431969e-01                  7.101966e-02   \n",
       "50%                    1.431969e-01                  7.101966e-02   \n",
       "75%                    1.431969e-01                  7.101966e-02   \n",
       "max                    1.431969e-01                  7.101966e-02   \n",
       "\n",
       "       t_wavelet_d4_relative_energy  t_wavelet_d5_relative_energy  \n",
       "count                  1.558220e+05                  1.558220e+05  \n",
       "mean                   7.268014e-03                  2.262701e-05  \n",
       "std                    2.304718e-13                  4.371704e-15  \n",
       "min                    7.268014e-03                  2.262701e-05  \n",
       "25%                    7.268014e-03                  2.262701e-05  \n",
       "50%                    7.268014e-03                  2.262701e-05  \n",
       "75%                    7.268014e-03                  2.262701e-05  \n",
       "max                    7.268014e-03                  2.262701e-05  \n",
       "\n",
       "[8 rows x 203 columns]"
      ]
     },
     "execution_count": 3,
     "metadata": {},
     "output_type": "execute_result"
    }
   ],
   "source": [
    "df_train.describe()"
   ]
  },
  {
   "cell_type": "code",
   "execution_count": 4,
   "id": "644ab879",
   "metadata": {
    "execution": {
     "iopub.execute_input": "2024-12-03T10:45:03.890074Z",
     "iopub.status.busy": "2024-12-03T10:45:03.889659Z",
     "iopub.status.idle": "2024-12-03T10:45:03.919237Z",
     "shell.execute_reply": "2024-12-03T10:45:03.918237Z"
    },
    "papermill": {
     "duration": 0.037442,
     "end_time": "2024-12-03T10:45:03.921315",
     "exception": false,
     "start_time": "2024-12-03T10:45:03.883873",
     "status": "completed"
    },
    "tags": []
   },
   "outputs": [
    {
     "data": {
      "text/plain": [
       "(state\n",
       " drowsy       91005\n",
       " unfocused    32531\n",
       " focused      32286\n",
       " Name: count, dtype: int64,\n",
       " state\n",
       " drowsy       22751\n",
       " unfocused     8133\n",
       " focused       8072\n",
       " Name: count, dtype: int64)"
      ]
     },
     "execution_count": 4,
     "metadata": {},
     "output_type": "execute_result"
    }
   ],
   "source": [
    "df_train['state'].value_counts(), df_test['state'].value_counts()"
   ]
  },
  {
   "cell_type": "markdown",
   "id": "ac8eea06",
   "metadata": {
    "papermill": {
     "duration": 0.004187,
     "end_time": "2024-12-03T10:45:03.930130",
     "exception": false,
     "start_time": "2024-12-03T10:45:03.925943",
     "status": "completed"
    },
    "tags": []
   },
   "source": [
    "## Preprocessing data"
   ]
  },
  {
   "cell_type": "code",
   "execution_count": 5,
   "id": "76ae8f87",
   "metadata": {
    "execution": {
     "iopub.execute_input": "2024-12-03T10:45:03.941139Z",
     "iopub.status.busy": "2024-12-03T10:45:03.940176Z",
     "iopub.status.idle": "2024-12-03T10:45:03.945623Z",
     "shell.execute_reply": "2024-12-03T10:45:03.944610Z"
    },
    "papermill": {
     "duration": 0.013207,
     "end_time": "2024-12-03T10:45:03.947713",
     "exception": false,
     "start_time": "2024-12-03T10:45:03.934506",
     "status": "completed"
    },
    "tags": []
   },
   "outputs": [],
   "source": [
    "def preprocess_data(df, scaler, encoder):\n",
    "    features = df.drop('state', axis = 1)\n",
    "    labels = df['state']\n",
    "    X_scaled = scaler.fit_transform(features)\n",
    "    y_encoded = encoder.fit_transform(labels)\n",
    "    return X_scaled, y_encoded"
   ]
  },
  {
   "cell_type": "code",
   "execution_count": 6,
   "id": "93289f2a",
   "metadata": {
    "execution": {
     "iopub.execute_input": "2024-12-03T10:45:03.959514Z",
     "iopub.status.busy": "2024-12-03T10:45:03.959127Z",
     "iopub.status.idle": "2024-12-03T10:45:04.863043Z",
     "shell.execute_reply": "2024-12-03T10:45:04.862214Z"
    },
    "papermill": {
     "duration": 0.91193,
     "end_time": "2024-12-03T10:45:04.865363",
     "exception": false,
     "start_time": "2024-12-03T10:45:03.953433",
     "status": "completed"
    },
    "tags": []
   },
   "outputs": [],
   "source": [
    "scaler = MinMaxScaler()\n",
    "encoder = LabelEncoder()\n",
    "\n",
    "# Prepare training, validation, and test data\n",
    "X_train_scaled, y_train_encoded = preprocess_data(df_train, scaler, encoder)\n",
    "X_test, y_test = preprocess_data(df_test, scaler, encoder)\n",
    "\n",
    "X_train, X_val, y_train, y_val = train_test_split(X_train_scaled, y_train_encoded, \n",
    "                                                  test_size=0.2, random_state=42, stratify=y_train_encoded)"
   ]
  },
  {
   "cell_type": "markdown",
   "id": "fd577c73",
   "metadata": {
    "papermill": {
     "duration": 0.004192,
     "end_time": "2024-12-03T10:45:04.874152",
     "exception": false,
     "start_time": "2024-12-03T10:45:04.869960",
     "status": "completed"
    },
    "tags": []
   },
   "source": [
    "## Define and Train EEGNet Model"
   ]
  },
  {
   "cell_type": "code",
   "execution_count": null,
   "id": "42ae8496",
   "metadata": {
    "execution": {
     "iopub.execute_input": "2024-12-03T10:45:04.885344Z",
     "iopub.status.busy": "2024-12-03T10:45:04.884850Z",
     "iopub.status.idle": "2024-12-03T10:45:04.894585Z",
     "shell.execute_reply": "2024-12-03T10:45:04.893594Z"
    },
    "papermill": {
     "duration": 0.017514,
     "end_time": "2024-12-03T10:45:04.896533",
     "exception": false,
     "start_time": "2024-12-03T10:45:04.879019",
     "status": "completed"
    },
    "tags": []
   },
   "outputs": [],
   "source": [
    "def EEGNet(nb_classes, Chans, Samples, kernLength, F1, \n",
    "             D, F2, norm_rate, dropoutRate, dropoutType):\n",
    "    \"\"\" \n",
    "    Inputs:\n",
    "    \n",
    "      nb_classes      : int, number of classes to classify\n",
    "      Chans, Samples  : number of channels and time points in the EEG data\n",
    "      dropoutRate     : dropout fraction\n",
    "      kernLength      : length of temporal convolution in first layer.\n",
    "      F1, F2          : number of temporal filters (F1) and number of pointwise\n",
    "                        filters (F2) to learn. Default: F1 = 8, F2 = F1 * D. \n",
    "      D               : number of spatial filters to learn within each temporal\n",
    "                        convolution. Default: D = 2\n",
    "      dropoutType     : Randomly remove some neurons to avoid overfitting, passed as a string.\n",
    "\n",
    "    \"\"\"\n",
    "    if dropoutType == 'SpatialDropout2D':\n",
    "        dropoutType = SpatialDropout2D\n",
    "    elif dropoutType == 'Dropout':\n",
    "        dropoutType = Dropout\n",
    "    else:\n",
    "        raise ValueError('dropoutType must be one of SpatialDropout2D '\n",
    "                         'or Dropout, passed as a string.')\n",
    "    \n",
    "    input1   = Input(shape = (Chans, Samples, 1))\n",
    "\n",
    "    ##################################################################\n",
    "    # Block 1\n",
    "    block1       = Conv2D(F1, (1, kernLength), padding = 'same',\n",
    "                                   input_shape = (Chans, Samples, 1),\n",
    "                                   use_bias = False)(input1)\n",
    "    block1       = BatchNormalization()(block1)\n",
    "    block1       = DepthwiseConv2D((Chans, 1), use_bias = False, \n",
    "                                   depth_multiplier = D,\n",
    "                                   depthwise_constraint = max_norm(1.))(block1)\n",
    "    block1       = BatchNormalization()(block1)\n",
    "    block1       = Activation('elu')(block1)\n",
    "    block1       = AveragePooling2D((1, 4))(block1)\n",
    "    block1       = dropoutType(dropoutRate)(block1)\n",
    "\n",
    "    # Block 2\n",
    "    block2       = SeparableConv2D(F2, (1, 16),\n",
    "                                   use_bias = False, padding = 'same')(block1)\n",
    "    block2       = BatchNormalization()(block2)\n",
    "    block2       = Activation('elu')(block2)\n",
    "    block2       = AveragePooling2D((1, 4))(block2)\n",
    "    block2       = dropoutType(dropoutRate)(block2)\n",
    "    \n",
    "    # Flatten, dense, softmax and output\n",
    "    flatten      = Flatten(name = 'flatten')(block2)\n",
    "    dense        = Dense(nb_classes, name = 'dense', \n",
    "                         kernel_constraint = max_norm(norm_rate))(flatten)\n",
    "    softmax      = Activation('softmax', name = 'softmax')(dense)\n",
    "    \n",
    "    return Model(inputs=input1, outputs=softmax)"
   ]
  },
  {
   "cell_type": "code",
   "execution_count": 8,
   "id": "aa2c4beb",
   "metadata": {
    "execution": {
     "iopub.execute_input": "2024-12-03T10:45:04.907324Z",
     "iopub.status.busy": "2024-12-03T10:45:04.906221Z",
     "iopub.status.idle": "2024-12-03T10:45:04.916583Z",
     "shell.execute_reply": "2024-12-03T10:45:04.915560Z"
    },
    "papermill": {
     "duration": 0.017572,
     "end_time": "2024-12-03T10:45:04.918549",
     "exception": false,
     "start_time": "2024-12-03T10:45:04.900977",
     "status": "completed"
    },
    "tags": []
   },
   "outputs": [
    {
     "name": "stdout",
     "output_type": "stream",
     "text": [
      "X_train shape: (124657, 7, 29, 1)\n",
      "X_val shape: (31165, 7, 29, 1)\n",
      "X_test shape: (38956, 7, 29, 1)\n"
     ]
    }
   ],
   "source": [
    "# Model Parameters\n",
    "Chans = len([\"ED_F7\", \"ED_F3\", \"ED_P7\", \"ED_O1\", \"ED_O2\", \"ED_P8\", \"ED_AF4\"])  # useful channels\n",
    "Samples = df_train.shape[1] // Chans # Number of samples per channel\n",
    "\n",
    "# Reshape data\n",
    "X_train = X_train.reshape(-1, Chans, Samples, 1)\n",
    "X_val = X_val.reshape(-1, Chans, Samples, 1)\n",
    "X_test = X_test.reshape(-1, Chans, Samples, 1)\n",
    "\n",
    "# Convert the data labels to one-hot encoded\n",
    "y_train_onehot = to_categorical(y_train, num_classes=3)\n",
    "y_val_onehot = to_categorical(y_val, num_classes=3)\n",
    "y_test_onehot = to_categorical(y_test, num_classes=3)\n",
    "\n",
    "print(f\"X_train shape: {X_train.shape}\")  # (n_samples_train, Chans, Samples, 1)\n",
    "print(f\"X_val shape: {X_val.shape}\")      # (n_samples_val, Chans, Samples, 1)\n",
    "print(f\"X_test shape: {X_test.shape}\")      # (n_samples_test, Chans, Samples, 1)"
   ]
  },
  {
   "cell_type": "code",
   "execution_count": 9,
   "id": "7bc4a502",
   "metadata": {
    "execution": {
     "iopub.execute_input": "2024-12-03T10:45:04.928866Z",
     "iopub.status.busy": "2024-12-03T10:45:04.928512Z",
     "iopub.status.idle": "2024-12-03T11:16:39.721206Z",
     "shell.execute_reply": "2024-12-03T11:16:39.719999Z"
    },
    "papermill": {
     "duration": 1894.800703,
     "end_time": "2024-12-03T11:16:39.723854",
     "exception": false,
     "start_time": "2024-12-03T10:45:04.923151",
     "status": "completed"
    },
    "tags": []
   },
   "outputs": [
    {
     "name": "stderr",
     "output_type": "stream",
     "text": [
      "/opt/conda/lib/python3.10/site-packages/keras/src/layers/convolutional/base_conv.py:107: UserWarning: Do not pass an `input_shape`/`input_dim` argument to a layer. When using Sequential models, prefer using an `Input(shape)` object as the first layer in the model instead.\n",
      "  super().__init__(activity_regularizer=activity_regularizer, **kwargs)\n"
     ]
    },
    {
     "name": "stdout",
     "output_type": "stream",
     "text": [
      "Epoch 1/50\n",
      "\u001b[1m3896/3896\u001b[0m \u001b[32m━━━━━━━━━━━━━━━━━━━━\u001b[0m\u001b[37m\u001b[0m \u001b[1m40s\u001b[0m 10ms/step - accuracy: 0.8304 - loss: 0.4588 - val_accuracy: 0.9729 - val_loss: 0.1519\n",
      "Epoch 2/50\n",
      "\u001b[1m3896/3896\u001b[0m \u001b[32m━━━━━━━━━━━━━━━━━━━━\u001b[0m\u001b[37m\u001b[0m \u001b[1m37s\u001b[0m 10ms/step - accuracy: 0.9374 - loss: 0.1982 - val_accuracy: 0.9892 - val_loss: 0.0820\n",
      "Epoch 3/50\n",
      "\u001b[1m3896/3896\u001b[0m \u001b[32m━━━━━━━━━━━━━━━━━━━━\u001b[0m\u001b[37m\u001b[0m \u001b[1m37s\u001b[0m 9ms/step - accuracy: 0.9503 - loss: 0.1439 - val_accuracy: 0.9893 - val_loss: 0.0637\n",
      "Epoch 4/50\n",
      "\u001b[1m3896/3896\u001b[0m \u001b[32m━━━━━━━━━━━━━━━━━━━━\u001b[0m\u001b[37m\u001b[0m \u001b[1m37s\u001b[0m 10ms/step - accuracy: 0.9550 - loss: 0.1254 - val_accuracy: 0.9796 - val_loss: 0.0683\n",
      "Epoch 5/50\n",
      "\u001b[1m3896/3896\u001b[0m \u001b[32m━━━━━━━━━━━━━━━━━━━━\u001b[0m\u001b[37m\u001b[0m \u001b[1m38s\u001b[0m 10ms/step - accuracy: 0.9592 - loss: 0.1099 - val_accuracy: 0.9873 - val_loss: 0.0513\n",
      "Epoch 6/50\n",
      "\u001b[1m3896/3896\u001b[0m \u001b[32m━━━━━━━━━━━━━━━━━━━━\u001b[0m\u001b[37m\u001b[0m \u001b[1m38s\u001b[0m 10ms/step - accuracy: 0.9607 - loss: 0.1048 - val_accuracy: 0.9883 - val_loss: 0.0432\n",
      "Epoch 7/50\n",
      "\u001b[1m3896/3896\u001b[0m \u001b[32m━━━━━━━━━━━━━━━━━━━━\u001b[0m\u001b[37m\u001b[0m \u001b[1m37s\u001b[0m 10ms/step - accuracy: 0.9617 - loss: 0.0999 - val_accuracy: 0.9865 - val_loss: 0.0478\n",
      "Epoch 8/50\n",
      "\u001b[1m3896/3896\u001b[0m \u001b[32m━━━━━━━━━━━━━━━━━━━━\u001b[0m\u001b[37m\u001b[0m \u001b[1m38s\u001b[0m 10ms/step - accuracy: 0.9632 - loss: 0.0960 - val_accuracy: 0.9886 - val_loss: 0.0418\n",
      "Epoch 9/50\n",
      "\u001b[1m3896/3896\u001b[0m \u001b[32m━━━━━━━━━━━━━━━━━━━━\u001b[0m\u001b[37m\u001b[0m \u001b[1m38s\u001b[0m 10ms/step - accuracy: 0.9643 - loss: 0.0928 - val_accuracy: 0.9939 - val_loss: 0.0345\n",
      "Epoch 10/50\n",
      "\u001b[1m3896/3896\u001b[0m \u001b[32m━━━━━━━━━━━━━━━━━━━━\u001b[0m\u001b[37m\u001b[0m \u001b[1m38s\u001b[0m 10ms/step - accuracy: 0.9653 - loss: 0.0890 - val_accuracy: 0.9922 - val_loss: 0.0323\n",
      "Epoch 11/50\n",
      "\u001b[1m3896/3896\u001b[0m \u001b[32m━━━━━━━━━━━━━━━━━━━━\u001b[0m\u001b[37m\u001b[0m \u001b[1m38s\u001b[0m 10ms/step - accuracy: 0.9658 - loss: 0.0872 - val_accuracy: 0.9947 - val_loss: 0.0303\n",
      "Epoch 12/50\n",
      "\u001b[1m3896/3896\u001b[0m \u001b[32m━━━━━━━━━━━━━━━━━━━━\u001b[0m\u001b[37m\u001b[0m \u001b[1m38s\u001b[0m 10ms/step - accuracy: 0.9669 - loss: 0.0817 - val_accuracy: 0.9937 - val_loss: 0.0281\n",
      "Epoch 13/50\n",
      "\u001b[1m3896/3896\u001b[0m \u001b[32m━━━━━━━━━━━━━━━━━━━━\u001b[0m\u001b[37m\u001b[0m \u001b[1m38s\u001b[0m 10ms/step - accuracy: 0.9670 - loss: 0.0800 - val_accuracy: 0.9955 - val_loss: 0.0247\n",
      "Epoch 14/50\n",
      "\u001b[1m3896/3896\u001b[0m \u001b[32m━━━━━━━━━━━━━━━━━━━━\u001b[0m\u001b[37m\u001b[0m \u001b[1m38s\u001b[0m 10ms/step - accuracy: 0.9685 - loss: 0.0772 - val_accuracy: 0.9916 - val_loss: 0.0276\n",
      "Epoch 15/50\n",
      "\u001b[1m3896/3896\u001b[0m \u001b[32m━━━━━━━━━━━━━━━━━━━━\u001b[0m\u001b[37m\u001b[0m \u001b[1m37s\u001b[0m 10ms/step - accuracy: 0.9683 - loss: 0.0743 - val_accuracy: 0.9958 - val_loss: 0.0241\n",
      "Epoch 16/50\n",
      "\u001b[1m3896/3896\u001b[0m \u001b[32m━━━━━━━━━━━━━━━━━━━━\u001b[0m\u001b[37m\u001b[0m \u001b[1m37s\u001b[0m 10ms/step - accuracy: 0.9687 - loss: 0.0752 - val_accuracy: 0.9895 - val_loss: 0.0290\n",
      "Epoch 17/50\n",
      "\u001b[1m3896/3896\u001b[0m \u001b[32m━━━━━━━━━━━━━━━━━━━━\u001b[0m\u001b[37m\u001b[0m \u001b[1m38s\u001b[0m 10ms/step - accuracy: 0.9681 - loss: 0.0760 - val_accuracy: 0.9956 - val_loss: 0.0222\n",
      "Epoch 18/50\n",
      "\u001b[1m3896/3896\u001b[0m \u001b[32m━━━━━━━━━━━━━━━━━━━━\u001b[0m\u001b[37m\u001b[0m \u001b[1m37s\u001b[0m 10ms/step - accuracy: 0.9696 - loss: 0.0727 - val_accuracy: 0.9949 - val_loss: 0.0224\n",
      "Epoch 19/50\n",
      "\u001b[1m3896/3896\u001b[0m \u001b[32m━━━━━━━━━━━━━━━━━━━━\u001b[0m\u001b[37m\u001b[0m \u001b[1m38s\u001b[0m 10ms/step - accuracy: 0.9700 - loss: 0.0711 - val_accuracy: 0.9928 - val_loss: 0.0256\n",
      "Epoch 20/50\n",
      "\u001b[1m3896/3896\u001b[0m \u001b[32m━━━━━━━━━━━━━━━━━━━━\u001b[0m\u001b[37m\u001b[0m \u001b[1m38s\u001b[0m 10ms/step - accuracy: 0.9695 - loss: 0.0721 - val_accuracy: 0.9916 - val_loss: 0.0252\n",
      "Epoch 21/50\n",
      "\u001b[1m3896/3896\u001b[0m \u001b[32m━━━━━━━━━━━━━━━━━━━━\u001b[0m\u001b[37m\u001b[0m \u001b[1m38s\u001b[0m 10ms/step - accuracy: 0.9694 - loss: 0.0718 - val_accuracy: 0.9936 - val_loss: 0.0238\n",
      "Epoch 22/50\n",
      "\u001b[1m3896/3896\u001b[0m \u001b[32m━━━━━━━━━━━━━━━━━━━━\u001b[0m\u001b[37m\u001b[0m \u001b[1m38s\u001b[0m 10ms/step - accuracy: 0.9708 - loss: 0.0685 - val_accuracy: 0.9893 - val_loss: 0.0291\n",
      "Epoch 23/50\n",
      "\u001b[1m3896/3896\u001b[0m \u001b[32m━━━━━━━━━━━━━━━━━━━━\u001b[0m\u001b[37m\u001b[0m \u001b[1m39s\u001b[0m 10ms/step - accuracy: 0.9708 - loss: 0.0688 - val_accuracy: 0.9928 - val_loss: 0.0227\n",
      "Epoch 24/50\n",
      "\u001b[1m3896/3896\u001b[0m \u001b[32m━━━━━━━━━━━━━━━━━━━━\u001b[0m\u001b[37m\u001b[0m \u001b[1m38s\u001b[0m 10ms/step - accuracy: 0.9712 - loss: 0.0686 - val_accuracy: 0.9962 - val_loss: 0.0191\n",
      "Epoch 25/50\n",
      "\u001b[1m3896/3896\u001b[0m \u001b[32m━━━━━━━━━━━━━━━━━━━━\u001b[0m\u001b[37m\u001b[0m \u001b[1m37s\u001b[0m 9ms/step - accuracy: 0.9717 - loss: 0.0669 - val_accuracy: 0.9952 - val_loss: 0.0200\n",
      "Epoch 26/50\n",
      "\u001b[1m3896/3896\u001b[0m \u001b[32m━━━━━━━━━━━━━━━━━━━━\u001b[0m\u001b[37m\u001b[0m \u001b[1m38s\u001b[0m 10ms/step - accuracy: 0.9711 - loss: 0.0670 - val_accuracy: 0.9956 - val_loss: 0.0208\n",
      "Epoch 27/50\n",
      "\u001b[1m3896/3896\u001b[0m \u001b[32m━━━━━━━━━━━━━━━━━━━━\u001b[0m\u001b[37m\u001b[0m \u001b[1m37s\u001b[0m 10ms/step - accuracy: 0.9707 - loss: 0.0669 - val_accuracy: 0.9961 - val_loss: 0.0192\n",
      "Epoch 28/50\n",
      "\u001b[1m3896/3896\u001b[0m \u001b[32m━━━━━━━━━━━━━━━━━━━━\u001b[0m\u001b[37m\u001b[0m \u001b[1m38s\u001b[0m 10ms/step - accuracy: 0.9715 - loss: 0.0663 - val_accuracy: 0.9964 - val_loss: 0.0181\n",
      "Epoch 29/50\n",
      "\u001b[1m3896/3896\u001b[0m \u001b[32m━━━━━━━━━━━━━━━━━━━━\u001b[0m\u001b[37m\u001b[0m \u001b[1m38s\u001b[0m 10ms/step - accuracy: 0.9715 - loss: 0.0659 - val_accuracy: 0.9961 - val_loss: 0.0188\n",
      "Epoch 30/50\n",
      "\u001b[1m3896/3896\u001b[0m \u001b[32m━━━━━━━━━━━━━━━━━━━━\u001b[0m\u001b[37m\u001b[0m \u001b[1m37s\u001b[0m 9ms/step - accuracy: 0.9723 - loss: 0.0647 - val_accuracy: 0.9910 - val_loss: 0.0258\n",
      "Epoch 31/50\n",
      "\u001b[1m3896/3896\u001b[0m \u001b[32m━━━━━━━━━━━━━━━━━━━━\u001b[0m\u001b[37m\u001b[0m \u001b[1m38s\u001b[0m 10ms/step - accuracy: 0.9716 - loss: 0.0650 - val_accuracy: 0.9918 - val_loss: 0.0241\n",
      "Epoch 32/50\n",
      "\u001b[1m3896/3896\u001b[0m \u001b[32m━━━━━━━━━━━━━━━━━━━━\u001b[0m\u001b[37m\u001b[0m \u001b[1m38s\u001b[0m 10ms/step - accuracy: 0.9717 - loss: 0.0645 - val_accuracy: 0.9968 - val_loss: 0.0180\n",
      "Epoch 33/50\n",
      "\u001b[1m3896/3896\u001b[0m \u001b[32m━━━━━━━━━━━━━━━━━━━━\u001b[0m\u001b[37m\u001b[0m \u001b[1m37s\u001b[0m 10ms/step - accuracy: 0.9727 - loss: 0.0648 - val_accuracy: 0.9924 - val_loss: 0.0228\n",
      "Epoch 34/50\n",
      "\u001b[1m3896/3896\u001b[0m \u001b[32m━━━━━━━━━━━━━━━━━━━━\u001b[0m\u001b[37m\u001b[0m \u001b[1m38s\u001b[0m 10ms/step - accuracy: 0.9730 - loss: 0.0620 - val_accuracy: 0.9956 - val_loss: 0.0187\n",
      "Epoch 35/50\n",
      "\u001b[1m3896/3896\u001b[0m \u001b[32m━━━━━━━━━━━━━━━━━━━━\u001b[0m\u001b[37m\u001b[0m \u001b[1m39s\u001b[0m 10ms/step - accuracy: 0.9734 - loss: 0.0628 - val_accuracy: 0.9959 - val_loss: 0.0171\n",
      "Epoch 36/50\n",
      "\u001b[1m3896/3896\u001b[0m \u001b[32m━━━━━━━━━━━━━━━━━━━━\u001b[0m\u001b[37m\u001b[0m \u001b[1m38s\u001b[0m 10ms/step - accuracy: 0.9720 - loss: 0.0635 - val_accuracy: 0.9950 - val_loss: 0.0198\n",
      "Epoch 37/50\n",
      "\u001b[1m3896/3896\u001b[0m \u001b[32m━━━━━━━━━━━━━━━━━━━━\u001b[0m\u001b[37m\u001b[0m \u001b[1m38s\u001b[0m 10ms/step - accuracy: 0.9725 - loss: 0.0623 - val_accuracy: 0.9957 - val_loss: 0.0186\n",
      "Epoch 38/50\n",
      "\u001b[1m3896/3896\u001b[0m \u001b[32m━━━━━━━━━━━━━━━━━━━━\u001b[0m\u001b[37m\u001b[0m \u001b[1m38s\u001b[0m 10ms/step - accuracy: 0.9718 - loss: 0.0639 - val_accuracy: 0.9960 - val_loss: 0.0170\n",
      "Epoch 39/50\n",
      "\u001b[1m3896/3896\u001b[0m \u001b[32m━━━━━━━━━━━━━━━━━━━━\u001b[0m\u001b[37m\u001b[0m \u001b[1m38s\u001b[0m 10ms/step - accuracy: 0.9728 - loss: 0.0624 - val_accuracy: 0.9921 - val_loss: 0.0224\n",
      "Epoch 40/50\n",
      "\u001b[1m3896/3896\u001b[0m \u001b[32m━━━━━━━━━━━━━━━━━━━━\u001b[0m\u001b[37m\u001b[0m \u001b[1m39s\u001b[0m 10ms/step - accuracy: 0.9737 - loss: 0.0615 - val_accuracy: 0.9950 - val_loss: 0.0183\n",
      "Epoch 41/50\n",
      "\u001b[1m3896/3896\u001b[0m \u001b[32m━━━━━━━━━━━━━━━━━━━━\u001b[0m\u001b[37m\u001b[0m \u001b[1m39s\u001b[0m 10ms/step - accuracy: 0.9740 - loss: 0.0617 - val_accuracy: 0.9954 - val_loss: 0.0170\n",
      "Epoch 42/50\n",
      "\u001b[1m3896/3896\u001b[0m \u001b[32m━━━━━━━━━━━━━━━━━━━━\u001b[0m\u001b[37m\u001b[0m \u001b[1m39s\u001b[0m 10ms/step - accuracy: 0.9741 - loss: 0.0598 - val_accuracy: 0.9946 - val_loss: 0.0171\n",
      "Epoch 43/50\n",
      "\u001b[1m3896/3896\u001b[0m \u001b[32m━━━━━━━━━━━━━━━━━━━━\u001b[0m\u001b[37m\u001b[0m \u001b[1m38s\u001b[0m 10ms/step - accuracy: 0.9732 - loss: 0.0618 - val_accuracy: 0.9928 - val_loss: 0.0209\n",
      "Epoch 44/50\n",
      "\u001b[1m3896/3896\u001b[0m \u001b[32m━━━━━━━━━━━━━━━━━━━━\u001b[0m\u001b[37m\u001b[0m \u001b[1m38s\u001b[0m 10ms/step - accuracy: 0.9725 - loss: 0.0638 - val_accuracy: 0.9965 - val_loss: 0.0157\n",
      "Epoch 45/50\n",
      "\u001b[1m3896/3896\u001b[0m \u001b[32m━━━━━━━━━━━━━━━━━━━━\u001b[0m\u001b[37m\u001b[0m \u001b[1m38s\u001b[0m 10ms/step - accuracy: 0.9736 - loss: 0.0616 - val_accuracy: 0.9965 - val_loss: 0.0146\n",
      "Epoch 46/50\n",
      "\u001b[1m3896/3896\u001b[0m \u001b[32m━━━━━━━━━━━━━━━━━━━━\u001b[0m\u001b[37m\u001b[0m \u001b[1m39s\u001b[0m 10ms/step - accuracy: 0.9732 - loss: 0.0610 - val_accuracy: 0.9946 - val_loss: 0.0166\n",
      "Epoch 47/50\n",
      "\u001b[1m3896/3896\u001b[0m \u001b[32m━━━━━━━━━━━━━━━━━━━━\u001b[0m\u001b[37m\u001b[0m \u001b[1m38s\u001b[0m 10ms/step - accuracy: 0.9735 - loss: 0.0605 - val_accuracy: 0.9942 - val_loss: 0.0171\n",
      "Epoch 48/50\n",
      "\u001b[1m3896/3896\u001b[0m \u001b[32m━━━━━━━━━━━━━━━━━━━━\u001b[0m\u001b[37m\u001b[0m \u001b[1m38s\u001b[0m 10ms/step - accuracy: 0.9749 - loss: 0.0582 - val_accuracy: 0.9943 - val_loss: 0.0173\n",
      "Epoch 49/50\n",
      "\u001b[1m3896/3896\u001b[0m \u001b[32m━━━━━━━━━━━━━━━━━━━━\u001b[0m\u001b[37m\u001b[0m \u001b[1m38s\u001b[0m 10ms/step - accuracy: 0.9746 - loss: 0.0592 - val_accuracy: 0.9953 - val_loss: 0.0168\n",
      "Epoch 50/50\n",
      "\u001b[1m3896/3896\u001b[0m \u001b[32m━━━━━━━━━━━━━━━━━━━━\u001b[0m\u001b[37m\u001b[0m \u001b[1m37s\u001b[0m 10ms/step - accuracy: 0.9741 - loss: 0.0598 - val_accuracy: 0.9957 - val_loss: 0.0159\n"
     ]
    }
   ],
   "source": [
    "# Initialize EEGNet model\n",
    "eeg_net = EEGNet(\n",
    "    nb_classes=3,       # Number of states: Drowsy (class 0), Focused (class 1), Unfocused (class 2)\n",
    "    Chans=Chans,           # Number of EEG channels\n",
    "    Samples=Samples,        # Samples per second\n",
    "    kernLength=64,      # Kernel temporal: suitable for 128Hz\n",
    "    F1=8,              # Number of temporal filters\n",
    "    D=2,                # Spatial Filter\n",
    "    F2=16,              # Total filter number\n",
    "    norm_rate= 0.25,     # Constraint level for the kernel of the Dense layer.\n",
    "    dropoutRate=0.5,    # Dropout to avoid overfitting\n",
    "    dropoutType='Dropout'\n",
    ")\n",
    "\n",
    "# Compile EEGNet model\n",
    "eeg_net.compile(\n",
    "    loss='categorical_crossentropy',  # Multi-layer classification\n",
    "    optimizer=Adam(learning_rate=0.001),  # Adam optimizer with low learning rate\n",
    "    metrics=['accuracy']  # Evaluate by accuracy\n",
    ")\n",
    "\n",
    "# Train model\n",
    "history = eeg_net.fit(\n",
    "    X_train, \n",
    "    y_train_onehot, \n",
    "    epochs=50, \n",
    "    batch_size=32, \n",
    "    validation_data=(X_val, y_val_onehot) # Use validation_data to validate in each epoch\n",
    ")"
   ]
  },
  {
   "cell_type": "markdown",
   "id": "94eb43de",
   "metadata": {
    "papermill": {
     "duration": 1.90643,
     "end_time": "2024-12-03T11:16:43.589399",
     "exception": false,
     "start_time": "2024-12-03T11:16:41.682969",
     "status": "completed"
    },
    "tags": []
   },
   "source": [
    "## Evaluation"
   ]
  },
  {
   "cell_type": "code",
   "execution_count": 10,
   "id": "3b867048",
   "metadata": {
    "execution": {
     "iopub.execute_input": "2024-12-03T11:16:47.522808Z",
     "iopub.status.busy": "2024-12-03T11:16:47.521957Z",
     "iopub.status.idle": "2024-12-03T11:16:52.942359Z",
     "shell.execute_reply": "2024-12-03T11:16:52.941198Z"
    },
    "papermill": {
     "duration": 7.320772,
     "end_time": "2024-12-03T11:16:52.944441",
     "exception": false,
     "start_time": "2024-12-03T11:16:45.623669",
     "status": "completed"
    },
    "tags": []
   },
   "outputs": [
    {
     "name": "stdout",
     "output_type": "stream",
     "text": [
      "\u001b[1m1218/1218\u001b[0m \u001b[32m━━━━━━━━━━━━━━━━━━━━\u001b[0m\u001b[37m\u001b[0m \u001b[1m5s\u001b[0m 4ms/step\n",
      "Accuracy: 0.9950970325495431\n",
      "Classification Report:\n",
      "              precision    recall  f1-score   support\n",
      "\n",
      "           0       1.00      1.00      1.00     22853\n",
      "           1       1.00      0.99      1.00      8107\n",
      "           2       0.98      1.00      0.99      7996\n",
      "\n",
      "    accuracy                           1.00     38956\n",
      "   macro avg       0.99      1.00      0.99     38956\n",
      "weighted avg       1.00      1.00      1.00     38956\n",
      "\n"
     ]
    }
   ],
   "source": [
    "# Evaluate the model on the test set\n",
    "y_pred = np.argmax(eeg_net.predict(X_test), axis=1)\n",
    "\n",
    "accuracy = accuracy_score(y_test, y_pred)\n",
    "print(f\"Accuracy: {accuracy}\")\n",
    "\n",
    "print(f\"Classification Report:\")\n",
    "print(classification_report(y_pred, y_test))"
   ]
  },
  {
   "cell_type": "markdown",
   "id": "3a255496",
   "metadata": {
    "execution": {
     "iopub.execute_input": "2024-12-02T16:16:24.757504Z",
     "iopub.status.busy": "2024-12-02T16:16:24.757080Z",
     "iopub.status.idle": "2024-12-02T16:16:24.780747Z",
     "shell.execute_reply": "2024-12-02T16:16:24.779754Z",
     "shell.execute_reply.started": "2024-12-02T16:16:24.757455Z"
    },
    "papermill": {
     "duration": 1.898368,
     "end_time": "2024-12-03T11:16:56.733170",
     "exception": false,
     "start_time": "2024-12-03T11:16:54.834802",
     "status": "completed"
    },
    "tags": []
   },
   "source": [
    "## Visualization\n",
    "#### Confusion matrix"
   ]
  },
  {
   "cell_type": "code",
   "execution_count": 11,
   "id": "9051f5bf",
   "metadata": {
    "execution": {
     "iopub.execute_input": "2024-12-03T11:17:00.621283Z",
     "iopub.status.busy": "2024-12-03T11:17:00.620873Z",
     "iopub.status.idle": "2024-12-03T11:17:00.914420Z",
     "shell.execute_reply": "2024-12-03T11:17:00.913379Z"
    },
    "papermill": {
     "duration": 2.231206,
     "end_time": "2024-12-03T11:17:00.916566",
     "exception": false,
     "start_time": "2024-12-03T11:16:58.685360",
     "status": "completed"
    },
    "tags": []
   },
   "outputs": [
    {
     "data": {
      "image/png": "[encoded data removed]",
      "text/plain": [
       "<Figure size 640x480 with 2 Axes>"
      ]
     },
     "metadata": {},
     "output_type": "display_data"
    }
   ],
   "source": [
    "cm = confusion_matrix(y_test, y_pred)\n",
    "sns.heatmap(cm, annot=True, fmt='d', cmap='Blues')\n",
    "plt.xlabel('Predicted')\n",
    "plt.ylabel('True')\n",
    "plt.title('Confusion Matrix')\n",
    "plt.show()"
   ]
  },
  {
   "cell_type": "markdown",
   "id": "924d4d8b",
   "metadata": {
    "papermill": {
     "duration": 1.950167,
     "end_time": "2024-12-03T11:17:04.748578",
     "exception": false,
     "start_time": "2024-12-03T11:17:02.798411",
     "status": "completed"
    },
    "tags": []
   },
   "source": [
    "#### ROC curve"
   ]
  },
  {
   "cell_type": "code",
   "execution_count": 12,
   "id": "b9ccb27d",
   "metadata": {
    "execution": {
     "iopub.execute_input": "2024-12-03T11:17:08.524067Z",
     "iopub.status.busy": "2024-12-03T11:17:08.523634Z",
     "iopub.status.idle": "2024-12-03T11:17:08.799129Z",
     "shell.execute_reply": "2024-12-03T11:17:08.798080Z"
    },
    "papermill": {
     "duration": 2.17065,
     "end_time": "2024-12-03T11:17:08.801157",
     "exception": false,
     "start_time": "2024-12-03T11:17:06.630507",
     "status": "completed"
    },
    "tags": []
   },
   "outputs": [
    {
     "data": {
      "image/png": "[encoded data removed]",
      "text/plain": [
       "<Figure size 640x480 with 1 Axes>"
      ]
     },
     "metadata": {},
     "output_type": "display_data"
    }
   ],
   "source": [
    "y_pred_onehot = to_categorical(y_pred, num_classes=3)\n",
    "\n",
    "n_classes = 3\n",
    "fpr, tpr, roc_auc = {}, {}, {}\n",
    "\n",
    "# Calculate ROC for each class\n",
    "for i in range(n_classes):\n",
    "    fpr[i], tpr[i], _ = roc_curve(y_test_onehot[:, i], y_pred_onehot[:, i])\n",
    "    roc_auc[i] = auc(fpr[i], tpr[i])\n",
    "\n",
    "# Plot ROC curve for each class\n",
    "plt.figure()\n",
    "colors = ['blue', 'orange', 'green']\n",
    "for i in range(n_classes):\n",
    "    plt.plot(fpr[i], tpr[i], color=colors[i], lw=2,\n",
    "             label=f'ROC curve for class {i} (AUC = {roc_auc[i]:.2f})')\n",
    "\n",
    "plt.plot([0, 1], [0, 1], color='gray', linestyle='--', label='Random Guess')\n",
    "plt.xlabel('False Positive Rate')\n",
    "plt.ylabel('True Positive Rate')\n",
    "plt.title('ROC Curve')\n",
    "plt.legend(loc=\"lower right\")\n",
    "plt.show()"
   ]
  }
 ],
 "metadata": {
  "kaggle": {
   "accelerator": "none",
   "dataSources": [
    {
     "datasetId": 6202660,
     "sourceId": 10064695,
     "sourceType": "datasetVersion"
    }
   ],
   "dockerImageVersionId": 30786,
   "isGpuEnabled": false,
   "isInternetEnabled": false,
   "language": "python",
   "sourceType": "notebook"
  },
  "kernelspec": {
   "display_name": "Python 3",
   "language": "python",
   "name": "python3"
  },
  "language_info": {
   "codemirror_mode": {
    "name": "ipython",
    "version": 3
   },
   "file_extension": ".py",
   "mimetype": "text/x-python",
   "name": "python",
   "nbconvert_exporter": "python",
   "pygments_lexer": "ipython3",
   "version": "3.10.14"
  },
  "papermill": {
   "default_parameters": {},
   "duration": 1969.935612,
   "end_time": "2024-12-03T11:17:12.340461",
   "environment_variables": {},
   "exception": null,
   "input_path": "__notebook__.ipynb",
   "output_path": "__notebook__.ipynb",
   "parameters": {},
   "start_time": "2024-12-03T10:44:22.404849",
   "version": "2.6.0"
  }
 },
 "nbformat": 4,
 "nbformat_minor": 5
}
