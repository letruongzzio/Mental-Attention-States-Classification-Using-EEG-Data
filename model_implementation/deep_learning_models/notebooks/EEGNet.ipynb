{
 "cells": [
  {
   "cell_type": "markdown",
   "id": "08246219",
   "metadata": {
    "papermill": {
     "duration": 0.004472,
     "end_time": "2024-12-02T17:19:59.295194",
     "exception": false,
     "start_time": "2024-12-02T17:19:59.290722",
     "status": "completed"
    },
    "tags": []
   },
   "source": [
    "## Introduction\n",
    "This notebook builds an EEGNet model to classify states from EEG data. The process includes the steps: data input, normalization, model construction, training, and evaluation."
   ]
  },
  {
   "cell_type": "code",
   "execution_count": 1,
   "id": "f4936b05",
   "metadata": {
    "execution": {
     "iopub.execute_input": "2024-12-02T17:19:59.305932Z",
     "iopub.status.busy": "2024-12-02T17:19:59.304930Z",
     "iopub.status.idle": "2024-12-02T17:20:16.735019Z",
     "shell.execute_reply": "2024-12-02T17:20:16.733691Z"
    },
    "papermill": {
     "duration": 17.438323,
     "end_time": "2024-12-02T17:20:16.737872",
     "exception": false,
     "start_time": "2024-12-02T17:19:59.299549",
     "status": "completed"
    },
    "tags": []
   },
   "outputs": [],
   "source": [
    "import sys\n",
    "import pandas as pd\n",
    "import numpy as np\n",
    "import os\n",
    "import seaborn as sns\n",
    "import matplotlib.pyplot as plt\n",
    "import tensorflow as tf\n",
    "from sklearn.metrics import accuracy_score, classification_report, confusion_matrix, roc_curve, auc\n",
    "from sklearn.model_selection import train_test_split\n",
    "from sklearn.preprocessing import MinMaxScaler, LabelEncoder\n",
    "from tensorflow.keras.models import Model\n",
    "from tensorflow.keras.layers import Dense, Activation, Permute, Dropout\n",
    "from tensorflow.keras.layers import Conv2D, MaxPooling2D, AveragePooling2D\n",
    "from tensorflow.keras.layers import SeparableConv2D, DepthwiseConv2D\n",
    "from tensorflow.keras.layers import BatchNormalization\n",
    "from tensorflow.keras.layers import SpatialDropout2D\n",
    "from tensorflow.keras.regularizers import l1_l2\n",
    "from tensorflow.keras.layers import Input, Flatten\n",
    "from tensorflow.keras.constraints import max_norm\n",
    "from tensorflow.keras import backend as K\n",
    "from tensorflow.keras.utils import to_categorical\n",
    "from tensorflow.keras.optimizers import Adam"
   ]
  },
  {
   "cell_type": "markdown",
   "id": "e6f952bf",
   "metadata": {
    "papermill": {
     "duration": 0.003893,
     "end_time": "2024-12-02T17:20:16.746217",
     "exception": false,
     "start_time": "2024-12-02T17:20:16.742324",
     "status": "completed"
    },
    "tags": []
   },
   "source": [
    "## Load dataset"
   ]
  },
  {
   "cell_type": "code",
   "execution_count": 2,
   "id": "9147feea",
   "metadata": {
    "execution": {
     "iopub.execute_input": "2024-12-02T17:20:16.756487Z",
     "iopub.status.busy": "2024-12-02T17:20:16.755802Z",
     "iopub.status.idle": "2024-12-02T17:20:37.767446Z",
     "shell.execute_reply": "2024-12-02T17:20:37.766035Z"
    },
    "papermill": {
     "duration": 21.019548,
     "end_time": "2024-12-02T17:20:37.769801",
     "exception": false,
     "start_time": "2024-12-02T17:20:16.750253",
     "status": "completed"
    },
    "tags": []
   },
   "outputs": [
    {
     "name": "stdout",
     "output_type": "stream",
     "text": [
      "Train shape: (155822, 204), Test shape: (38956, 204)\n"
     ]
    }
   ],
   "source": [
    "df_train = pd.read_csv('/kaggle/input/data-eeg/df_train.csv')\n",
    "df_test = pd.read_csv('/kaggle/input/data-eeg/df_test.csv')\n",
    "print(f\"Train shape: {df_train.shape}, Test shape: {df_test.shape}\")"
   ]
  },
  {
   "cell_type": "markdown",
   "id": "6638c4e6",
   "metadata": {
    "papermill": {
     "duration": 0.004251,
     "end_time": "2024-12-02T17:20:39.720727",
     "exception": false,
     "start_time": "2024-12-02T17:20:39.716476",
     "status": "completed"
    },
    "tags": []
   },
   "source": [
    "## Data preprocessing"
   ]
  },
  {
   "cell_type": "code",
   "execution_count": 5,
   "id": "5d8d8d7d",
   "metadata": {
    "execution": {
     "iopub.execute_input": "2024-12-02T17:20:39.731339Z",
     "iopub.status.busy": "2024-12-02T17:20:39.730638Z",
     "iopub.status.idle": "2024-12-02T17:20:39.736342Z",
     "shell.execute_reply": "2024-12-02T17:20:39.735317Z"
    },
    "papermill": {
     "duration": 0.013511,
     "end_time": "2024-12-02T17:20:39.738535",
     "exception": false,
     "start_time": "2024-12-02T17:20:39.725024",
     "status": "completed"
    },
    "tags": []
   },
   "outputs": [],
   "source": [
    "def preprocess_data(df, scaler, encoder):\n",
    "    features = df.drop('state', axis = 1)\n",
    "    labels = df['state']\n",
    "    X_scaled = scaler.fit_transform(features)\n",
    "    y_encoded = encoder.fit_transform(labels)\n",
    "    return X_scaled, y_encoded"
   ]
  },
  {
   "cell_type": "code",
   "execution_count": 6,
   "id": "4d5e1081",
   "metadata": {
    "execution": {
     "iopub.execute_input": "2024-12-02T17:20:39.750375Z",
     "iopub.status.busy": "2024-12-02T17:20:39.749940Z",
     "iopub.status.idle": "2024-12-02T17:20:40.718305Z",
     "shell.execute_reply": "2024-12-02T17:20:40.717003Z"
    },
    "papermill": {
     "duration": 0.976977,
     "end_time": "2024-12-02T17:20:40.721079",
     "exception": false,
     "start_time": "2024-12-02T17:20:39.744102",
     "status": "completed"
    },
    "tags": []
   },
   "outputs": [],
   "source": [
    "scaler = MinMaxScaler()\n",
    "encoder = LabelEncoder()\n",
    "\n",
    "# Prepare training, validation, and test data\n",
    "X_train_scaled, y_train_encoded = preprocess_data(df_train, scaler, encoder)\n",
    "X_test, y_test = preprocess_data(df_test, scaler, encoder)\n",
    "\n",
    "X_train, X_val, y_train, y_val = train_test_split(X_train_scaled, y_train_encoded, \n",
    "                                                  test_size=0.2, random_state=42, stratify=y_train_encoded)"
   ]
  },
  {
   "cell_type": "markdown",
   "id": "e09b73a1",
   "metadata": {
    "papermill": {
     "duration": 0.00475,
     "end_time": "2024-12-02T17:20:40.730629",
     "exception": false,
     "start_time": "2024-12-02T17:20:40.725879",
     "status": "completed"
    },
    "tags": []
   },
   "source": [
    "## Define and Train EEGNet Model"
   ]
  },
  {
   "cell_type": "code",
   "execution_count": null,
   "id": "7f017ac6",
   "metadata": {
    "execution": {
     "iopub.execute_input": "2024-12-02T17:20:40.743238Z",
     "iopub.status.busy": "2024-12-02T17:20:40.742192Z",
     "iopub.status.idle": "2024-12-02T17:20:40.757055Z",
     "shell.execute_reply": "2024-12-02T17:20:40.755695Z"
    },
    "papermill": {
     "duration": 0.024008,
     "end_time": "2024-12-02T17:20:40.759757",
     "exception": false,
     "start_time": "2024-12-02T17:20:40.735749",
     "status": "completed"
    },
    "tags": []
   },
   "outputs": [],
   "source": [
    "# Define the EEGNet model\n",
    "def EEGNet(nb_classes, Chans=7, Samples=29, \n",
    "             dropoutRate=0.5, kernLength=64, F1=8, \n",
    "             D=2, F2=16, norm_rate=0.25, dropoutType='Dropout'):\n",
    "    \"\"\" Keras Implementation of EEGNet\n",
    "    http://iopscience.iop.org/article/10.1088/1741-2552/aace8c/meta\n",
    "\n",
    "    Note that this implements the newest version of EEGNet and NOT the earlier\n",
    "    version (version v1 and v2 on arxiv). We strongly recommend using this\n",
    "    architecture as it performs much better and has nicer properties than\n",
    "    our earlier version. For example:\n",
    "        \n",
    "        1. Depthwise Convolutions to learn spatial filters within a \n",
    "        temporal convolution. The use of the depth_multiplier option maps \n",
    "        exactly to the number of spatial filters learned within a temporal\n",
    "        filter. This matches the setup of algorithms like FBCSP which learn \n",
    "        spatial filters within each filter in a filter-bank. This also limits \n",
    "        the number of free parameters to fit when compared to a fully-connected\n",
    "        convolution. \n",
    "        \n",
    "        2. Separable Convolutions to learn how to optimally combine spatial\n",
    "        filters across temporal bands. Separable Convolutions are Depthwise\n",
    "        Convolutions followed by (1x1) Pointwise Convolutions. \n",
    "        \n",
    "    \n",
    "    While the original paper used Dropout, we found that SpatialDropout2D \n",
    "    sometimes produced slightly better results for classification of ERP \n",
    "    signals. However, SpatialDropout2D significantly reduced performance \n",
    "    on the Oscillatory dataset (SMR, BCI-IV Dataset 2A). We recommend using\n",
    "    the default Dropout in most cases.\n",
    "        \n",
    "    Assumes the input signal is sampled at 128Hz. If you want to use this model\n",
    "    for any other sampling rate you will need to modify the lengths of temporal\n",
    "    kernels and average pooling size in blocks 1 and 2 as needed (double the \n",
    "    kernel lengths for double the sampling rate, etc). Note that we haven't \n",
    "    tested the model performance with this rule so this may not work well. \n",
    "    \n",
    "    The model with default parameters gives the EEGNet-8,2 model as discussed\n",
    "    in the paper. This model should do pretty well in general, although it is\n",
    "\tadvised to do some model searching to get optimal performance on your\n",
    "\tparticular dataset.\n",
    "\n",
    "    We set F2 = F1 * D (number of input filters = number of output filters) for\n",
    "    the SeparableConv2D layer. We haven't extensively tested other values of this\n",
    "    parameter (say, F2 < F1 * D for compressed learning, and F2 > F1 * D for\n",
    "    overcomplete). We believe the main parameters to focus on are F1 and D. \n",
    "\n",
    "    Inputs:\n",
    "        \n",
    "      nb_classes      : int, number of classes to classify\n",
    "      Chans, Samples  : number of channels and time points in the EEG data\n",
    "      dropoutRate     : dropout fraction\n",
    "      kernLength      : length of temporal convolution in first layer. We found\n",
    "                        that setting this to be half the sampling rate worked\n",
    "                        well in practice. For the SMR dataset in particular\n",
    "                        since the data was high-passed at 4Hz we used a kernel\n",
    "                        length of 32.     \n",
    "      F1, F2          : number of temporal filters (F1) and number of pointwise\n",
    "                        filters (F2) to learn. Default: F1 = 8, F2 = F1 * D. \n",
    "      D               : number of spatial filters to learn within each temporal\n",
    "                        convolution. Default: D = 2\n",
    "      dropoutType     : Either SpatialDropout2D or Dropout, passed as a string.\n",
    "\n",
    "    \"\"\"\n",
    "    \n",
    "    if dropoutType == 'SpatialDropout2D':\n",
    "        dropoutType = SpatialDropout2D\n",
    "    elif dropoutType == 'Dropout':\n",
    "        dropoutType = Dropout\n",
    "    else:\n",
    "        raise ValueError('dropoutType must be one of SpatialDropout2D '\n",
    "                         'or Dropout, passed as a string.')\n",
    "    \n",
    "    input1   = Input(shape = (Chans, Samples, 1))\n",
    "\n",
    "    ##################################################################\n",
    "    # Block 1\n",
    "    block1       = Conv2D(F1, (1, kernLength), padding = 'same',\n",
    "                                   input_shape = (Chans, Samples, 1),\n",
    "                                   use_bias = False)(input1)\n",
    "    block1       = BatchNormalization()(block1)\n",
    "    block1       = DepthwiseConv2D((Chans, 1), use_bias = False, \n",
    "                                   depth_multiplier = D,\n",
    "                                   depthwise_constraint = max_norm(1.))(block1)\n",
    "    block1       = BatchNormalization()(block1)\n",
    "    block1       = Activation('elu')(block1)\n",
    "    block1       = AveragePooling2D((1, 4))(block1)\n",
    "    block1       = dropoutType(dropoutRate)(block1)\n",
    "\n",
    "    # Block 2\n",
    "    block2       = SeparableConv2D(F2, (1, 16),\n",
    "                                   use_bias = False, padding = 'same')(block1)\n",
    "    block2       = BatchNormalization()(block2)\n",
    "    block2       = Activation('elu')(block2)\n",
    "    block2       = AveragePooling2D((1, 4))(block2)\n",
    "    block2       = dropoutType(dropoutRate)(block2)\n",
    "    \n",
    "    # Flatten and output    \n",
    "    flatten      = Flatten(name = 'flatten')(block2)\n",
    "    dense        = Dense(nb_classes, name = 'dense', \n",
    "                         kernel_constraint = max_norm(norm_rate))(flatten)\n",
    "    softmax      = Activation('softmax', name = 'softmax')(dense)\n",
    "    \n",
    "    return Model(inputs=input1, outputs=softmax)"
   ]
  },
  {
   "cell_type": "code",
   "execution_count": 8,
   "id": "167fa3e7",
   "metadata": {
    "execution": {
     "iopub.execute_input": "2024-12-02T17:20:40.770903Z",
     "iopub.status.busy": "2024-12-02T17:20:40.770496Z",
     "iopub.status.idle": "2024-12-02T17:20:40.782800Z",
     "shell.execute_reply": "2024-12-02T17:20:40.781211Z"
    },
    "papermill": {
     "duration": 0.020766,
     "end_time": "2024-12-02T17:20:40.785294",
     "exception": false,
     "start_time": "2024-12-02T17:20:40.764528",
     "status": "completed"
    },
    "tags": []
   },
   "outputs": [
    {
     "name": "stdout",
     "output_type": "stream",
     "text": [
      "X_train shape: (124657, 7, 29, 1)\n",
      "X_val shape: (31165, 7, 29, 1)\n",
      "X_test shape: (38956, 7, 29, 1)\n"
     ]
    }
   ],
   "source": [
    "# Model Parameters\n",
    "Chans = len([\"ED_F7\", \"ED_F3\", \"ED_P7\", \"ED_O1\", \"ED_O2\", \"ED_P8\", \"ED_AF4\"])  # useful channels\n",
    "Samples = df_train.shape[1] // Chans # Number of samples per channel\n",
    "\n",
    "# Reshape data\n",
    "X_train = X_train.reshape(-1, Chans, Samples, 1)\n",
    "X_val = X_val.reshape(-1, Chans, Samples, 1)\n",
    "X_test = X_test.reshape(-1, Chans, Samples, 1)\n",
    "\n",
    "# Convert the data labels to one-hot encoded\n",
    "y_train_onehot = to_categorical(y_train, num_classes=3)\n",
    "y_val_onehot = to_categorical(y_val, num_classes=3)\n",
    "y_test_onehot = to_categorical(y_test, num_classes=3)\n",
    "\n",
    "print(f\"X_train shape: {X_train.shape}\")  # (n_samples_train, Chans, Samples, 1)\n",
    "print(f\"X_val shape: {X_val.shape}\")      # (n_samples_val, Chans, Samples, 1)\n",
    "print(f\"X_test shape: {X_test.shape}\")      # (n_samples_test, Chans, Samples, 1)"
   ]
  },
  {
   "cell_type": "code",
   "execution_count": null,
   "id": "1bcd7ad2",
   "metadata": {
    "execution": {
     "iopub.execute_input": "2024-12-02T17:20:40.796778Z",
     "iopub.status.busy": "2024-12-02T17:20:40.796338Z",
     "iopub.status.idle": "2024-12-02T18:00:35.652853Z",
     "shell.execute_reply": "2024-12-02T18:00:35.651934Z"
    },
    "papermill": {
     "duration": 2394.864869,
     "end_time": "2024-12-02T18:00:35.655084",
     "exception": false,
     "start_time": "2024-12-02T17:20:40.790215",
     "status": "completed"
    },
    "tags": []
   },
   "outputs": [
    {
     "name": "stderr",
     "output_type": "stream",
     "text": [
      "/opt/conda/lib/python3.10/site-packages/keras/src/layers/convolutional/base_conv.py:107: UserWarning: Do not pass an `input_shape`/`input_dim` argument to a layer. When using Sequential models, prefer using an `Input(shape)` object as the first layer in the model instead.\n",
      "  super().__init__(activity_regularizer=activity_regularizer, **kwargs)\n"
     ]
    },
    {
     "name": "stdout",
     "output_type": "stream",
     "text": [
      "Epoch 1/50\n",
      "\u001b[1m3896/3896\u001b[0m \u001b[32m━━━━━━━━━━━━━━━━━━━━\u001b[0m\u001b[37m\u001b[0m \u001b[1m52s\u001b[0m 13ms/step - accuracy: 0.8848 - loss: 0.3367 - val_accuracy: 0.9759 - val_loss: 0.0936\n",
      "Epoch 2/50\n",
      "\u001b[1m3896/3896\u001b[0m \u001b[32m━━━━━━━━━━━━━━━━━━━━\u001b[0m\u001b[37m\u001b[0m \u001b[1m49s\u001b[0m 13ms/step - accuracy: 0.9645 - loss: 0.1097 - val_accuracy: 0.9862 - val_loss: 0.0517\n",
      "Epoch 3/50\n",
      "\u001b[1m3896/3896\u001b[0m \u001b[32m━━━━━━━━━━━━━━━━━━━━\u001b[0m\u001b[37m\u001b[0m \u001b[1m48s\u001b[0m 12ms/step - accuracy: 0.9714 - loss: 0.0769 - val_accuracy: 0.9928 - val_loss: 0.0379\n",
      "Epoch 4/50\n",
      "\u001b[1m3896/3896\u001b[0m \u001b[32m━━━━━━━━━━━━━━━━━━━━\u001b[0m\u001b[37m\u001b[0m \u001b[1m48s\u001b[0m 12ms/step - accuracy: 0.9770 - loss: 0.0628 - val_accuracy: 0.9918 - val_loss: 0.0339\n",
      "Epoch 5/50\n",
      "\u001b[1m3896/3896\u001b[0m \u001b[32m━━━━━━━━━━━━━━━━━━━━\u001b[0m\u001b[37m\u001b[0m \u001b[1m47s\u001b[0m 12ms/step - accuracy: 0.9787 - loss: 0.0565 - val_accuracy: 0.9907 - val_loss: 0.0308\n",
      "Epoch 6/50\n",
      "\u001b[1m3896/3896\u001b[0m \u001b[32m━━━━━━━━━━━━━━━━━━━━\u001b[0m\u001b[37m\u001b[0m \u001b[1m47s\u001b[0m 12ms/step - accuracy: 0.9811 - loss: 0.0501 - val_accuracy: 0.9917 - val_loss: 0.0267\n",
      "Epoch 7/50\n",
      "\u001b[1m3896/3896\u001b[0m \u001b[32m━━━━━━━━━━━━━━━━━━━━\u001b[0m\u001b[37m\u001b[0m \u001b[1m47s\u001b[0m 12ms/step - accuracy: 0.9821 - loss: 0.0469 - val_accuracy: 0.9923 - val_loss: 0.0246\n",
      "Epoch 8/50\n",
      "\u001b[1m3896/3896\u001b[0m \u001b[32m━━━━━━━━━━━━━━━━━━━━\u001b[0m\u001b[37m\u001b[0m \u001b[1m47s\u001b[0m 12ms/step - accuracy: 0.9841 - loss: 0.0423 - val_accuracy: 0.9945 - val_loss: 0.0216\n",
      "Epoch 9/50\n",
      "\u001b[1m3896/3896\u001b[0m \u001b[32m━━━━━━━━━━━━━━━━━━━━\u001b[0m\u001b[37m\u001b[0m \u001b[1m48s\u001b[0m 12ms/step - accuracy: 0.9832 - loss: 0.0428 - val_accuracy: 0.9945 - val_loss: 0.0216\n",
      "Epoch 10/50\n",
      "\u001b[1m3896/3896\u001b[0m \u001b[32m━━━━━━━━━━━━━━━━━━━━\u001b[0m\u001b[37m\u001b[0m \u001b[1m47s\u001b[0m 12ms/step - accuracy: 0.9848 - loss: 0.0393 - val_accuracy: 0.9946 - val_loss: 0.0198\n",
      "Epoch 11/50\n",
      "\u001b[1m3896/3896\u001b[0m \u001b[32m━━━━━━━━━━━━━━━━━━━━\u001b[0m\u001b[37m\u001b[0m \u001b[1m48s\u001b[0m 12ms/step - accuracy: 0.9852 - loss: 0.0378 - val_accuracy: 0.9921 - val_loss: 0.0227\n",
      "Epoch 12/50\n",
      "\u001b[1m3896/3896\u001b[0m \u001b[32m━━━━━━━━━━━━━━━━━━━━\u001b[0m\u001b[37m\u001b[0m \u001b[1m48s\u001b[0m 12ms/step - accuracy: 0.9857 - loss: 0.0370 - val_accuracy: 0.9941 - val_loss: 0.0198\n",
      "Epoch 13/50\n",
      "\u001b[1m3896/3896\u001b[0m \u001b[32m━━━━━━━━━━━━━━━━━━━━\u001b[0m\u001b[37m\u001b[0m \u001b[1m47s\u001b[0m 12ms/step - accuracy: 0.9862 - loss: 0.0358 - val_accuracy: 0.9903 - val_loss: 0.0232\n",
      "Epoch 14/50\n",
      "\u001b[1m3896/3896\u001b[0m \u001b[32m━━━━━━━━━━━━━━━━━━━━\u001b[0m\u001b[37m\u001b[0m \u001b[1m46s\u001b[0m 12ms/step - accuracy: 0.9866 - loss: 0.0336 - val_accuracy: 0.9924 - val_loss: 0.0200\n",
      "Epoch 15/50\n",
      "\u001b[1m3896/3896\u001b[0m \u001b[32m━━━━━━━━━━━━━━━━━━━━\u001b[0m\u001b[37m\u001b[0m \u001b[1m46s\u001b[0m 12ms/step - accuracy: 0.9869 - loss: 0.0341 - val_accuracy: 0.9888 - val_loss: 0.0246\n",
      "Epoch 16/50\n",
      "\u001b[1m3896/3896\u001b[0m \u001b[32m━━━━━━━━━━━━━━━━━━━━\u001b[0m\u001b[37m\u001b[0m \u001b[1m47s\u001b[0m 12ms/step - accuracy: 0.9873 - loss: 0.0324 - val_accuracy: 0.9949 - val_loss: 0.0166\n",
      "Epoch 17/50\n",
      "\u001b[1m3896/3896\u001b[0m \u001b[32m━━━━━━━━━━━━━━━━━━━━\u001b[0m\u001b[37m\u001b[0m \u001b[1m46s\u001b[0m 12ms/step - accuracy: 0.9878 - loss: 0.0325 - val_accuracy: 0.9956 - val_loss: 0.0152\n",
      "Epoch 18/50\n",
      "\u001b[1m3896/3896\u001b[0m \u001b[32m━━━━━━━━━━━━━━━━━━━━\u001b[0m\u001b[37m\u001b[0m \u001b[1m47s\u001b[0m 12ms/step - accuracy: 0.9889 - loss: 0.0294 - val_accuracy: 0.9917 - val_loss: 0.0209\n",
      "Epoch 19/50\n",
      "\u001b[1m3896/3896\u001b[0m \u001b[32m━━━━━━━━━━━━━━━━━━━━\u001b[0m\u001b[37m\u001b[0m \u001b[1m46s\u001b[0m 12ms/step - accuracy: 0.9887 - loss: 0.0299 - val_accuracy: 0.9915 - val_loss: 0.0208\n",
      "Epoch 20/50\n",
      "\u001b[1m3896/3896\u001b[0m \u001b[32m━━━━━━━━━━━━━━━━━━━━\u001b[0m\u001b[37m\u001b[0m \u001b[1m47s\u001b[0m 12ms/step - accuracy: 0.9889 - loss: 0.0301 - val_accuracy: 0.9958 - val_loss: 0.0146\n",
      "Epoch 21/50\n",
      "\u001b[1m3896/3896\u001b[0m \u001b[32m━━━━━━━━━━━━━━━━━━━━\u001b[0m\u001b[37m\u001b[0m \u001b[1m47s\u001b[0m 12ms/step - accuracy: 0.9889 - loss: 0.0293 - val_accuracy: 0.9958 - val_loss: 0.0145\n",
      "Epoch 22/50\n",
      "\u001b[1m3896/3896\u001b[0m \u001b[32m━━━━━━━━━━━━━━━━━━━━\u001b[0m\u001b[37m\u001b[0m \u001b[1m47s\u001b[0m 12ms/step - accuracy: 0.9890 - loss: 0.0291 - val_accuracy: 0.9968 - val_loss: 0.0142\n",
      "Epoch 23/50\n",
      "\u001b[1m3896/3896\u001b[0m \u001b[32m━━━━━━━━━━━━━━━━━━━━\u001b[0m\u001b[37m\u001b[0m \u001b[1m48s\u001b[0m 12ms/step - accuracy: 0.9887 - loss: 0.0293 - val_accuracy: 0.9933 - val_loss: 0.0176\n",
      "Epoch 24/50\n",
      "\u001b[1m3896/3896\u001b[0m \u001b[32m━━━━━━━━━━━━━━━━━━━━\u001b[0m\u001b[37m\u001b[0m \u001b[1m48s\u001b[0m 12ms/step - accuracy: 0.9886 - loss: 0.0285 - val_accuracy: 0.9914 - val_loss: 0.0194\n",
      "Epoch 25/50\n",
      "\u001b[1m3896/3896\u001b[0m \u001b[32m━━━━━━━━━━━━━━━━━━━━\u001b[0m\u001b[37m\u001b[0m \u001b[1m48s\u001b[0m 12ms/step - accuracy: 0.9886 - loss: 0.0289 - val_accuracy: 0.9968 - val_loss: 0.0129\n",
      "Epoch 26/50\n",
      "\u001b[1m3896/3896\u001b[0m \u001b[32m━━━━━━━━━━━━━━━━━━━━\u001b[0m\u001b[37m\u001b[0m \u001b[1m48s\u001b[0m 12ms/step - accuracy: 0.9895 - loss: 0.0270 - val_accuracy: 0.9923 - val_loss: 0.0187\n",
      "Epoch 27/50\n",
      "\u001b[1m3896/3896\u001b[0m \u001b[32m━━━━━━━━━━━━━━━━━━━━\u001b[0m\u001b[37m\u001b[0m \u001b[1m48s\u001b[0m 12ms/step - accuracy: 0.9888 - loss: 0.0289 - val_accuracy: 0.9922 - val_loss: 0.0194\n",
      "Epoch 28/50\n",
      "\u001b[1m3896/3896\u001b[0m \u001b[32m━━━━━━━━━━━━━━━━━━━━\u001b[0m\u001b[37m\u001b[0m \u001b[1m48s\u001b[0m 12ms/step - accuracy: 0.9892 - loss: 0.0278 - val_accuracy: 0.9965 - val_loss: 0.0121\n",
      "Epoch 29/50\n",
      "\u001b[1m3896/3896\u001b[0m \u001b[32m━━━━━━━━━━━━━━━━━━━━\u001b[0m\u001b[37m\u001b[0m \u001b[1m49s\u001b[0m 13ms/step - accuracy: 0.9897 - loss: 0.0263 - val_accuracy: 0.9957 - val_loss: 0.0138\n",
      "Epoch 30/50\n",
      "\u001b[1m3896/3896\u001b[0m \u001b[32m━━━━━━━━━━━━━━━━━━━━\u001b[0m\u001b[37m\u001b[0m \u001b[1m50s\u001b[0m 13ms/step - accuracy: 0.9896 - loss: 0.0267 - val_accuracy: 0.9939 - val_loss: 0.0152\n",
      "Epoch 31/50\n",
      "\u001b[1m3896/3896\u001b[0m \u001b[32m━━━━━━━━━━━━━━━━━━━━\u001b[0m\u001b[37m\u001b[0m \u001b[1m50s\u001b[0m 13ms/step - accuracy: 0.9906 - loss: 0.0247 - val_accuracy: 0.9868 - val_loss: 0.0287\n",
      "Epoch 32/50\n",
      "\u001b[1m3896/3896\u001b[0m \u001b[32m━━━━━━━━━━━━━━━━━━━━\u001b[0m\u001b[37m\u001b[0m \u001b[1m50s\u001b[0m 13ms/step - accuracy: 0.9900 - loss: 0.0262 - val_accuracy: 0.9961 - val_loss: 0.0128\n",
      "Epoch 33/50\n",
      "\u001b[1m3896/3896\u001b[0m \u001b[32m━━━━━━━━━━━━━━━━━━━━\u001b[0m\u001b[37m\u001b[0m \u001b[1m48s\u001b[0m 12ms/step - accuracy: 0.9901 - loss: 0.0257 - val_accuracy: 0.9958 - val_loss: 0.0134\n",
      "Epoch 34/50\n",
      "\u001b[1m3896/3896\u001b[0m \u001b[32m━━━━━━━━━━━━━━━━━━━━\u001b[0m\u001b[37m\u001b[0m \u001b[1m47s\u001b[0m 12ms/step - accuracy: 0.9897 - loss: 0.0263 - val_accuracy: 0.9969 - val_loss: 0.0115\n",
      "Epoch 35/50\n",
      "\u001b[1m3896/3896\u001b[0m \u001b[32m━━━━━━━━━━━━━━━━━━━━\u001b[0m\u001b[37m\u001b[0m \u001b[1m47s\u001b[0m 12ms/step - accuracy: 0.9906 - loss: 0.0246 - val_accuracy: 0.9901 - val_loss: 0.0209\n",
      "Epoch 36/50\n",
      "\u001b[1m3896/3896\u001b[0m \u001b[32m━━━━━━━━━━━━━━━━━━━━\u001b[0m\u001b[37m\u001b[0m \u001b[1m48s\u001b[0m 12ms/step - accuracy: 0.9905 - loss: 0.0246 - val_accuracy: 0.9967 - val_loss: 0.0121\n",
      "Epoch 37/50\n",
      "\u001b[1m3896/3896\u001b[0m \u001b[32m━━━━━━━━━━━━━━━━━━━━\u001b[0m\u001b[37m\u001b[0m \u001b[1m49s\u001b[0m 13ms/step - accuracy: 0.9900 - loss: 0.0249 - val_accuracy: 0.9938 - val_loss: 0.0152\n",
      "Epoch 38/50\n",
      "\u001b[1m3896/3896\u001b[0m \u001b[32m━━━━━━━━━━━━━━━━━━━━\u001b[0m\u001b[37m\u001b[0m \u001b[1m49s\u001b[0m 13ms/step - accuracy: 0.9901 - loss: 0.0250 - val_accuracy: 0.9913 - val_loss: 0.0197\n",
      "Epoch 39/50\n",
      "\u001b[1m3896/3896\u001b[0m \u001b[32m━━━━━━━━━━━━━━━━━━━━\u001b[0m\u001b[37m\u001b[0m \u001b[1m49s\u001b[0m 13ms/step - accuracy: 0.9902 - loss: 0.0256 - val_accuracy: 0.9924 - val_loss: 0.0174\n",
      "Epoch 40/50\n",
      "\u001b[1m3896/3896\u001b[0m \u001b[32m━━━━━━━━━━━━━━━━━━━━\u001b[0m\u001b[37m\u001b[0m \u001b[1m48s\u001b[0m 12ms/step - accuracy: 0.9909 - loss: 0.0236 - val_accuracy: 0.9875 - val_loss: 0.0309\n",
      "Epoch 41/50\n",
      "\u001b[1m3896/3896\u001b[0m \u001b[32m━━━━━━━━━━━━━━━━━━━━\u001b[0m\u001b[37m\u001b[0m \u001b[1m49s\u001b[0m 13ms/step - accuracy: 0.9903 - loss: 0.0254 - val_accuracy: 0.9941 - val_loss: 0.0148\n",
      "Epoch 42/50\n",
      "\u001b[1m3896/3896\u001b[0m \u001b[32m━━━━━━━━━━━━━━━━━━━━\u001b[0m\u001b[37m\u001b[0m \u001b[1m48s\u001b[0m 12ms/step - accuracy: 0.9908 - loss: 0.0231 - val_accuracy: 0.9917 - val_loss: 0.0193\n",
      "Epoch 43/50\n",
      "\u001b[1m3896/3896\u001b[0m \u001b[32m━━━━━━━━━━━━━━━━━━━━\u001b[0m\u001b[37m\u001b[0m \u001b[1m49s\u001b[0m 13ms/step - accuracy: 0.9906 - loss: 0.0244 - val_accuracy: 0.9971 - val_loss: 0.0107\n",
      "Epoch 44/50\n",
      "\u001b[1m3896/3896\u001b[0m \u001b[32m━━━━━━━━━━━━━━━━━━━━\u001b[0m\u001b[37m\u001b[0m \u001b[1m47s\u001b[0m 12ms/step - accuracy: 0.9911 - loss: 0.0235 - val_accuracy: 0.9947 - val_loss: 0.0139\n",
      "Epoch 45/50\n",
      "\u001b[1m3896/3896\u001b[0m \u001b[32m━━━━━━━━━━━━━━━━━━━━\u001b[0m\u001b[37m\u001b[0m \u001b[1m48s\u001b[0m 12ms/step - accuracy: 0.9904 - loss: 0.0242 - val_accuracy: 0.9935 - val_loss: 0.0154\n",
      "Epoch 46/50\n",
      "\u001b[1m3896/3896\u001b[0m \u001b[32m━━━━━━━━━━━━━━━━━━━━\u001b[0m\u001b[37m\u001b[0m \u001b[1m47s\u001b[0m 12ms/step - accuracy: 0.9908 - loss: 0.0239 - val_accuracy: 0.9950 - val_loss: 0.0131\n",
      "Epoch 47/50\n",
      "\u001b[1m3896/3896\u001b[0m \u001b[32m━━━━━━━━━━━━━━━━━━━━\u001b[0m\u001b[37m\u001b[0m \u001b[1m47s\u001b[0m 12ms/step - accuracy: 0.9906 - loss: 0.0241 - val_accuracy: 0.9960 - val_loss: 0.0117\n",
      "Epoch 48/50\n",
      "\u001b[1m3896/3896\u001b[0m \u001b[32m━━━━━━━━━━━━━━━━━━━━\u001b[0m\u001b[37m\u001b[0m \u001b[1m48s\u001b[0m 12ms/step - accuracy: 0.9916 - loss: 0.0222 - val_accuracy: 0.9927 - val_loss: 0.0186\n",
      "Epoch 49/50\n",
      "\u001b[1m3896/3896\u001b[0m \u001b[32m━━━━━━━━━━━━━━━━━━━━\u001b[0m\u001b[37m\u001b[0m \u001b[1m47s\u001b[0m 12ms/step - accuracy: 0.9912 - loss: 0.0233 - val_accuracy: 0.9951 - val_loss: 0.0126\n",
      "Epoch 50/50\n",
      "\u001b[1m3896/3896\u001b[0m \u001b[32m━━━━━━━━━━━━━━━━━━━━\u001b[0m\u001b[37m\u001b[0m \u001b[1m48s\u001b[0m 12ms/step - accuracy: 0.9914 - loss: 0.0229 - val_accuracy: 0.9928 - val_loss: 0.0163\n"
     ]
    }
   ],
   "source": [
    "# Initialize EEGNet model\n",
    "eeg_net = EEGNet(\n",
    "    nb_classes=3,       # Number of states: Focused, Unfocused, Drowsy\n",
    "    Chans=Chans,           # Number of EEG channels\n",
    "    Samples=Samples,        # Samples per channel\n",
    "    kernLength=64,      # Kernel temporal: suitable for 128Hz\n",
    "    F1=16,              # Number of temporal filters\n",
    "    D=2,                # Spatial Filter\n",
    "    F2=32,              # Total filter number\n",
    "    dropoutRate=0.5,    # Dropout to avoid overfitting\n",
    "    dropoutType='Dropout'\n",
    ")\n",
    "\n",
    "# Compile EEGNet model\n",
    "eeg_net.compile(\n",
    "    loss='categorical_crossentropy',  # Multi-layer classification\n",
    "    optimizer=Adam(learning_rate=0.001),  # Adam optimizer with low learning rate\n",
    "    metrics=['accuracy']  # Evaluate by accuracy\n",
    ")\n",
    "\n",
    "# Train model\n",
    "history = eeg_net.fit(\n",
    "    X_train, \n",
    "    y_train_onehot, \n",
    "    epochs=50, \n",
    "    batch_size=32, \n",
    "    validation_data=(X_val, y_val_onehot) # Use validation_data to validate in each epoch\n",
    ")"
   ]
  },
  {
   "cell_type": "markdown",
   "id": "ea9462d9",
   "metadata": {
    "papermill": {
     "duration": 2.422871,
     "end_time": "2024-12-02T18:00:40.424534",
     "exception": false,
     "start_time": "2024-12-02T18:00:38.001663",
     "status": "completed"
    },
    "tags": []
   },
   "source": [
    "## Evaluation"
   ]
  },
  {
   "cell_type": "code",
   "execution_count": 10,
   "id": "0832d303",
   "metadata": {
    "execution": {
     "iopub.execute_input": "2024-12-02T18:00:45.254504Z",
     "iopub.status.busy": "2024-12-02T18:00:45.254102Z",
     "iopub.status.idle": "2024-12-02T18:00:51.422622Z",
     "shell.execute_reply": "2024-12-02T18:00:51.421410Z"
    },
    "papermill": {
     "duration": 8.611907,
     "end_time": "2024-12-02T18:00:51.424725",
     "exception": false,
     "start_time": "2024-12-02T18:00:42.812818",
     "status": "completed"
    },
    "tags": []
   },
   "outputs": [
    {
     "name": "stdout",
     "output_type": "stream",
     "text": [
      "\u001b[1m1218/1218\u001b[0m \u001b[32m━━━━━━━━━━━━━━━━━━━━\u001b[0m\u001b[37m\u001b[0m \u001b[1m5s\u001b[0m 4ms/step\n",
      "Accuracy: 0.9947376527364206\n",
      "Classification Report:\n",
      "              precision    recall  f1-score   support\n",
      "\n",
      "           0       1.00      1.00      1.00     22863\n",
      "           1       0.99      1.00      0.99      7991\n",
      "           2       0.99      0.99      0.99      8102\n",
      "\n",
      "    accuracy                           0.99     38956\n",
      "   macro avg       0.99      0.99      0.99     38956\n",
      "weighted avg       0.99      0.99      0.99     38956\n",
      "\n"
     ]
    }
   ],
   "source": [
    "# Evaluate the model on the test set\n",
    "y_pred = np.argmax(eeg_net.predict(X_test), axis=1)\n",
    "\n",
    "accuracy = accuracy_score(y_test, y_pred)\n",
    "print(f\"Accuracy: {accuracy}\")\n",
    "\n",
    "print(f\"Classification Report:\")\n",
    "print(classification_report(y_pred, y_test))"
   ]
  },
  {
   "cell_type": "markdown",
   "id": "e8e56f0d",
   "metadata": {
    "execution": {
     "iopub.execute_input": "2024-12-02T16:16:24.757504Z",
     "iopub.status.busy": "2024-12-02T16:16:24.757080Z",
     "iopub.status.idle": "2024-12-02T16:16:24.780747Z",
     "shell.execute_reply": "2024-12-02T16:16:24.779754Z",
     "shell.execute_reply.started": "2024-12-02T16:16:24.757455Z"
    },
    "papermill": {
     "duration": 2.433176,
     "end_time": "2024-12-02T18:00:56.182147",
     "exception": false,
     "start_time": "2024-12-02T18:00:53.748971",
     "status": "completed"
    },
    "tags": []
   },
   "source": [
    "## Visualization\n",
    "#### Confusion matrix"
   ]
  },
  {
   "cell_type": "code",
   "execution_count": 11,
   "id": "a6e63cb1",
   "metadata": {
    "execution": {
     "iopub.execute_input": "2024-12-02T18:01:00.905622Z",
     "iopub.status.busy": "2024-12-02T18:01:00.904683Z",
     "iopub.status.idle": "2024-12-02T18:01:01.154646Z",
     "shell.execute_reply": "2024-12-02T18:01:01.153632Z"
    },
    "papermill": {
     "duration": 2.661648,
     "end_time": "2024-12-02T18:01:01.157039",
     "exception": false,
     "start_time": "2024-12-02T18:00:58.495391",
     "status": "completed"
    },
    "tags": []
   },
   "outputs": [
    {
     "data": {
      "image/png": "[encoded data removed]",
      "text/plain": [
       "<Figure size 640x480 with 2 Axes>"
      ]
     },
     "metadata": {},
     "output_type": "display_data"
    }
   ],
   "source": [
    "cm = confusion_matrix(y_test, y_pred)\n",
    "sns.heatmap(cm, annot=True, fmt='d', cmap='Blues')\n",
    "plt.xlabel('Predicted')\n",
    "plt.ylabel('True')\n",
    "plt.title('Confusion Matrix')\n",
    "plt.show()"
   ]
  },
  {
   "cell_type": "markdown",
   "id": "e6c6d179",
   "metadata": {
    "papermill": {
     "duration": 2.431829,
     "end_time": "2024-12-02T18:01:05.897340",
     "exception": false,
     "start_time": "2024-12-02T18:01:03.465511",
     "status": "completed"
    },
    "tags": []
   },
   "source": [
    "#### ROC curve"
   ]
  },
  {
   "cell_type": "code",
   "execution_count": 12,
   "id": "82bdb0e7",
   "metadata": {
    "execution": {
     "iopub.execute_input": "2024-12-02T18:01:10.630536Z",
     "iopub.status.busy": "2024-12-02T18:01:10.630123Z",
     "iopub.status.idle": "2024-12-02T18:01:10.864173Z",
     "shell.execute_reply": "2024-12-02T18:01:10.863087Z"
    },
    "papermill": {
     "duration": 2.640984,
     "end_time": "2024-12-02T18:01:10.866231",
     "exception": false,
     "start_time": "2024-12-02T18:01:08.225247",
     "status": "completed"
    },
    "tags": []
   },
   "outputs": [
    {
     "data": {
      "image/png": "[encoded data removed]",
      "text/plain": [
       "<Figure size 640x480 with 1 Axes>"
      ]
     },
     "metadata": {},
     "output_type": "display_data"
    }
   ],
   "source": [
    "y_pred_onehot = to_categorical(y_pred, num_classes=3)\n",
    "\n",
    "n_classes = 3\n",
    "fpr = {}\n",
    "tpr = {}\n",
    "roc_auc = {}\n",
    "\n",
    "# Calculate ROC for each class\n",
    "for i in range(n_classes):\n",
    "    fpr[i], tpr[i], _ = roc_curve(y_test_onehot[:, i], y_pred_onehot[:, i])\n",
    "    roc_auc[i] = auc(fpr[i], tpr[i])\n",
    "\n",
    "# Plot ROC curve for each class\n",
    "plt.figure()\n",
    "colors = ['blue', 'orange', 'green']\n",
    "for i in range(n_classes):\n",
    "    plt.plot(fpr[i], tpr[i], color=colors[i], lw=2,\n",
    "             label=f'ROC curve for class {i} (AUC = {roc_auc[i]:.2f})')\n",
    "\n",
    "plt.plot([0, 1], [0, 1], color='gray', linestyle='--', label='Random Guess')\n",
    "plt.xlabel('False Positive Rate')\n",
    "plt.ylabel('True Positive Rate')\n",
    "plt.title('ROC Curve')\n",
    "plt.legend(loc=\"lower right\")\n",
    "plt.show()"
   ]
  }
 ],
 "metadata": {
  "kaggle": {
   "accelerator": "none",
   "dataSources": [
    {
     "datasetId": 6202660,
     "sourceId": 10064695,
     "sourceType": "datasetVersion"
    }
   ],
   "dockerImageVersionId": 30786,
   "isGpuEnabled": false,
   "isInternetEnabled": false,
   "language": "python",
   "sourceType": "notebook"
  },
  "kernelspec": {
   "display_name": "Python 3",
   "language": "python",
   "name": "python3"
  },
  "language_info": {
   "codemirror_mode": {
    "name": "ipython",
    "version": 3
   },
   "file_extension": ".py",
   "mimetype": "text/x-python",
   "name": "python",
   "nbconvert_exporter": "python",
   "pygments_lexer": "ipython3",
   "version": "3.10.14"
  },
  "papermill": {
   "default_parameters": {},
   "duration": 2478.454135,
   "end_time": "2024-12-02T18:01:14.920318",
   "environment_variables": {},
   "exception": null,
   "input_path": "__notebook__.ipynb",
   "output_path": "__notebook__.ipynb",
   "parameters": {},
   "start_time": "2024-12-02T17:19:56.466183",
   "version": "2.6.0"
  }
 },
 "nbformat": 4,
 "nbformat_minor": 5
}
